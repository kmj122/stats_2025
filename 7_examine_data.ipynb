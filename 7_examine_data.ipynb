{
  "nbformat": 4,
  "nbformat_minor": 0,
  "metadata": {
    "colab": {
      "provenance": [],
      "include_colab_link": true
    },
    "kernelspec": {
      "name": "python3",
      "display_name": "Python 3"
    },
    "language_info": {
      "name": "python"
    }
  },
  "cells": [
    {
      "cell_type": "markdown",
      "metadata": {
        "id": "view-in-github",
        "colab_type": "text"
      },
      "source": [
        "<a href=\"https://colab.research.google.com/github/kmj122/stats_2025/blob/main/7_examine_data.ipynb\" target=\"_parent\"><img src=\"https://colab.research.google.com/assets/colab-badge.svg\" alt=\"Open In Colab\"/></a>"
      ]
    },
    {
      "cell_type": "markdown",
      "source": [
        "###**<font color = 'red'> 🐹🐾 Examing data**\n",
        "\n",
        "- [정보문화사 파이썬 머신러닝 판다스 데이터 분석](http://www.infopub.co.kr/new/include/detail.asp?sku=05000266) ➡️ 샘플자료 다운로드 (우측 하단)"
      ],
      "metadata": {
        "id": "YBoUnRxrLbNJ"
      }
    },
    {
      "cell_type": "code",
      "source": [
        "!git clone 'https://github.com/ms624atyale/Pandas_Stats_Data_Analysis_2025'"
      ],
      "metadata": {
        "colab": {
          "base_uri": "https://localhost:8080/"
        },
        "id": "9TpypoOPM33x",
        "outputId": "94749dac-e36f-48f0-9ee5-3e69587d9286"
      },
      "execution_count": null,
      "outputs": [
        {
          "output_type": "stream",
          "name": "stdout",
          "text": [
            "Cloning into 'Pandas_Stats_Data_Analysis_2025'...\n",
            "remote: Enumerating objects: 424, done.\u001b[K\n",
            "remote: Counting objects: 100% (121/121), done.\u001b[K\n",
            "remote: Compressing objects: 100% (54/54), done.\u001b[K\n",
            "remote: Total 424 (delta 98), reused 65 (delta 65), pack-reused 303 (from 1)\u001b[K\n",
            "Receiving objects: 100% (424/424), 4.76 MiB | 6.54 MiB/s, done.\n",
            "Resolving deltas: 100% (232/232), done.\n"
          ]
        }
      ]
    },
    {
      "cell_type": "markdown",
      "source": [
        "#🐹🐾**Skiming data**"
      ],
      "metadata": {
        "id": "2yyw90n86PL4"
      }
    },
    {
      "cell_type": "markdown",
      "source": [
        "###**<font color = 'red'> 🐹🐾 Auto MPG (자동차 연비)**\n",
        "\"/FOLDER/정보문화사_판다스_텍스트북샘플데이터/part4/auto-mpg.csv\""
      ],
      "metadata": {
        "id": "laF0M7SpLCfz"
      }
    },
    {
      "cell_type": "code",
      "source": [
        "import pandas as pd\n",
        "\n",
        "df = pd.read_csv(\"/content/Pandas_Stats_Data_Analysis_2025/auto-mpg.csv\", header = None)    #제대로 돌아가면 경로 지정이 제대로 된 것임. 내가 이제 작업하고자 하는 경로 지정이 제대로 됨.\n",
        "\n"
      ],
      "metadata": {
        "id": "VzZ61G0WaEgF"
      },
      "execution_count": null,
      "outputs": []
    },
    {
      "cell_type": "code",
      "source": [
        "# csv (comma separated values) format\n",
        "# -*- coding: utf-8 -*-\n",
        "\n",
        "import pandas as pd\n",
        "\n",
        "#read_csv()함수로 df 생성 🆘 caution: read_csv(), NOT *read.csv()\n",
        "df = pd.read_csv(\"/content/Pandas_Stats_Data_Analysis_2025/auto-mpg.csv\", header=None)\n",
        "\n",
        "#columns열 이름 지정 🆘 df.columns = [], NOT *df.columns[]\n",
        "df.columns = ['mpg', 'cylinders','displacement', 'horsepoweer', 'weight', 'acceleration', 'model year', 'origin', 'name']\n",
        "\n",
        "#data frame 내용 일부 확인하기\n",
        "print(df.head())\n",
        "print('\\n')\n",
        "print(df.tail())\n",
        "print('\\n')\n",
        "\n",
        "#tuple 형태로 행과 열의 개수를 보여주며 데이터프레임의 크기 출력 🆘 print(df.shape), NOT*print(df.shape())\n",
        "print(df.shape)\n",
        "\n",
        "#info()method를 데이터프레임에 적용 ➡️  클래스 유형, 행 인덱스으 구성, 열 이름의 종류와 개수, 각 열의 자료형과 개수, 메모리 할당량 정보 포함하여 출력\n",
        "print(df.info())\n",
        "\n",
        "#데이터프레임의 df자료형 확인하기 🆘 print(df.dtypes), NOT*print(df.dtypes())\n",
        "print(df.dtypes)\n",
        "print('\\n')\n",
        "\n",
        "# 시리즈(mpg 열)의 자료형 확인하기 🆘 print(df.mpg,dtypes), NOT*print(df.mpg.dtypes())\n",
        "print(df.mpg.dtype)\n",
        "print('\\n')\n",
        "\n",
        "#데이터프레임 df기술통계정보 확인하기\n",
        "\n",
        "# 데이터프레임 df의 기술통계 정보 확인\n",
        "print(df.describe())\n",
        "print('\\n')\n",
        "\n",
        "print(df.describe(include='all'))\n",
        "\n"
      ],
      "metadata": {
        "colab": {
          "base_uri": "https://localhost:8080/"
        },
        "id": "pq2pkeHvTJfD",
        "outputId": "52d3b933-d0b4-4822-b1ea-323840d411b7"
      },
      "execution_count": null,
      "outputs": [
        {
          "output_type": "stream",
          "name": "stdout",
          "text": [
            "    mpg  cylinders  displacement horsepoweer  weight  acceleration  \\\n",
            "0  18.0          8         307.0       130.0  3504.0          12.0   \n",
            "1  15.0          8         350.0       165.0  3693.0          11.5   \n",
            "2  18.0          8         318.0       150.0  3436.0          11.0   \n",
            "3  16.0          8         304.0       150.0  3433.0          12.0   \n",
            "4  17.0          8         302.0       140.0  3449.0          10.5   \n",
            "\n",
            "   model year  origin                       name  \n",
            "0          70       1  chevrolet chevelle malibu  \n",
            "1          70       1          buick skylark 320  \n",
            "2          70       1         plymouth satellite  \n",
            "3          70       1              amc rebel sst  \n",
            "4          70       1                ford torino  \n",
            "\n",
            "\n",
            "      mpg  cylinders  displacement horsepoweer  weight  acceleration  \\\n",
            "393  27.0          4         140.0       86.00  2790.0          15.6   \n",
            "394  44.0          4          97.0       52.00  2130.0          24.6   \n",
            "395  32.0          4         135.0       84.00  2295.0          11.6   \n",
            "396  28.0          4         120.0       79.00  2625.0          18.6   \n",
            "397  31.0          4         119.0       82.00  2720.0          19.4   \n",
            "\n",
            "     model year  origin             name  \n",
            "393          82       1  ford mustang gl  \n",
            "394          82       2        vw pickup  \n",
            "395          82       1    dodge rampage  \n",
            "396          82       1      ford ranger  \n",
            "397          82       1       chevy s-10  \n",
            "\n",
            "\n",
            "(398, 9)\n",
            "<class 'pandas.core.frame.DataFrame'>\n",
            "RangeIndex: 398 entries, 0 to 397\n",
            "Data columns (total 9 columns):\n",
            " #   Column        Non-Null Count  Dtype  \n",
            "---  ------        --------------  -----  \n",
            " 0   mpg           398 non-null    float64\n",
            " 1   cylinders     398 non-null    int64  \n",
            " 2   displacement  398 non-null    float64\n",
            " 3   horsepoweer   398 non-null    object \n",
            " 4   weight        398 non-null    float64\n",
            " 5   acceleration  398 non-null    float64\n",
            " 6   model year    398 non-null    int64  \n",
            " 7   origin        398 non-null    int64  \n",
            " 8   name          398 non-null    object \n",
            "dtypes: float64(4), int64(3), object(2)\n",
            "memory usage: 28.1+ KB\n",
            "None\n",
            "mpg             float64\n",
            "cylinders         int64\n",
            "displacement    float64\n",
            "horsepoweer      object\n",
            "weight          float64\n",
            "acceleration    float64\n",
            "model year        int64\n",
            "origin            int64\n",
            "name             object\n",
            "dtype: object\n",
            "\n",
            "\n",
            "float64\n",
            "\n",
            "\n",
            "              mpg   cylinders  displacement       weight  acceleration  \\\n",
            "count  398.000000  398.000000    398.000000   398.000000    398.000000   \n",
            "mean    23.514573    5.454774    193.425879  2970.424623     15.568090   \n",
            "std      7.815984    1.701004    104.269838   846.841774      2.757689   \n",
            "min      9.000000    3.000000     68.000000  1613.000000      8.000000   \n",
            "25%     17.500000    4.000000    104.250000  2223.750000     13.825000   \n",
            "50%     23.000000    4.000000    148.500000  2803.500000     15.500000   \n",
            "75%     29.000000    8.000000    262.000000  3608.000000     17.175000   \n",
            "max     46.600000    8.000000    455.000000  5140.000000     24.800000   \n",
            "\n",
            "       model year      origin  \n",
            "count  398.000000  398.000000  \n",
            "mean    76.010050    1.572864  \n",
            "std      3.697627    0.802055  \n",
            "min     70.000000    1.000000  \n",
            "25%     73.000000    1.000000  \n",
            "50%     76.000000    1.000000  \n",
            "75%     79.000000    2.000000  \n",
            "max     82.000000    3.000000  \n",
            "\n",
            "\n",
            "               mpg   cylinders  displacement horsepoweer       weight  \\\n",
            "count   398.000000  398.000000    398.000000         398   398.000000   \n",
            "unique         NaN         NaN           NaN          94          NaN   \n",
            "top            NaN         NaN           NaN       150.0          NaN   \n",
            "freq           NaN         NaN           NaN          22          NaN   \n",
            "mean     23.514573    5.454774    193.425879         NaN  2970.424623   \n",
            "std       7.815984    1.701004    104.269838         NaN   846.841774   \n",
            "min       9.000000    3.000000     68.000000         NaN  1613.000000   \n",
            "25%      17.500000    4.000000    104.250000         NaN  2223.750000   \n",
            "50%      23.000000    4.000000    148.500000         NaN  2803.500000   \n",
            "75%      29.000000    8.000000    262.000000         NaN  3608.000000   \n",
            "max      46.600000    8.000000    455.000000         NaN  5140.000000   \n",
            "\n",
            "        acceleration  model year      origin        name  \n",
            "count     398.000000  398.000000  398.000000         398  \n",
            "unique           NaN         NaN         NaN         305  \n",
            "top              NaN         NaN         NaN  ford pinto  \n",
            "freq             NaN         NaN         NaN           6  \n",
            "mean       15.568090   76.010050    1.572864         NaN  \n",
            "std         2.757689    3.697627    0.802055         NaN  \n",
            "min         8.000000   70.000000    1.000000         NaN  \n",
            "25%        13.825000   73.000000    1.000000         NaN  \n",
            "50%        15.500000   76.000000    1.000000         NaN  \n",
            "75%        17.175000   79.000000    2.000000         NaN  \n",
            "max        24.800000   82.000000    3.000000         NaN  \n"
          ]
        }
      ]
    },
    {
      "cell_type": "markdown",
      "source": [
        "#**Delete the following cells if not used finally**"
      ],
      "metadata": {
        "id": "d_A8MBkWgdCV"
      }
    },
    {
      "cell_type": "markdown",
      "source": [
        "###**<font color = 'red'> 🐹🐾 Read the excel format**\n",
        "- use element (engine = 'openpyxl') for .xlxs\n",
        "- use element (engine = 'xlrd') for .xls"
      ],
      "metadata": {
        "id": "nuR9zbudLZS5"
      }
    },
    {
      "cell_type": "code",
      "execution_count": null,
      "metadata": {
        "id": "HDGtFK4eTHmK",
        "colab": {
          "base_uri": "https://localhost:8080/"
        },
        "outputId": "1ad022ba-d5aa-4df7-bb9b-665c48569f83"
      },
      "outputs": [
        {
          "output_type": "stream",
          "name": "stdout",
          "text": [
            "  전력량 (억㎾h) 발전 전력별  1990  1991  1992  1993  1994  1995  1996  1997  ...  2007  \\\n",
            "0        남한     합계  1077  1186  1310  1444  1650  1847  2055  2244  ...  4031   \n",
            "1       NaN     수력    64    51    49    60    41    55    52    54  ...    50   \n",
            "2       NaN     화력   484   573   696   803  1022  1122  1264  1420  ...  2551   \n",
            "3       NaN    원자력   529   563   565   581   587   670   739   771  ...  1429   \n",
            "4       NaN    신재생     -     -     -     -     -     -     -     -  ...     -   \n",
            "5        북한     합계   277   263   247   221   231   230   213   193  ...   236   \n",
            "6       NaN     수력   156   150   142   133   138   142   125   107  ...   133   \n",
            "7       NaN     화력   121   113   105    88    93    88    88    86  ...   103   \n",
            "8       NaN    원자력     -     -     -     -     -     -     -     -  ...     -   \n",
            "\n",
            "   2008  2009  2010  2011  2012  2013  2014  2015  2016  \n",
            "0  4224  4336  4747  4969  5096  5171  5220  5281  5404  \n",
            "1    56    56    65    78    77    84    78    58    66  \n",
            "2  2658  2802  3196  3343  3430  3581  3427  3402  3523  \n",
            "3  1510  1478  1486  1547  1503  1388  1564  1648  1620  \n",
            "4     -     -     -     -    86   118   151   173   195  \n",
            "5   255   235   237   211   215   221   216   190   239  \n",
            "6   141   125   134   132   135   139   130   100   128  \n",
            "7   114   110   103    79    80    82    86    90   111  \n",
            "8     -     -     -     -     -     -     -     -     -  \n",
            "\n",
            "[9 rows x 29 columns]\n",
            "\n",
            "\n",
            "          0       1     2     3     4     5     6     7     8     9   ...  \\\n",
            "0  전력량 (억㎾h)  발전 전력별  1990  1991  1992  1993  1994  1995  1996  1997  ...   \n",
            "1         남한      합계  1077  1186  1310  1444  1650  1847  2055  2244  ...   \n",
            "2        NaN      수력    64    51    49    60    41    55    52    54  ...   \n",
            "3        NaN      화력   484   573   696   803  1022  1122  1264  1420  ...   \n",
            "4        NaN     원자력   529   563   565   581   587   670   739   771  ...   \n",
            "5        NaN     신재생     -     -     -     -     -     -     -     -  ...   \n",
            "6         북한      합계   277   263   247   221   231   230   213   193  ...   \n",
            "7        NaN      수력   156   150   142   133   138   142   125   107  ...   \n",
            "8        NaN      화력   121   113   105    88    93    88    88    86  ...   \n",
            "9        NaN     원자력     -     -     -     -     -     -     -     -  ...   \n",
            "\n",
            "     19    20    21    22    23    24    25    26    27    28  \n",
            "0  2007  2008  2009  2010  2011  2012  2013  2014  2015  2016  \n",
            "1  4031  4224  4336  4747  4969  5096  5171  5220  5281  5404  \n",
            "2    50    56    56    65    78    77    84    78    58    66  \n",
            "3  2551  2658  2802  3196  3343  3430  3581  3427  3402  3523  \n",
            "4  1429  1510  1478  1486  1547  1503  1388  1564  1648  1620  \n",
            "5     -     -     -     -     -    86   118   151   173   195  \n",
            "6   236   255   235   237   211   215   221   216   190   239  \n",
            "7   133   141   125   134   132   135   139   130   100   128  \n",
            "8   103   114   110   103    79    80    82    86    90   111  \n",
            "9     -     -     -     -     -     -     -     -     -     -  \n",
            "\n",
            "[10 rows x 29 columns]\n"
          ]
        }
      ],
      "source": [
        "import pandas as pd\n",
        "df1 = pd.read_excel(\"/content/Pandas_Stats_Data_Analysis_2025/남북한발전전력량.xlsx\", engine = 'openpyxl') #header = 0 (by default)\n",
        "df2 = pd.read_excel(\"/content/Pandas_Stats_Data_Analysis_2025/남북한발전전력량.xlsx\", engine = 'openpyxl', header = None) #header unapplied\n",
        "\n",
        "print(df1)\n",
        "print('\\n')\n",
        "print(df2)"
      ]
    },
    {
      "cell_type": "code",
      "source": [
        "import pandas as pd\n",
        "url = \"/content/Pandas_Stats_Data_Analysis_2025/sample.html\""
      ],
      "metadata": {
        "id": "OKJ33CPxaOz1"
      },
      "execution_count": null,
      "outputs": []
    },
    {
      "cell_type": "code",
      "source": [
        "import pandas as pd\n",
        "\n",
        "url = \"/content/Pandas_Stats_Data_Analysis_2025/sample.html\"\n",
        "\n",
        "#html 웹페이지의 표를 가져와서 데이터프레임으로 변환\n",
        "tables = pd.read_html(url)\n",
        "\n",
        "#표 개수 확인\n",
        "print(len(tables))\n",
        "print('\\n')\n",
        "\n",
        "#표 리스트의 원소를 반복하면서 (interating the element of the table list) 화면 출력\n",
        "for i in range(len(tables)):\n",
        "  print(\"tables[%s]\" %i)\n",
        "  print(tables[i])\n",
        "  print('\\n')\n",
        "\n",
        "#파이썬 패키지 정보가 들어 있는 두 번째 데이터프레임을 선택하여 df 변수에 저장\n",
        "df = tables[i]\n",
        "\n",
        "#name 열을 인덱스로 저장\n",
        "df.set_index(['name'], inplace = True)\n",
        "print(df)"
      ],
      "metadata": {
        "colab": {
          "base_uri": "https://localhost:8080/"
        },
        "id": "jPxRRr_iTs_P",
        "outputId": "5df2e323-7b9e-435a-db9a-31b0d6deac01"
      },
      "execution_count": null,
      "outputs": [
        {
          "output_type": "stream",
          "name": "stdout",
          "text": [
            "2\n",
            "\n",
            "\n",
            "tables[0]\n",
            "   Unnamed: 0  c0  c1  c2  c3\n",
            "0           0   0   1   4   7\n",
            "1           1   1   2   5   8\n",
            "2           2   2   3   6   9\n",
            "\n",
            "\n",
            "tables[1]\n",
            "         name  year        developer  opensource\n",
            "0       NumPy  2006  Travis Oliphant        True\n",
            "1  matplotlib  2003   John D. Hunter        True\n",
            "2      pandas  2008    Wes Mckinneye        True\n",
            "\n",
            "\n",
            "            year        developer  opensource\n",
            "name                                         \n",
            "NumPy       2006  Travis Oliphant        True\n",
            "matplotlib  2003   John D. Hunter        True\n",
            "pandas      2008    Wes Mckinneye        True\n"
          ]
        }
      ]
    },
    {
      "cell_type": "markdown",
      "source": [
        "#🐹🐾**Saving data**"
      ],
      "metadata": {
        "id": "qSGoqXGX3HxH"
      }
    },
    {
      "cell_type": "markdown",
      "source": [
        "###🐹🐾<font color = 'blue'> **Write as the csv format**"
      ],
      "metadata": {
        "id": "DDvgPpZ958GA"
      }
    },
    {
      "cell_type": "code",
      "source": [
        "import pandas as pd\n",
        "\n",
        "data = {'name': ['Emma', 'Sean', 'Witney'], 'algol': ['A', 'A+','B'], 'basic': ['C','B','B+'], 'c++':['B+','C','C+']}\n",
        "df = pd.DataFrame(data)\n",
        "print(df)"
      ],
      "metadata": {
        "colab": {
          "base_uri": "https://localhost:8080/"
        },
        "id": "Ycu2t-HRugdG",
        "outputId": "2d14a931-cee4-459a-e2ff-73189bdabc34"
      },
      "execution_count": null,
      "outputs": [
        {
          "output_type": "stream",
          "name": "stdout",
          "text": [
            "     name algol basic c++\n",
            "0    Emma     A     C  B+\n",
            "1    Sean    A+     B   C\n",
            "2  Witney     B    B+  C+\n"
          ]
        }
      ]
    },
    {
      "cell_type": "code",
      "source": [
        "import pandas as pd\n",
        "data = {'name': ['Emma', 'Sean', 'Witney'], 'algol': ['A', 'A+','B'], 'basic': ['C','B','B+'], 'c++':['B+','C','C+']}\n",
        "df = pd.DataFrame(data)   # data 를 데이터프레임화 시킴.\n",
        "df.set_index('name', inplace=True)"
      ],
      "metadata": {
        "id": "P5O1YPsqu0mn"
      },
      "execution_count": null,
      "outputs": []
    },
    {
      "cell_type": "code",
      "source": [
        "import pandas as pd\n",
        "\n",
        "data = {'name': ['Emma', 'Sean', 'Witney'], 'algol': ['A', 'A+','B'], 'basic': ['C','B','B+'], 'c++':['B+','C','C+']}\n",
        "df = pd.DataFrame(data)\n",
        "df.set_index('name', inplace = True)\n",
        "print(df)"
      ],
      "metadata": {
        "id": "_pUmUtpIadxd",
        "colab": {
          "base_uri": "https://localhost:8080/"
        },
        "outputId": "af99e023-4e64-475e-c1c2-dbd6173b571b"
      },
      "execution_count": null,
      "outputs": [
        {
          "output_type": "stream",
          "name": "stdout",
          "text": [
            "       algol basic c++\n",
            "name                  \n",
            "Emma       A     C  B+\n",
            "Sean      A+     B   C\n",
            "Witney     B    B+  C+\n"
          ]
        }
      ]
    },
    {
      "cell_type": "code",
      "source": [
        "import pandas as pd\n",
        "\n",
        "data = {'name': ['Emma', 'Sean', 'Witney'], 'algol': ['A', 'A+','B'], 'basic': ['C','B','B+'], 'c++':['B+','C','C+']}\n",
        "df = pd.DataFrame(data)\n",
        "df.set_index('c++', inplace=True)\n",
        "print(df)"
      ],
      "metadata": {
        "colab": {
          "base_uri": "https://localhost:8080/"
        },
        "id": "GU8dakn-vUja",
        "outputId": "8dd9cda0-e1b1-4a16-af06-752bf3ef1ffb"
      },
      "execution_count": null,
      "outputs": [
        {
          "output_type": "stream",
          "name": "stdout",
          "text": [
            "       name algol basic\n",
            "c++                    \n",
            "B+     Emma     A     C\n",
            "C      Sean    A+     B\n",
            "C+   Witney     B    B+\n"
          ]
        }
      ]
    },
    {
      "cell_type": "code",
      "source": [
        "import pandas as pd\n",
        "\n",
        "data = {'name': ['Emma', 'Sean', 'Witney'], 'algol': ['A', 'A+','B'], 'basic': ['C','B','B+'], 'c++':['B+','C','C+']}\n",
        "df = pd.DataFrame(data)\n",
        "df.set_index(\"algol\", inplace=True)\n",
        "print(df)\n",
        "print(\"\\n\")\n",
        "\n",
        "\n",
        "#df 이 데이터를 이제 우리가 저장을 할거다. 그러면 데이터프레임을 뭐로 저장해 봤냐면 to_csv 이다.\n",
        "df.to_csv(\"./df_sample.csv\")  #경로 표시"
      ],
      "metadata": {
        "colab": {
          "base_uri": "https://localhost:8080/"
        },
        "id": "lfgqplEbwPtC",
        "outputId": "033b25d4-4f8e-4036-c050-003b03fc538a"
      },
      "execution_count": null,
      "outputs": [
        {
          "output_type": "stream",
          "name": "stdout",
          "text": [
            "         name basic c++\n",
            "algol                  \n",
            "A        Emma     C  B+\n",
            "A+       Sean     B   C\n",
            "B      Witney    B+  C+\n",
            "\n",
            "\n"
          ]
        }
      ]
    },
    {
      "cell_type": "code",
      "source": [
        "#saving as csv format\n",
        "\n",
        "import pandas as pd\n",
        "\n",
        "#판다스 DataFrame()함수로 데이터프레임 변환한 것을 변수로 할당\n",
        "\n",
        "data = {'name': ['Emma', \"Sean\", \"Witney\"],\n",
        "        'algol': ['A', 'A+', 'B'],\n",
        "        'basic': ['C', 'B', 'B+'],\n",
        "        'c++': ['B+','C', 'C+'],\n",
        "}\n",
        "df = pd.DataFrame(data)\n",
        "df.set_index('name', inplace=True) #name 열을 인덱스로 지정\n",
        "#df.set_index('c++', inplace=True) #c++ 열을 인덱스로 지정\n",
        "print(df)\n",
        "\n",
        "df.to_csv(\"./df_sample.csv\") #csv file saved in the <sample_data> directory of Colab . ,    \"./df_sample.csv\" 는 경로 표시\n",
        "\n"
      ],
      "metadata": {
        "id": "R6pfp3sQ3Ns-",
        "outputId": "b9181875-4153-4c14-dff6-a754cd1f0f0b",
        "colab": {
          "base_uri": "https://localhost:8080/"
        }
      },
      "execution_count": null,
      "outputs": [
        {
          "output_type": "stream",
          "name": "stdout",
          "text": [
            "       algol basic c++\n",
            "name                  \n",
            "Emma       A     C  B+\n",
            "Sean      A+     B   C\n",
            "Witney     B    B+  C+\n"
          ]
        }
      ]
    },
    {
      "cell_type": "markdown",
      "source": [
        "###🐹🐾<font color = 'blue'> **Write as the excel format**"
      ],
      "metadata": {
        "id": "viZr0ns2Hmnj"
      }
    },
    {
      "cell_type": "code",
      "source": [
        "import pandas as pd\n",
        "\n",
        "data = {'name': ['Emily', 'Andy', 'John'],     # 'Emily', 'Andy', 'John' 이라는 3행 데이터를 만들거고\n",
        "        'c++':['A', 'A+', 'B'],\n",
        "        'basic': ['C', 'B', 'B+'],\n",
        "        'JAVA': ['B+', 'C', 'C+']\n",
        "        }\n",
        "\n",
        "df = pd.DataFrame(data)    # 판다스의 데이터프레임 클래스를 사용을 해서 데이터프레임으로 df 라는 변수명으로 할당을 하고,\n",
        "df.set_index(\"name\", inplace=True)\n",
        "print(df)\n",
        "\n",
        "#엑셀 데이터로 저장을 하겠다. 그러면 내가 이 데이터 프레임화 해놓은 데이터들을 이제 변수명 df가 받음\n",
        "df.to_excel"
      ],
      "metadata": {
        "colab": {
          "base_uri": "https://localhost:8080/"
        },
        "id": "vOFsT2cjxbFL",
        "outputId": "d06886da-a3e4-454b-e763-758e3638c69d"
      },
      "execution_count": null,
      "outputs": [
        {
          "output_type": "stream",
          "name": "stdout",
          "text": [
            "      c++ basic JAVA\n",
            "name                \n",
            "Emily   A     C   B+\n",
            "Andy   A+     B    C\n",
            "John    B    B+   C+\n"
          ]
        }
      ]
    },
    {
      "cell_type": "code",
      "source": [
        "import pandas as pd\n",
        "data = {'name': ['Emily', 'Andy', 'John'],\n",
        "        'c++':['A', 'A+', 'B'],\n",
        "        'basic': ['C', 'B', 'B+'],\n",
        "        'JAVA': ['B+', 'C', 'C+']\n",
        "        }\n",
        "\n",
        "df = pd.DataFrame(data)\n",
        "df.set_index('name', inplace=True)\n",
        "print(df)\n",
        "\n",
        "df.to_excel('./df_sample.xlsx')    # to_excel 은 데이터프레임화 된 데이터를 엑셀 형태로 저장 (read_excel 은 엑셀 파일을 읽어서 데이터 프레임으로 변환시켜 저장)"
      ],
      "metadata": {
        "colab": {
          "base_uri": "https://localhost:8080/"
        },
        "id": "HUT8dvcMbjKd",
        "outputId": "ebe2473d-719c-4169-8656-9f28ae2ba90a"
      },
      "execution_count": null,
      "outputs": [
        {
          "output_type": "stream",
          "name": "stdout",
          "text": [
            "      c++ basic JAVA\n",
            "name                \n",
            "Emily   A     C   B+\n",
            "Andy   A+     B    C\n",
            "John    B    B+   C+\n"
          ]
        }
      ]
    },
    {
      "cell_type": "markdown",
      "source": [
        "# to_excel:DataFrame 을 엑셀 형태로 변환 시킴.(데이터 프레임 -> 엑셀 파일로 변환 )\n",
        "\n",
        "to_excel 이 코드를 실행시키면 엑셀 파일로 볼 수 있음."
      ],
      "metadata": {
        "id": "8pgA-S3e4LNJ"
      }
    },
    {
      "cell_type": "markdown",
      "source": [
        "# read_excel : 엑셀 파일을 읽어 데이터프레임으로 변환시킴.(엑셀파일 -> 데이터프레임화)"
      ],
      "metadata": {
        "id": "VjFeuTPr4y9K"
      }
    },
    {
      "cell_type": "code",
      "source": [
        "import pandas as pd\n",
        "\n",
        "#data변수에 사전형 데이터로 자료를 정리\n",
        "data = {'name': ['Emily', 'Andy', 'John'],\n",
        "        'c++':['A', 'A+', 'B'],\n",
        "        'basic': ['C', 'B', 'B+'],\n",
        "        'JAVA': ['B+', 'C', 'C+']\n",
        "        }\n",
        "\n",
        "#Pandas DataFrame()function을 사용하여 데이터프레임 변환하여 이를 df 변수에 할당\n",
        "df = pd.DataFrame(data)\n",
        "df.set_index('name', inplace=True)\n",
        "print(df)\n",
        "\n",
        "df.to_excel('./df_sample.xlsx')   # 엑셀 파일이 생성되게 됨.\n"
      ],
      "metadata": {
        "id": "Fr21vPH_HtSS",
        "outputId": "f44e2c14-848f-4e0c-fd42-8da5e2acd40e",
        "colab": {
          "base_uri": "https://localhost:8080/"
        }
      },
      "execution_count": null,
      "outputs": [
        {
          "output_type": "stream",
          "name": "stdout",
          "text": [
            "      c++ basic JAVA\n",
            "name                \n",
            "Emily   A     C   B+\n",
            "Andy   A+     B    C\n",
            "John    B    B+   C+\n"
          ]
        }
      ]
    },
    {
      "cell_type": "markdown",
      "source": [
        "###🐹🐾<font color = 'blue'> **Write as the excel format after combining multiple data frames**\n"
      ],
      "metadata": {
        "id": "o57zV9qiKspG"
      }
    },
    {
      "cell_type": "markdown",
      "source": [
        "# Write as the excel format after combining multiple data frames(여러 개의 데이터프레임을 결합한 후, 엑셀 형식으로 저장하시오.)"
      ],
      "metadata": {
        "id": "0xrkROJM848L"
      }
    },
    {
      "cell_type": "code",
      "source": [
        "import pandas as pd\n",
        "\n",
        "data1 = {'name': ['Emily', 'Andy', 'John'],\n",
        "        'c++':['A', 'A+', 'B'],\n",
        "        'basic': ['C', 'B', 'B+'],\n",
        "        'JAVA': ['B+', 'C', 'C+']\n",
        "        }\n",
        "\n",
        "data2 = {'c0':[1,2,3],\n",
        "         'c1':[4,5,6],                        # key 값에 대한 value 값이 리스트형으로 들어가서 나중에 우리가 이걸 데이터 프레임화 하는 과정으로 볼 수 있다.\n",
        "         'c2':[7,8,9],\n",
        "         'c3':[10,11,12],\n",
        "         'c4':[13,14,15]\n",
        "         }\n",
        "\n",
        "df1=pd.DataFrame(data1)\n",
        "df1.set_index(\"name\", inplace=True)\n",
        "print(df1)\n",
        "print('\\n')\n",
        "\n",
        "df2=pd.DataFrame(data2)\n",
        "df2.set_index(\"c0\", inplace=True)\n",
        "print(df2)\n",
        "print('\\n')\n",
        "\n",
        "writer = pd.ExcelWriter()"
      ],
      "metadata": {
        "colab": {
          "base_uri": "https://localhost:8080/",
          "height": 430
        },
        "id": "MiPcoqUl7tyk",
        "outputId": "7b5a69e7-5f5d-4ef6-be78-10715e51e353"
      },
      "execution_count": null,
      "outputs": [
        {
          "output_type": "stream",
          "name": "stdout",
          "text": [
            "      c++ basic JAVA\n",
            "name                \n",
            "Emily   A     C   B+\n",
            "Andy   A+     B    C\n",
            "John    B    B+   C+\n",
            "\n",
            "\n",
            "    c1  c2  c3  c4\n",
            "c0                \n",
            "1    4   7  10  13\n",
            "2    5   8  11  14\n",
            "3    6   9  12  15\n",
            "\n",
            "\n"
          ]
        },
        {
          "output_type": "error",
          "ename": "TypeError",
          "evalue": "ExcelWriter.__new__() missing 1 required positional argument: 'path'",
          "traceback": [
            "\u001b[0;31m---------------------------------------------------------------------------\u001b[0m",
            "\u001b[0;31mTypeError\u001b[0m                                 Traceback (most recent call last)",
            "\u001b[0;32m<ipython-input-14-4d61e079aba3>\u001b[0m in \u001b[0;36m<cell line: 0>\u001b[0;34m()\u001b[0m\n\u001b[1;32m     24\u001b[0m \u001b[0mprint\u001b[0m\u001b[0;34m(\u001b[0m\u001b[0;34m'\\n'\u001b[0m\u001b[0;34m)\u001b[0m\u001b[0;34m\u001b[0m\u001b[0;34m\u001b[0m\u001b[0m\n\u001b[1;32m     25\u001b[0m \u001b[0;34m\u001b[0m\u001b[0m\n\u001b[0;32m---> 26\u001b[0;31m \u001b[0mwriter\u001b[0m \u001b[0;34m=\u001b[0m \u001b[0mpd\u001b[0m\u001b[0;34m.\u001b[0m\u001b[0mExcelWriter\u001b[0m\u001b[0;34m(\u001b[0m\u001b[0;34m)\u001b[0m\u001b[0;34m\u001b[0m\u001b[0;34m\u001b[0m\u001b[0m\n\u001b[0m",
            "\u001b[0;31mTypeError\u001b[0m: ExcelWriter.__new__() missing 1 required positional argument: 'path'"
          ]
        }
      ]
    },
    {
      "cell_type": "code",
      "source": [
        "import pandas as pd\n",
        "\n",
        "data1 = {'name': ['Emily', 'Andy', 'John'],\n",
        "        'c++':['A', 'A+', 'B'],\n",
        "        'basic': ['C', 'B', 'B+'],\n",
        "        'JAVA': ['B+', 'C', 'C+']\n",
        "        }\n",
        "\n",
        "data2 = {'c0':[1,2,3],\n",
        "         'c1':[4,5,6],                        # key 값에 대한 value 값이 리스트형으로 들어가서 나중에 우리가 이걸 데이터 프레임화 하는 과정으로 볼 수 있다.\n",
        "         'c2':[7,8,9],\n",
        "         'c3':[10,11,12],\n",
        "         'c4':[13,14,15]\n",
        "         }\n",
        "\n",
        "df1=pd.DataFrame(data1)\n",
        "df1.set_index('name', inplace=True)\n",
        "print(df1)\n",
        "print('\\n')\n",
        "\n",
        "df2=pd.DataFrame(data2)\n",
        "df2.set_index('c0', inplace=True)\n",
        "print(df2)\n",
        "\n",
        "writer = pd.ExcelWriter(\"./df_excelwriter.xlsx\")\n",
        "df1.to_excel(writer, sheet_name = 'grading')\n",
        "df2.to_excel(writer, sheet_name='numbers')\n",
        "writer.close()"
      ],
      "metadata": {
        "colab": {
          "base_uri": "https://localhost:8080/"
        },
        "id": "Msafg0hJcxOM",
        "outputId": "d84c1b03-18b5-4416-9ba2-e9b4693a088d"
      },
      "execution_count": null,
      "outputs": [
        {
          "output_type": "stream",
          "name": "stdout",
          "text": [
            "      c++ basic JAVA\n",
            "name                \n",
            "Emily   A     C   B+\n",
            "Andy   A+     B    C\n",
            "John    B    B+   C+\n",
            "\n",
            "\n",
            "    c1  c2  c3  c4\n",
            "c0                \n",
            "1    4   7  10  13\n",
            "2    5   8  11  14\n",
            "3    6   9  12  15\n"
          ]
        }
      ]
    },
    {
      "cell_type": "code",
      "source": [
        "#여러개의 excel 파일을 파일 하나로 저장하기\n",
        "\n",
        "import pandas as pd\n",
        "\n",
        "data1 = {'name': ['Emily', 'Andy', 'John'],\n",
        "        'c++':['A', 'A+', 'B'],\n",
        "        'basic': ['C', 'B', 'B+'],\n",
        "        'JAVA': ['B+', 'C', 'C+']\n",
        "        }\n",
        "\n",
        "data2 = {'c0':[1,2,3],\n",
        "         'c1':[4,5,6],\n",
        "         'c2':[7,8,9],\n",
        "         'c3':[10,11,12],\n",
        "         'c4':[13,14,15]\n",
        "         }\n",
        "\n",
        "df1=pd.DataFrame(data1)\n",
        "df1.set_index('name', inplace=True)\n",
        "print(df1)\n",
        "print('\\n')\n",
        "\n",
        "df2=pd.DataFrame(data2)\n",
        "df2.set_index('c0', inplace=True)\n",
        "print(df2)\n",
        "\n",
        "#df1을 sheet1으로, df2를 sheet2로 저장. 파일명은 df_excelwriter.xlsx 로 해본다.\n",
        "\n",
        "writer = pd.ExcelWriter(\"./df_excelwriter.xlsx\")\n",
        "\n",
        "df1.to_excel(writer, sheet_name = 'grading')\n",
        "df2.to_excel(writer, sheet_name='numbers')\n",
        "writer.close() #To address this, you can use the writer.close() method instead of save(). This will properly close the Excel file and ensure that all the data is saved."
      ],
      "metadata": {
        "id": "EY3A1qAuK106",
        "outputId": "3b30c8d0-f6d7-41b6-d26a-28428ee90c6b",
        "colab": {
          "base_uri": "https://localhost:8080/"
        }
      },
      "execution_count": null,
      "outputs": [
        {
          "output_type": "stream",
          "name": "stdout",
          "text": [
            "      c++ basic JAVA\n",
            "name                \n",
            "Emily   A     C   B+\n",
            "Andy   A+     B    C\n",
            "John    B    B+   C+\n",
            "\n",
            "\n",
            "    c1  c2  c3  c4\n",
            "c0                \n",
            "1    4   7  10  13\n",
            "2    5   8  11  14\n",
            "3    6   9  12  15\n"
          ]
        }
      ]
    }
  ]
}