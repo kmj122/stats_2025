{
  "nbformat": 4,
  "nbformat_minor": 0,
  "metadata": {
    "colab": {
      "provenance": [],
      "include_colab_link": true
    },
    "kernelspec": {
      "name": "python3",
      "display_name": "Python 3"
    },
    "language_info": {
      "name": "python"
    }
  },
  "cells": [
    {
      "cell_type": "markdown",
      "metadata": {
        "id": "view-in-github",
        "colab_type": "text"
      },
      "source": [
        "<a href=\"https://colab.research.google.com/github/kmj122/stats_2025/blob/main/2_dataframe123.ipynb\" target=\"_parent\"><img src=\"https://colab.research.google.com/assets/colab-badge.svg\" alt=\"Open In Colab\"/></a>"
      ]
    },
    {
      "cell_type": "markdown",
      "source": [
        " 밑에 보면 series 0  가 있는데, 그래서 이 series 에 해당하는 한 개의 열 데이터 즉, 칼럼데이터가 시리즈 데이터 하나이다. 또 다른 series  데이터는 series1 이라고 하는 이 칼럼 데이터고, 또 다른 series 데이터는 series2 . 즉, 여기서는 데이터프레임이라고 하는 거는 시리즈 데이터를 누적시켜서 보여주는 것이다."
      ],
      "metadata": {
        "id": "UpMSck6081VD"
      }
    },
    {
      "cell_type": "markdown",
      "source": [
        "column : 열"
      ],
      "metadata": {
        "id": "vL8QqNJBuGuY"
      }
    },
    {
      "cell_type": "markdown",
      "source": [
        "근데 이 series 데이터가 한 개의 열에서 행은 여러 개가 나온다.\n",
        "\n",
        "\n",
        "Index Name 은 행에 대한 이름, label은 칼럼에 대한 이름 /\n",
        "2-plane: 2차"
      ],
      "metadata": {
        "id": "BbG80-p89t-y"
      }
    },
    {
      "cell_type": "markdown",
      "source": [
        "동일한 시리즈 데이터를 누적시키면 이게 켜켜히 쌓여서 데이터 프레임이 된다. 데이터 프레임과 시리즈에 대한 차이이다.\n",
        "\n",
        "심지어 시리즈 데이터도 matrix 이다 그래서 1행 다 열, 혹은 다 행 1열로 해서 한줄짜리가 형성"
      ],
      "metadata": {
        "id": "I5qDmMxrCOha"
      }
    },
    {
      "cell_type": "markdown",
      "source": [
        "👀 🐾 <font color = 'red'> **Data frame** </font>\n",
        "\n",
        "|Index Name/label | column 0| column 1 | column 2 | ...| column n |\n",
        "|:|-|-|-|-|-|\n",
        "|index 0 | data 0 | data 0 | data 0 | ... | data 0 |\n",
        "|index 1 | data 1 | data 1 | data 1 | ... | data 1 |\n",
        "|index 2 | data 2 | data 2 | data 2 | ... | data 2 |\n",
        "|index 3 | data 3 | data 3 | data 3 | ... | data 3 |\n",
        "| . | . | . | . | . | . |\n",
        "| . | . | . | . | . | . |\n",
        "| . | . | . | . | . | . |\n",
        "|index n | data n | data n | data n | ... | data n |\n",
        "|| series 0 | series 1 | series 2 | ... | series n |\n",
        "\n",
        ">\n",
        "\n",
        "- series : column vector\n",
        "- data frame: 2-plane vector or matrix\n",
        "\n",
        ">\n",
        "\n",
        "<font color = 'blue'>👀 🐾 **An example of data frame: Make an excel data!**\n",
        "\n",
        "Table on p.12 of the textbook\n",
        "\n",
        "|종목코드 | 회사이름| 액면가 | 총주식수 |\n",
        "|:|-|-|-|\n",
        "|005930 | 삼성전자 | 100원 | 5,970,000,000 |\n",
        "|017670 | SK텔레콤 | 500원 | 81,000,000 |\n",
        "|1005380 | 현대자동차 | 5000원 | 214,000,000 |\n",
        "\n"
      ],
      "metadata": {
        "id": "HhxjKRzMymn3"
      }
    },
    {
      "cell_type": "markdown",
      "source": [
        "전 시간에 배운거는 1열 즉, 1개의 칼럼 데이터라고 치면,\n",
        "이번 시간에는 벨류값이 2개 혹은 3개로 해서 차원이 2차원 데이터가 된다. 그래서 x축과 y축이 필요한 데이터"
      ],
      "metadata": {
        "id": "zeeDupH77O9T"
      }
    },
    {
      "cell_type": "markdown",
      "source": [
        "한 줄의 데이터를 얘기하는 걸 시리즈라고 함. 일렬로 정렬된 것. 그래서 보통은 한개의 열 데이터라고 생각하면 됨.\n",
        "\n",
        "오늘은 데이터 프레임은 2차원 데이터\n",
        "그래서 x축,y축"
      ],
      "metadata": {
        "id": "4-JQ-0CV8JQW"
      }
    },
    {
      "cell_type": "markdown",
      "source": [
        "이 데이터 프레임은 행과 열에 대한 정보이기 때문에 matrix  라 하고,\n",
        "벡터 데이터라고 하는 건 2차원으로 표현할 수도 있고, 3차원, 4차원으로 표현할 수도 있다.\n",
        "\n",
        "데이터 프레임이 2차원에 한정된 벡터 데이터이다."
      ],
      "metadata": {
        "id": "NW39vOIqBS9B"
      }
    },
    {
      "cell_type": "markdown",
      "source": [
        "# For your information!\n",
        "\n",
        "Google Colab comes with many general pre-installed Python libraries.\n",
        "\n",
        "* ✅ pandas - Data manipulation\n",
        "* ✅ numpy - Numerical computing\n",
        "* ✅ matplotlib - Data visualization\n",
        "* ✅ seaborn - Statistical data visualization\n",
        "* ✅ scipy - Scientific computing\n",
        "* ✅ sympy - Symbolic mathematics\n",
        "* ✅ networkx - Graph-based data analysis\n",
        "* ✅ datetime - Date and time handling\n",
        "* ✅ os - File and directory handling\n",
        "* ✅ sys - System-specific parameters"
      ],
      "metadata": {
        "id": "oLHirAXNo2Mh"
      }
    },
    {
      "cell_type": "code",
      "source": [
        "!pip list"
      ],
      "metadata": {
        "collapsed": true,
        "id": "E2m_myAKpRgv",
        "colab": {
          "base_uri": "https://localhost:8080/"
        },
        "outputId": "69e3a6e5-d673-4c66-d11e-02d996150414"
      },
      "execution_count": null,
      "outputs": [
        {
          "output_type": "stream",
          "name": "stdout",
          "text": [
            "Package                            Version\n",
            "---------------------------------- -------------------\n",
            "absl-py                            1.4.0\n",
            "accelerate                         1.5.2\n",
            "aiohappyeyeballs                   2.6.1\n",
            "aiohttp                            3.11.15\n",
            "aiosignal                          1.3.2\n",
            "alabaster                          1.0.0\n",
            "albucore                           0.0.23\n",
            "albumentations                     2.0.5\n",
            "ale-py                             0.10.2\n",
            "altair                             5.5.0\n",
            "annotated-types                    0.7.0\n",
            "anyio                              4.9.0\n",
            "argon2-cffi                        23.1.0\n",
            "argon2-cffi-bindings               21.2.0\n",
            "array_record                       0.7.1\n",
            "arviz                              0.21.0\n",
            "astropy                            7.0.1\n",
            "astropy-iers-data                  0.2025.3.31.0.36.18\n",
            "astunparse                         1.6.3\n",
            "atpublic                           5.1\n",
            "attrs                              25.3.0\n",
            "audioread                          3.0.1\n",
            "autograd                           1.7.0\n",
            "babel                              2.17.0\n",
            "backcall                           0.2.0\n",
            "beautifulsoup4                     4.13.3\n",
            "betterproto                        2.0.0b6\n",
            "bigframes                          1.42.0\n",
            "bigquery-magics                    0.9.0\n",
            "bleach                             6.2.0\n",
            "blinker                            1.9.0\n",
            "blis                               1.3.0\n",
            "blosc2                             3.2.1\n",
            "bokeh                              3.6.3\n",
            "Bottleneck                         1.4.2\n",
            "bqplot                             0.12.44\n",
            "branca                             0.8.1\n",
            "CacheControl                       0.14.2\n",
            "cachetools                         5.5.2\n",
            "catalogue                          2.0.10\n",
            "certifi                            2025.1.31\n",
            "cffi                               1.17.1\n",
            "chardet                            5.2.0\n",
            "charset-normalizer                 3.4.1\n",
            "chex                               0.1.89\n",
            "clarabel                           0.10.0\n",
            "click                              8.1.8\n",
            "cloudpathlib                       0.21.0\n",
            "cloudpickle                        3.1.1\n",
            "cmake                              3.31.6\n",
            "cmdstanpy                          1.2.5\n",
            "colorcet                           3.1.0\n",
            "colorlover                         0.3.0\n",
            "colour                             0.1.5\n",
            "community                          1.0.0b1\n",
            "confection                         0.1.5\n",
            "cons                               0.4.6\n",
            "contourpy                          1.3.1\n",
            "cramjam                            2.9.1\n",
            "cryptography                       43.0.3\n",
            "cuda-python                        12.6.2.post1\n",
            "cudf-cu12                          25.2.1\n",
            "cudf-polars-cu12                   25.2.2\n",
            "cufflinks                          0.17.3\n",
            "cuml-cu12                          25.2.1\n",
            "cupy-cuda12x                       13.3.0\n",
            "cuvs-cu12                          25.2.1\n",
            "cvxopt                             1.3.2\n",
            "cvxpy                              1.6.4\n",
            "cycler                             0.12.1\n",
            "cyipopt                            1.5.0\n",
            "cymem                              2.0.11\n",
            "Cython                             3.0.12\n",
            "dask                               2024.12.1\n",
            "dask-cuda                          25.2.0\n",
            "dask-cudf-cu12                     25.2.2\n",
            "dask-expr                          1.1.21\n",
            "datascience                        0.17.6\n",
            "db-dtypes                          1.4.2\n",
            "dbus-python                        1.2.18\n",
            "debugpy                            1.8.0\n",
            "decorator                          4.4.2\n",
            "defusedxml                         0.7.1\n",
            "Deprecated                         1.2.18\n",
            "diffusers                          0.32.2\n",
            "distributed                        2024.12.1\n",
            "distributed-ucxx-cu12              0.42.0\n",
            "distro                             1.9.0\n",
            "dlib                               19.24.6\n",
            "dm-tree                            0.1.9\n",
            "docker-pycreds                     0.4.0\n",
            "docstring_parser                   0.16\n",
            "docutils                           0.21.2\n",
            "dopamine_rl                        4.1.2\n",
            "duckdb                             1.2.1\n",
            "earthengine-api                    1.5.9\n",
            "easydict                           1.13\n",
            "editdistance                       0.8.1\n",
            "eerepr                             0.1.1\n",
            "einops                             0.8.1\n",
            "en_core_web_sm                     3.8.0\n",
            "entrypoints                        0.4\n",
            "et_xmlfile                         2.0.0\n",
            "etils                              1.12.2\n",
            "etuples                            0.3.9\n",
            "Farama-Notifications               0.0.4\n",
            "fastai                             2.7.19\n",
            "fastcore                           1.7.29\n",
            "fastdownload                       0.0.7\n",
            "fastjsonschema                     2.21.1\n",
            "fastprogress                       1.0.3\n",
            "fastrlock                          0.8.3\n",
            "filelock                           3.18.0\n",
            "firebase-admin                     6.7.0\n",
            "Flask                              3.1.0\n",
            "flatbuffers                        25.2.10\n",
            "flax                               0.10.5\n",
            "folium                             0.19.5\n",
            "fonttools                          4.57.0\n",
            "frozendict                         2.4.6\n",
            "frozenlist                         1.5.0\n",
            "fsspec                             2025.3.2\n",
            "future                             1.0.0\n",
            "gast                               0.6.0\n",
            "gcsfs                              2025.3.2\n",
            "GDAL                               3.6.4\n",
            "gdown                              5.2.0\n",
            "geemap                             0.35.3\n",
            "geocoder                           1.38.1\n",
            "geographiclib                      2.0\n",
            "geopandas                          1.0.1\n",
            "geopy                              2.4.1\n",
            "gin-config                         0.5.0\n",
            "gitdb                              4.0.12\n",
            "GitPython                          3.1.44\n",
            "glob2                              0.7\n",
            "google                             2.0.3\n",
            "google-ai-generativelanguage       0.6.15\n",
            "google-api-core                    2.24.2\n",
            "google-api-python-client           2.164.0\n",
            "google-auth                        2.38.0\n",
            "google-auth-httplib2               0.2.0\n",
            "google-auth-oauthlib               1.2.1\n",
            "google-cloud-aiplatform            1.87.0\n",
            "google-cloud-bigquery              3.31.0\n",
            "google-cloud-bigquery-connection   1.18.2\n",
            "google-cloud-bigquery-storage      2.30.0\n",
            "google-cloud-bigtable              2.30.0\n",
            "google-cloud-core                  2.4.3\n",
            "google-cloud-dataproc              5.18.1\n",
            "google-cloud-datastore             2.20.2\n",
            "google-cloud-firestore             2.20.1\n",
            "google-cloud-functions             1.20.2\n",
            "google-cloud-iam                   2.18.3\n",
            "google-cloud-language              2.17.1\n",
            "google-cloud-pubsub                2.29.0\n",
            "google-cloud-resource-manager      1.14.2\n",
            "google-cloud-spanner               3.53.0\n",
            "google-cloud-storage               2.19.0\n",
            "google-cloud-translate             3.20.2\n",
            "google-colab                       1.0.0\n",
            "google-crc32c                      1.7.1\n",
            "google-genai                       1.9.0\n",
            "google-generativeai                0.8.4\n",
            "google-pasta                       0.2.0\n",
            "google-resumable-media             2.7.2\n",
            "google-spark-connect               0.5.2\n",
            "googleapis-common-protos           1.69.2\n",
            "googledrivedownloader              1.1.0\n",
            "graphviz                           0.20.3\n",
            "greenlet                           3.1.1\n",
            "grpc-google-iam-v1                 0.14.2\n",
            "grpc-interceptor                   0.15.4\n",
            "grpcio                             1.71.0\n",
            "grpcio-status                      1.71.0\n",
            "grpclib                            0.4.7\n",
            "gspread                            6.2.0\n",
            "gspread-dataframe                  4.0.0\n",
            "gym                                0.25.2\n",
            "gym-notices                        0.0.8\n",
            "gymnasium                          1.1.1\n",
            "h11                                0.14.0\n",
            "h2                                 4.2.0\n",
            "h5netcdf                           1.6.1\n",
            "h5py                               3.13.0\n",
            "hdbscan                            0.8.40\n",
            "highspy                            1.9.0\n",
            "holidays                           0.69\n",
            "holoviews                          1.20.2\n",
            "hpack                              4.1.0\n",
            "html5lib                           1.1\n",
            "httpcore                           1.0.7\n",
            "httpimport                         1.4.1\n",
            "httplib2                           0.22.0\n",
            "httpx                              0.28.1\n",
            "huggingface-hub                    0.30.1\n",
            "humanize                           4.12.2\n",
            "hyperframe                         6.1.0\n",
            "hyperopt                           0.2.7\n",
            "ibis-framework                     9.5.0\n",
            "idna                               3.10\n",
            "imageio                            2.37.0\n",
            "imageio-ffmpeg                     0.6.0\n",
            "imagesize                          1.4.1\n",
            "imbalanced-learn                   0.13.0\n",
            "immutabledict                      4.2.1\n",
            "importlib_metadata                 8.6.1\n",
            "importlib_resources                6.5.2\n",
            "imutils                            0.5.4\n",
            "inflect                            7.5.0\n",
            "iniconfig                          2.1.0\n",
            "intel-cmplr-lib-ur                 2025.1.0\n",
            "intel-openmp                       2025.1.0\n",
            "ipyevents                          2.0.2\n",
            "ipyfilechooser                     0.6.0\n",
            "ipykernel                          6.17.1\n",
            "ipyleaflet                         0.19.2\n",
            "ipyparallel                        8.8.0\n",
            "ipython                            7.34.0\n",
            "ipython-genutils                   0.2.0\n",
            "ipython-sql                        0.5.0\n",
            "ipytree                            0.2.2\n",
            "ipywidgets                         7.7.1\n",
            "itsdangerous                       2.2.0\n",
            "jax                                0.5.2\n",
            "jax-cuda12-pjrt                    0.5.1\n",
            "jax-cuda12-plugin                  0.5.1\n",
            "jaxlib                             0.5.1\n",
            "jeepney                            0.7.1\n",
            "jellyfish                          1.1.0\n",
            "jieba                              0.42.1\n",
            "Jinja2                             3.1.6\n",
            "jiter                              0.9.0\n",
            "joblib                             1.4.2\n",
            "jsonpatch                          1.33\n",
            "jsonpickle                         4.0.5\n",
            "jsonpointer                        3.0.0\n",
            "jsonschema                         4.23.0\n",
            "jsonschema-specifications          2024.10.1\n",
            "jupyter-client                     6.1.12\n",
            "jupyter-console                    6.1.0\n",
            "jupyter_core                       5.7.2\n",
            "jupyter-leaflet                    0.19.2\n",
            "jupyter-server                     1.16.0\n",
            "jupyterlab_pygments                0.3.0\n",
            "jupyterlab_widgets                 3.0.13\n",
            "kaggle                             1.7.4.2\n",
            "kagglehub                          0.3.11\n",
            "keras                              3.8.0\n",
            "keras-hub                          0.18.1\n",
            "keras-nlp                          0.18.1\n",
            "keyring                            23.5.0\n",
            "kiwisolver                         1.4.8\n",
            "langchain                          0.3.23\n",
            "langchain-core                     0.3.51\n",
            "langchain-text-splitters           0.3.8\n",
            "langcodes                          3.5.0\n",
            "langsmith                          0.3.24\n",
            "language_data                      1.3.0\n",
            "launchpadlib                       1.10.16\n",
            "lazr.restfulclient                 0.14.4\n",
            "lazr.uri                           1.0.6\n",
            "lazy_loader                        0.4\n",
            "libclang                           18.1.1\n",
            "libcudf-cu12                       25.2.1\n",
            "libcugraph-cu12                    25.2.0\n",
            "libcuml-cu12                       25.2.1\n",
            "libcuvs-cu12                       25.2.1\n",
            "libkvikio-cu12                     25.2.1\n",
            "libraft-cu12                       25.2.0\n",
            "librosa                            0.11.0\n",
            "libucx-cu12                        1.18.0\n",
            "libucxx-cu12                       0.42.0\n",
            "lightgbm                           4.5.0\n",
            "linkify-it-py                      2.0.3\n",
            "llvmlite                           0.43.0\n",
            "locket                             1.0.0\n",
            "logical-unification                0.4.6\n",
            "lxml                               5.3.1\n",
            "Mako                               1.1.3\n",
            "marisa-trie                        1.2.1\n",
            "Markdown                           3.7\n",
            "markdown-it-py                     3.0.0\n",
            "MarkupSafe                         3.0.2\n",
            "matplotlib                         3.10.0\n",
            "matplotlib-inline                  0.1.7\n",
            "matplotlib-venn                    1.1.2\n",
            "mdit-py-plugins                    0.4.2\n",
            "mdurl                              0.1.2\n",
            "miniKanren                         1.0.3\n",
            "missingno                          0.5.2\n",
            "mistune                            3.1.3\n",
            "mizani                             0.13.2\n",
            "mkl                                2025.0.1\n",
            "ml-dtypes                          0.4.1\n",
            "mlxtend                            0.23.4\n",
            "more-itertools                     10.6.0\n",
            "moviepy                            1.0.3\n",
            "mpmath                             1.3.0\n",
            "msgpack                            1.1.0\n",
            "multidict                          6.3.2\n",
            "multipledispatch                   1.0.0\n",
            "multitasking                       0.0.11\n",
            "murmurhash                         1.0.12\n",
            "music21                            9.3.0\n",
            "namex                              0.0.8\n",
            "narwhals                           1.33.0\n",
            "natsort                            8.4.0\n",
            "nbclassic                          1.2.0\n",
            "nbclient                           0.10.2\n",
            "nbconvert                          7.16.6\n",
            "nbformat                           5.10.4\n",
            "ndindex                            1.9.2\n",
            "nest-asyncio                       1.6.0\n",
            "networkx                           3.4.2\n",
            "nibabel                            5.3.2\n",
            "nltk                               3.9.1\n",
            "notebook                           6.5.7\n",
            "notebook_shim                      0.2.4\n",
            "numba                              0.60.0\n",
            "numba-cuda                         0.2.0\n",
            "numexpr                            2.10.2\n",
            "numpy                              2.0.2\n",
            "nvidia-cublas-cu12                 12.5.3.2\n",
            "nvidia-cuda-cupti-cu12             12.5.82\n",
            "nvidia-cuda-nvcc-cu12              12.5.82\n",
            "nvidia-cuda-nvrtc-cu12             12.5.82\n",
            "nvidia-cuda-runtime-cu12           12.5.82\n",
            "nvidia-cudnn-cu12                  9.3.0.75\n",
            "nvidia-cufft-cu12                  11.2.3.61\n",
            "nvidia-curand-cu12                 10.3.6.82\n",
            "nvidia-cusolver-cu12               11.6.3.83\n",
            "nvidia-cusparse-cu12               12.5.1.3\n",
            "nvidia-cusparselt-cu12             0.6.2\n",
            "nvidia-ml-py                       12.570.86\n",
            "nvidia-nccl-cu12                   2.21.5\n",
            "nvidia-nvcomp-cu12                 4.2.0.11\n",
            "nvidia-nvjitlink-cu12              12.5.82\n",
            "nvidia-nvtx-cu12                   12.4.127\n",
            "nvtx                               0.2.11\n",
            "nx-cugraph-cu12                    25.2.0\n",
            "oauth2client                       4.1.3\n",
            "oauthlib                           3.2.2\n",
            "openai                             1.70.0\n",
            "opencv-contrib-python              4.11.0.86\n",
            "opencv-python                      4.11.0.86\n",
            "opencv-python-headless             4.11.0.86\n",
            "openpyxl                           3.1.5\n",
            "opentelemetry-api                  1.31.1\n",
            "opentelemetry-sdk                  1.31.1\n",
            "opentelemetry-semantic-conventions 0.52b1\n",
            "opt_einsum                         3.4.0\n",
            "optax                              0.2.4\n",
            "optree                             0.14.1\n",
            "orbax-checkpoint                   0.11.10\n",
            "orjson                             3.10.16\n",
            "osqp                               1.0.3\n",
            "packaging                          24.2\n",
            "pandas                             2.2.2\n",
            "pandas-datareader                  0.10.0\n",
            "pandas-gbq                         0.28.0\n",
            "pandas-stubs                       2.2.2.240909\n",
            "pandocfilters                      1.5.1\n",
            "panel                              1.6.2\n",
            "param                              2.2.0\n",
            "parso                              0.8.4\n",
            "parsy                              2.1\n",
            "partd                              1.4.2\n",
            "pathlib                            1.0.1\n",
            "patsy                              1.0.1\n",
            "peewee                             3.17.9\n",
            "peft                               0.14.0\n",
            "pexpect                            4.9.0\n",
            "pickleshare                        0.7.5\n",
            "pillow                             11.1.0\n",
            "pip                                24.1.2\n",
            "platformdirs                       4.3.7\n",
            "plotly                             5.24.1\n",
            "plotnine                           0.14.5\n",
            "pluggy                             1.5.0\n",
            "ply                                3.11\n",
            "polars                             1.21.0\n",
            "pooch                              1.8.2\n",
            "portpicker                         1.5.2\n",
            "preshed                            3.0.9\n",
            "prettytable                        3.16.0\n",
            "proglog                            0.1.11\n",
            "progressbar2                       4.5.0\n",
            "prometheus_client                  0.21.1\n",
            "promise                            2.3\n",
            "prompt_toolkit                     3.0.50\n",
            "propcache                          0.3.1\n",
            "prophet                            1.1.6\n",
            "proto-plus                         1.26.1\n",
            "protobuf                           5.29.4\n",
            "psutil                             5.9.5\n",
            "psycopg2                           2.9.10\n",
            "ptyprocess                         0.7.0\n",
            "py-cpuinfo                         9.0.0\n",
            "py4j                               0.10.9.7\n",
            "pyarrow                            18.1.0\n",
            "pyasn1                             0.6.1\n",
            "pyasn1_modules                     0.4.2\n",
            "pycairo                            1.27.0\n",
            "pycocotools                        2.0.8\n",
            "pycparser                          2.22\n",
            "pydantic                           2.11.2\n",
            "pydantic_core                      2.33.1\n",
            "pydata-google-auth                 1.9.1\n",
            "pydot                              3.0.4\n",
            "pydotplus                          2.0.2\n",
            "PyDrive                            1.3.1\n",
            "PyDrive2                           1.21.3\n",
            "pyerfa                             2.0.1.5\n",
            "pygame                             2.6.1\n",
            "pygit2                             1.17.0\n",
            "Pygments                           2.18.0\n",
            "PyGObject                          3.42.0\n",
            "PyJWT                              2.10.1\n",
            "pylibcudf-cu12                     25.2.1\n",
            "pylibcugraph-cu12                  25.2.0\n",
            "pylibraft-cu12                     25.2.0\n",
            "pymc                               5.21.2\n",
            "pymystem3                          0.2.0\n",
            "pynndescent                        0.5.13\n",
            "pynvjitlink-cu12                   0.5.2\n",
            "pynvml                             12.0.0\n",
            "pyogrio                            0.10.0\n",
            "Pyomo                              6.8.2\n",
            "PyOpenGL                           3.1.9\n",
            "pyOpenSSL                          24.2.1\n",
            "pyparsing                          3.2.3\n",
            "pyperclip                          1.9.0\n",
            "pyproj                             3.7.1\n",
            "pyshp                              2.3.1\n",
            "PySocks                            1.7.1\n",
            "pyspark                            3.5.5\n",
            "pytensor                           2.30.2\n",
            "pytest                             8.3.5\n",
            "python-apt                         0.0.0\n",
            "python-box                         7.3.2\n",
            "python-dateutil                    2.8.2\n",
            "python-louvain                     0.16\n",
            "python-slugify                     8.0.4\n",
            "python-snappy                      0.7.3\n",
            "python-utils                       3.9.1\n",
            "pytz                               2025.2\n",
            "pyviz_comms                        3.0.4\n",
            "PyYAML                             6.0.2\n",
            "pyzmq                              24.0.1\n",
            "raft-dask-cu12                     25.2.0\n",
            "rapids-dask-dependency             25.2.0\n",
            "ratelim                            0.1.6\n",
            "referencing                        0.36.2\n",
            "regex                              2024.11.6\n",
            "requests                           2.32.3\n",
            "requests-oauthlib                  2.0.0\n",
            "requests-toolbelt                  1.0.0\n",
            "requirements-parser                0.9.0\n",
            "rich                               13.9.4\n",
            "rmm-cu12                           25.2.0\n",
            "roman-numerals-py                  3.1.0\n",
            "rpds-py                            0.24.0\n",
            "rpy2                               3.5.17\n",
            "rsa                                4.9\n",
            "safetensors                        0.5.3\n",
            "scikit-image                       0.25.2\n",
            "scikit-learn                       1.6.1\n",
            "scipy                              1.14.1\n",
            "scooby                             0.10.0\n",
            "scs                                3.2.7.post2\n",
            "seaborn                            0.13.2\n",
            "SecretStorage                      3.3.1\n",
            "Send2Trash                         1.8.3\n",
            "sentence-transformers              3.4.1\n",
            "sentencepiece                      0.2.0\n",
            "sentry-sdk                         2.25.1\n",
            "setproctitle                       1.3.5\n",
            "setuptools                         75.2.0\n",
            "shap                               0.47.1\n",
            "shapely                            2.1.0\n",
            "shellingham                        1.5.4\n",
            "simple-parsing                     0.1.7\n",
            "simplejson                         3.20.1\n",
            "simsimd                            6.2.1\n",
            "six                                1.17.0\n",
            "sklearn-compat                     0.1.3\n",
            "sklearn-pandas                     2.2.0\n",
            "slicer                             0.0.8\n",
            "smart-open                         7.1.0\n",
            "smmap                              5.0.2\n",
            "sniffio                            1.3.1\n",
            "snowballstemmer                    2.2.0\n",
            "sortedcontainers                   2.4.0\n",
            "soundfile                          0.13.1\n",
            "soupsieve                          2.6\n",
            "soxr                               0.5.0.post1\n",
            "spacy                              3.8.5\n",
            "spacy-legacy                       3.0.12\n",
            "spacy-loggers                      1.0.5\n",
            "spanner-graph-notebook             1.1.6\n",
            "Sphinx                             8.2.3\n",
            "sphinxcontrib-applehelp            2.0.0\n",
            "sphinxcontrib-devhelp              2.0.0\n",
            "sphinxcontrib-htmlhelp             2.1.0\n",
            "sphinxcontrib-jsmath               1.0.1\n",
            "sphinxcontrib-qthelp               2.0.0\n",
            "sphinxcontrib-serializinghtml      2.0.0\n",
            "SQLAlchemy                         2.0.40\n",
            "sqlglot                            25.20.2\n",
            "sqlparse                           0.5.3\n",
            "srsly                              2.5.1\n",
            "stanio                             0.5.1\n",
            "statsmodels                        0.14.4\n",
            "stringzilla                        3.12.3\n",
            "sympy                              1.13.1\n",
            "tables                             3.10.2\n",
            "tabulate                           0.9.0\n",
            "tbb                                2022.1.0\n",
            "tblib                              3.1.0\n",
            "tcmlib                             1.3.0\n",
            "tenacity                           9.1.2\n",
            "tensorboard                        2.18.0\n",
            "tensorboard-data-server            0.7.2\n",
            "tensorflow                         2.18.0\n",
            "tensorflow-datasets                4.9.8\n",
            "tensorflow_decision_forests        1.11.0\n",
            "tensorflow-hub                     0.16.1\n",
            "tensorflow-io-gcs-filesystem       0.37.1\n",
            "tensorflow-metadata                1.17.0\n",
            "tensorflow-probability             0.25.0\n",
            "tensorflow-text                    2.18.1\n",
            "tensorstore                        0.1.73\n",
            "termcolor                          3.0.1\n",
            "terminado                          0.18.1\n",
            "text-unidecode                     1.3\n",
            "textblob                           0.19.0\n",
            "tf_keras                           2.18.0\n",
            "tf-slim                            1.1.0\n",
            "thinc                              8.3.6\n",
            "threadpoolctl                      3.6.0\n",
            "tifffile                           2025.3.30\n",
            "timm                               1.0.15\n",
            "tinycss2                           1.4.0\n",
            "tokenizers                         0.21.1\n",
            "toml                               0.10.2\n",
            "toolz                              0.12.1\n",
            "torch                              2.6.0+cu124\n",
            "torchaudio                         2.6.0+cu124\n",
            "torchsummary                       1.5.1\n",
            "torchvision                        0.21.0+cu124\n",
            "tornado                            6.4.2\n",
            "tqdm                               4.67.1\n",
            "traitlets                          5.7.1\n",
            "traittypes                         0.2.1\n",
            "transformers                       4.50.3\n",
            "treelite                           4.4.1\n",
            "treescope                          0.1.9\n",
            "triton                             3.2.0\n",
            "tweepy                             4.15.0\n",
            "typeguard                          4.4.2\n",
            "typer                              0.15.2\n",
            "types-pytz                         2025.2.0.20250326\n",
            "types-setuptools                   78.1.0.20250329\n",
            "typing_extensions                  4.13.1\n",
            "typing-inspection                  0.4.0\n",
            "tzdata                             2025.2\n",
            "tzlocal                            5.3.1\n",
            "uc-micro-py                        1.0.3\n",
            "ucx-py-cu12                        0.42.0\n",
            "ucxx-cu12                          0.42.0\n",
            "umap-learn                         0.5.7\n",
            "umf                                0.10.0\n",
            "uritemplate                        4.1.1\n",
            "urllib3                            2.3.0\n",
            "vega-datasets                      0.9.0\n",
            "wadllib                            1.3.6\n",
            "wandb                              0.19.9\n",
            "wasabi                             1.1.3\n",
            "wcwidth                            0.2.13\n",
            "weasel                             0.4.1\n",
            "webcolors                          24.11.1\n",
            "webencodings                       0.5.1\n",
            "websocket-client                   1.8.0\n",
            "websockets                         15.0.1\n",
            "Werkzeug                           3.1.3\n",
            "wheel                              0.45.1\n",
            "widgetsnbextension                 3.6.10\n",
            "wordcloud                          1.9.4\n",
            "wrapt                              1.17.2\n",
            "wurlitzer                          3.1.1\n",
            "xarray                             2025.1.2\n",
            "xarray-einstats                    0.8.0\n",
            "xgboost                            2.1.4\n",
            "xlrd                               2.0.1\n",
            "xyzservices                        2025.1.0\n",
            "yarl                               1.18.3\n",
            "ydf                                0.11.0\n",
            "yellowbrick                        1.5\n",
            "yfinance                           0.2.55\n",
            "zict                               3.0.0\n",
            "zipp                               3.21.0\n",
            "zstandard                          0.23.0\n"
          ]
        }
      ]
    },
    {
      "cell_type": "markdown",
      "source": [
        "#**Student activity**"
      ],
      "metadata": {
        "id": "2vq0rcmopscB"
      }
    },
    {
      "cell_type": "code",
      "source": [
        "pip install pandas"
      ],
      "metadata": {
        "id": "G2IcmBBpDbJH",
        "colab": {
          "base_uri": "https://localhost:8080/"
        },
        "outputId": "b70574d6-f716-4fe0-d532-d825a8413b96"
      },
      "execution_count": null,
      "outputs": [
        {
          "output_type": "stream",
          "name": "stdout",
          "text": [
            "Requirement already satisfied: pandas in /usr/local/lib/python3.11/dist-packages (2.2.2)\n",
            "Requirement already satisfied: numpy>=1.23.2 in /usr/local/lib/python3.11/dist-packages (from pandas) (2.0.2)\n",
            "Requirement already satisfied: python-dateutil>=2.8.2 in /usr/local/lib/python3.11/dist-packages (from pandas) (2.8.2)\n",
            "Requirement already satisfied: pytz>=2020.1 in /usr/local/lib/python3.11/dist-packages (from pandas) (2025.2)\n",
            "Requirement already satisfied: tzdata>=2022.7 in /usr/local/lib/python3.11/dist-packages (from pandas) (2025.2)\n",
            "Requirement already satisfied: six>=1.5 in /usr/local/lib/python3.11/dist-packages (from python-dateutil>=2.8.2->pandas) (1.17.0)\n"
          ]
        }
      ]
    },
    {
      "cell_type": "markdown",
      "source": [
        "딕셔너리 데이터형 이라고 하는거는 키와 벨류의 한 쌍이다. 그 한 쌍을 나타내기 위해서 컬리 브레킷 사용.\n",
        "\n",
        "dict_data = {'c0':[1,2,3], 'c1':[4,5,6], 'c2':[7,8,9], 'c3':[10,11,12], 'c4':[13,14,15]}      #value 값은 리스트 형태로 입력되어 있다. 각 인자는 어떻게 분리 되냐 하면 쉼표를 사용해서 분리가 된다.\n",
        "\n",
        "\n",
        "DataFrame 이라고 하는 클래스 명\n",
        "DataFrame 이라고 하는 판다스 안에 있는 클래스 명을 사용했더니 키,벨류의 쌍이 키가 헤더로 들어가서 c0 그리고 값이 1 2 3 , 키가 c1 으로 들어가서 값이 4 5 6...리스트 안에 있는 각각의 요소들이 시리즈 데이터로 한 개씩 나온거다.   \n",
        "\n",
        "\n",
        "<class 'pandas.core.frame.DataFrame'> 는 판다스의 클래스를 쓴 데이터 프레임 양식의 타입이다."
      ],
      "metadata": {
        "id": "Vpo0ci0kETGy"
      }
    },
    {
      "cell_type": "markdown",
      "source": [
        "curly brackets : 중괄호 {}"
      ],
      "metadata": {
        "id": "98xcUQw3wmUz"
      }
    },
    {
      "cell_type": "code",
      "source": [
        "import pandas as pd\n",
        "dict_data = {'c0':[0,1,2], 'c1':[3,4,5], 'c2':[6,7,8]}\n",
        "df=pd.DataFrame(dict_data)\n",
        "print(df)\n",
        "print('\\n')\n",
        "print(type(df))"
      ],
      "metadata": {
        "colab": {
          "base_uri": "https://localhost:8080/"
        },
        "id": "RvxN1IX6yxCU",
        "outputId": "c48f459a-0329-4f4c-f238-1babe20e3746"
      },
      "execution_count": null,
      "outputs": [
        {
          "output_type": "stream",
          "name": "stdout",
          "text": [
            "   c0  c1  c2\n",
            "0   0   3   6\n",
            "1   1   4   7\n",
            "2   2   5   8\n",
            "\n",
            "\n",
            "<class 'pandas.core.frame.DataFrame'>\n"
          ]
        }
      ]
    },
    {
      "cell_type": "code",
      "source": [
        "import pandas as pd\n",
        "dict_data = {'c0':[1,2,3], 'c1':[4,5,6], 'c2':[7,8,9], 'c3':[10,11,12], 'c4':[13,14,15]}\n",
        "print(dict_data)\n",
        "print('\\n')\n",
        "df=pd.DataFrame(dict_data)\n",
        "print(df)\n",
        "print('\\n')\n",
        "print(type(df))"
      ],
      "metadata": {
        "colab": {
          "base_uri": "https://localhost:8080/"
        },
        "id": "Hw6DYvmKxeSI",
        "outputId": "e85836e1-9363-4b8a-d922-449feff7e68e"
      },
      "execution_count": null,
      "outputs": [
        {
          "output_type": "stream",
          "name": "stdout",
          "text": [
            "{'c0': [1, 2, 3], 'c1': [4, 5, 6], 'c2': [7, 8, 9], 'c3': [10, 11, 12], 'c4': [13, 14, 15]}\n",
            "\n",
            "\n",
            "   c0  c1  c2  c3  c4\n",
            "0   1   4   7  10  13\n",
            "1   2   5   8  11  14\n",
            "2   3   6   9  12  15\n",
            "\n",
            "\n",
            "<class 'pandas.core.frame.DataFrame'>\n"
          ]
        }
      ]
    },
    {
      "cell_type": "code",
      "source": [
        "import pandas as pd\n",
        "dict_data = {'c0':[1,2,3], 'c1':[4,5,6], 'c2':[7,8,9], 'c3':[10,11,12], 'c4':[13,14,15]}\n",
        "print(dict_data)"
      ],
      "metadata": {
        "colab": {
          "base_uri": "https://localhost:8080/"
        },
        "id": "jvx6DAzLEGfw",
        "outputId": "31a3962d-4445-4a37-9ef0-f10e2289aa8d"
      },
      "execution_count": null,
      "outputs": [
        {
          "output_type": "stream",
          "name": "stdout",
          "text": [
            "{'c0': [1, 2, 3], 'c1': [4, 5, 6], 'c2': [7, 8, 9], 'c3': [10, 11, 12], 'c4': [13, 14, 15]}\n"
          ]
        }
      ]
    },
    {
      "cell_type": "code",
      "source": [
        "import pandas as pd\n",
        "dict_data = {'c0':[1,2,3], 'c1':[4,5,6], 'c2':[7,8,9], 'c3':[10,11,12], 'c4':[13,14,15]}\n",
        "print(dict_data)\n",
        "print('\\n')\n",
        "df = pd.DataFrame(dict_data)\n",
        "print(df)\n",
        "print('\\n')\n",
        "print(type(df))   #데이터 프레임이 된 변수명을 넣는다."
      ],
      "metadata": {
        "colab": {
          "base_uri": "https://localhost:8080/"
        },
        "id": "9uutxRpkKQik",
        "outputId": "1b2631d8-e6c8-4989-905b-cfcda2abf320"
      },
      "execution_count": null,
      "outputs": [
        {
          "output_type": "stream",
          "name": "stdout",
          "text": [
            "{'c0': [1, 2, 3], 'c1': [4, 5, 6], 'c2': [7, 8, 9], 'c3': [10, 11, 12], 'c4': [13, 14, 15]}\n",
            "\n",
            "\n",
            "   c0  c1  c2  c3  c4\n",
            "0   1   4   7  10  13\n",
            "1   2   5   8  11  14\n",
            "2   3   6   9  12  15\n",
            "\n",
            "\n",
            "<class 'pandas.core.frame.DataFrame'>\n"
          ]
        }
      ]
    },
    {
      "cell_type": "markdown",
      "source": [
        "앞에 0 1 2 는 자동으로 생성되는 인데스 넘버 이다."
      ],
      "metadata": {
        "id": "jgcKaCNfLvOR"
      }
    },
    {
      "cell_type": "code",
      "source": [
        "import pandas as pd\n",
        "dict_data= {'c0':[1,2,3], 'c1':[4,5,6], 'c2':[7,8,9], 'c3':[10,11,12], 'c4':[13,14,15]}\n",
        "df=pd.DataFrame(dict_data)\n",
        "print(df)"
      ],
      "metadata": {
        "id": "lBwmaNFq0VC_"
      },
      "execution_count": null,
      "outputs": []
    },
    {
      "cell_type": "code",
      "source": [
        "#@markdown <font color = 'red'> **🐹 Student Activity 1 ⤵️**\n",
        "\n",
        "#@markdown <font color = 'blue'> **dictionary ➡️ data frame, shape (3,5) 3행 5열**\n",
        "\n",
        "#-*- coding: utf-8 -*-\n",
        "\n",
        "# dictionary data with column name as key & list as value\n",
        "!pip install pandas\n",
        "import pandas as pd\n",
        "dict_data = {'c0':[1,2,3], 'c1':[4,5,6], 'c2':[7,8,9], 'c3':[10,11,12], 'c4':[13,14,15]}\n",
        "\n",
        "print('\\n')\n",
        "print(dict_data)\n",
        "print('\\n')\n",
        "#함수로 dict_data 변수 내용을 데이터프레임으로 변환. 변수 df에 할당\n",
        "df = pd.DataFrame(dict_data)\n",
        "\n",
        "print(df)\n",
        "\n",
        "print('\\n')\n",
        "print(type(df))\n"
      ],
      "metadata": {
        "colab": {
          "base_uri": "https://localhost:8080/"
        },
        "id": "KSy0Rz6byu99",
        "outputId": "cde4d966-fc50-4e02-a3cc-9d07cb1f79a2"
      },
      "execution_count": null,
      "outputs": [
        {
          "output_type": "stream",
          "name": "stdout",
          "text": [
            "Requirement already satisfied: pandas in /usr/local/lib/python3.11/dist-packages (2.2.2)\n",
            "Requirement already satisfied: numpy>=1.23.2 in /usr/local/lib/python3.11/dist-packages (from pandas) (2.0.2)\n",
            "Requirement already satisfied: python-dateutil>=2.8.2 in /usr/local/lib/python3.11/dist-packages (from pandas) (2.8.2)\n",
            "Requirement already satisfied: pytz>=2020.1 in /usr/local/lib/python3.11/dist-packages (from pandas) (2025.2)\n",
            "Requirement already satisfied: tzdata>=2022.7 in /usr/local/lib/python3.11/dist-packages (from pandas) (2025.2)\n",
            "Requirement already satisfied: six>=1.5 in /usr/local/lib/python3.11/dist-packages (from python-dateutil>=2.8.2->pandas) (1.17.0)\n",
            "\n",
            "\n",
            "{'c0': [1, 2, 3], 'c1': [4, 5, 6], 'c2': [7, 8, 9], 'c3': [10, 11, 12], 'c4': [13, 14, 15]}\n",
            "\n",
            "\n",
            "   c0  c1  c2  c3  c4\n",
            "0   1   4   7  10  13\n",
            "1   2   5   8  11  14\n",
            "2   3   6   9  12  15\n",
            "\n",
            "\n",
            "<class 'pandas.core.frame.DataFrame'>\n"
          ]
        }
      ]
    },
    {
      "cell_type": "markdown",
      "source": [
        "<인덱스 네임을 넣는 방법>"
      ],
      "metadata": {
        "id": "03AzCRLZMS16"
      }
    },
    {
      "cell_type": "code",
      "source": [
        "import pandas as pd\n",
        "dict_data = {'c0':[1,2,3], 'c1':[4,5,6], 'c2':[7,8,9], 'c3':[10,11,12], 'c4':[13,14,15]}\n",
        "df = pd.DataFrame(dict_data, index=['item1', 'item2', 'item3'])\n",
        "print(df)"
      ],
      "metadata": {
        "colab": {
          "base_uri": "https://localhost:8080/"
        },
        "id": "PZJmbYGi1kqx",
        "outputId": "4ada90c4-ea64-4eaa-dd39-9069ba6ac13e"
      },
      "execution_count": null,
      "outputs": [
        {
          "output_type": "stream",
          "name": "stdout",
          "text": [
            "       c0  c1  c2  c3  c4\n",
            "item1   1   4   7  10  13\n",
            "item2   2   5   8  11  14\n",
            "item3   3   6   9  12  15\n"
          ]
        }
      ]
    },
    {
      "cell_type": "code",
      "source": [
        "import pandas as pd\n",
        "dict_data = {'c0':[1,2,3], 'c1':[4,5,6], 'c2':[7,8,9], 'c3':[10,11,12], 'c4':[13,14,15]}   #key 와 value가 쌍으로 되어있는 딕셔너리 데이터\n",
        "df = pd.DataFrame(dict_data, index=['item1', 'item2', 'item3'] )  #인덱스를 구체화 시킴, 'item1', 'item2', 'item3' 는 데이터 프레임 클래스에서 두 번째 인자로 사용해서 인덱스를 할당해줄 이름이 나타남.\n",
        "print(df)"
      ],
      "metadata": {
        "colab": {
          "base_uri": "https://localhost:8080/"
        },
        "id": "5SaCyPS6MXBq",
        "outputId": "dbd14ca0-6563-430a-aee3-4f536dcbbc7c"
      },
      "execution_count": null,
      "outputs": [
        {
          "output_type": "stream",
          "name": "stdout",
          "text": [
            "       c0  c1  c2  c3  c4\n",
            "item1   1   4   7  10  13\n",
            "item2   2   5   8  11  14\n",
            "item3   3   6   9  12  15\n"
          ]
        }
      ]
    },
    {
      "cell_type": "markdown",
      "source": [
        "df = pd.DataFrame(dict_data, index=['item1','item2','item3'])  #딕셔너리 데이터는 우선 첫 번째 함수의 인자에는 데이터 프레임으로 변환을 시킬 때 클래스에 들어가는 인자인데 이 클래스의 인자는 테이터에 해당하는 변수명을 적어주고, 그 다음에 쉼표하기. 쉼표를 하면 그 뒤에 내가 정교화하는 작업들이 들어갈 수 있다. 이때 두 번째 인자가 들어간다고 생각하면 됨. 이 인자에는 인덱스이다. 인덱스에 인덱스 네임을 만들어서 이제 이 인자에다 채워넣는 것이다. 그래서 index 라고 하고 여러 개의 것이 한 개의 쌍으로, 한 개의 리스트 형태로 들어와야 된다. 그래서 리스트 표시하고, 문자열로 표시해야 된다."
      ],
      "metadata": {
        "id": "Q4XK510PO6dC"
      }
    },
    {
      "cell_type": "code",
      "source": [
        "import pandas as pd\n",
        "dict_data = {'c0':[1,2,3], 'c1':[4,5,6], 'c2':[7,8,9], 'c3':[10,11,12], 'c4':[13,14,15]}  #행이 3개가 생길것임. 따라서 인덱스도 3개\n",
        "df=pd.DataFrame(dict_data, index=['item1', 'item2', 'item3'])\n",
        "print(df)"
      ],
      "metadata": {
        "colab": {
          "base_uri": "https://localhost:8080/"
        },
        "id": "YMYmOAXd8cuI",
        "outputId": "b8d9ae20-b295-4810-b5dc-b352033f489f"
      },
      "execution_count": null,
      "outputs": [
        {
          "output_type": "stream",
          "name": "stdout",
          "text": [
            "       c0  c1  c2  c3  c4\n",
            "item1   1   4   7  10  13\n",
            "item2   2   5   8  11  14\n",
            "item3   3   6   9  12  15\n"
          ]
        }
      ]
    },
    {
      "cell_type": "code",
      "source": [
        "#@markdown <font color = 'red'> **🐹 Student Activity 1 ⤵️**\n",
        "\n",
        "#@markdown <font color = 'blue'> **dictionary ➡️ data frame, shape (3,5) 3행 5열 with Index Names**\n",
        "\n",
        "#-*- coding: utf-8 -*-\n",
        "\n",
        "# dictionary data with column name as key & list as value\n",
        "\n",
        "import pandas as pd\n",
        "dict_data = {'c0':[1,2,3], 'c1':[4,5,6], 'c2':[7,8,9], 'c3':[10,11,12], 'c4':[13,14,15]}\n",
        "\n",
        "\n",
        "#함수로 dict_data 변수 내용을 데이터프레임으로 변환. 그리고 변수 df에 할당. 아래 [ ] 내용은 new index name이 된다.\n",
        "df = pd.DataFrame(dict_data, index=['item1','item2','item3'])\n",
        "\n",
        "print(df)\n",
        "\n",
        "print('\\n')\n",
        "print(type(df))"
      ],
      "metadata": {
        "id": "TfSC1ikpWawO",
        "outputId": "fc406c77-7485-443d-afac-93f8a53f4032",
        "colab": {
          "base_uri": "https://localhost:8080/"
        }
      },
      "execution_count": null,
      "outputs": [
        {
          "output_type": "stream",
          "name": "stdout",
          "text": [
            "       c0  c1  c2  c3  c4\n",
            "item1   1   4   7  10  13\n",
            "item2   2   5   8  11  14\n",
            "item3   3   6   9  12  15\n",
            "\n",
            "\n",
            "<class 'pandas.core.frame.DataFrame'>\n"
          ]
        }
      ]
    },
    {
      "cell_type": "markdown",
      "source": [
        "👀 🐾 **Give names of row index & coumn name**"
      ],
      "metadata": {
        "id": "Ole8Rw5-7VHQ"
      }
    },
    {
      "cell_type": "code",
      "source": [
        "<위와 비교했을 때 지금은 아무것도 없고 그냥 리스트 형태 일 때>\n",
        "즉, 데이터 프레임 안에서 그 값에 해당하는 것들만 입력형 데이터를 내가 넣는다고 생각하면 됨.\n",
        "튜플 데이터는 리스트 데이터하고 똑같은데, 튜플은 데이터 값을 나중에 변환시키지 못한다.\n",
        "\n",
        "\n",
        "tuple_data = ([15, 'Male', 'Public'], [17, 'Female', 'Priviate'])  #튜플 데이터 안에 리스트 데이터가 첫 번째 요소, 두 번째 요소 가 있다. 즉, 리스트 데이터 이 하나가 시리즈 데이터라고 생각하면 됨. 총 2개의 시리즈가 있으니까 합해서 정렬시키니까 데이터 프레임 즉, matrix형 2차원 벡터가 생성되는 것임.\n",
        " [17, 'Female', 'Priviate'] 는 두 번째 리스트"
      ],
      "metadata": {
        "id": "93qejFTFRMTQ"
      },
      "execution_count": null,
      "outputs": []
    },
    {
      "cell_type": "markdown",
      "source": [
        "df = pd.DataFrame(tuple_data, index = ['Simon', 'Emma'],\n",
        "              columns = ['Age', 'Gender', 'School'])  \n",
        "\n",
        "여기는 인자가 3개이다. 데이터 프레임 클래스 안에 들어가는 인자가 3개이다. 첫 번째 인자는 위쪽에서 할당된 변수명 첫 번째 인자. 두 번째 인자는 인덱스이다. 그래서 인덱스 네임에 할당할 것..  3번째는 칼럼 레이블에다가 줄 네이밍\n",
        "그래서 3개의 인자가 있다.\n",
        "\n",
        "\n",
        "df = pd.DataFrame(tuple_data, index = ['Simon', 'Emma'],\n",
        "              columns = ['Age', 'Gender', 'School'])  \n",
        "여기서 첫 번째는 변수명 튜플 데이터를 대상으로 한다고 지정해주는 것이다. 콤마하고 인덱스 네임이다. 사이먼과 에마 를 리스트 안에 넣는다. 그리고 쉼표해서 columns 라고 해서 이 칼럼은 라벨을 얘기하는 것임.\n",
        "\n",
        "\n",
        "보면 튜플 데이터는 두 개의 요소가 있다. 한 개의 리스트 요소 또 다른 한 개의 리스트 요소. 그래서 한 개의 리스트 요소가 Simon에 해당한다. 또 다른 한 개의 요소는 Emma에 해당하는 거고\n",
        "또 칼럼 라벨에 대해서는 15,17이 한 개의 칼럼. 메일,피메일이 한 개의 칼럼, 퍼블릭, 프라이빗이 한 개의 칼럼을 이루어서"
      ],
      "metadata": {
        "id": "9pzrYqzFW-xu"
      }
    },
    {
      "cell_type": "code",
      "source": [
        "import pandas as pd\n",
        "tuple_data = ([15, 'Male', 'Public'], [17, 'Female', 'Priviate'])# Public:공공의\n",
        "df=pd.DataFrame(tuple_data, index=['Simon', 'Emma'], columns=['Age', 'Gender', 'School'])\n",
        "print(df)\n",
        "print('\\n')\n",
        "print(type(df))\n",
        "print('\\n')\n",
        "print(tuple_data)"
      ],
      "metadata": {
        "colab": {
          "base_uri": "https://localhost:8080/"
        },
        "id": "KeaTK_Tk-_ei",
        "outputId": "f11fd8f4-12e2-4c33-bde2-4c8137a307f7"
      },
      "execution_count": null,
      "outputs": [
        {
          "output_type": "stream",
          "name": "stdout",
          "text": [
            "       Age  Gender    School\n",
            "Simon   15    Male    Public\n",
            "Emma    17  Female  Priviate\n",
            "\n",
            "\n",
            "<class 'pandas.core.frame.DataFrame'>\n",
            "\n",
            "\n",
            "([15, 'Male', 'Public'], [17, 'Female', 'Priviate'])\n"
          ]
        }
      ]
    },
    {
      "cell_type": "code",
      "source": [
        "df=pd.DataFrame(tuple_data)\n",
        "print(df)"
      ],
      "metadata": {
        "colab": {
          "base_uri": "https://localhost:8080/"
        },
        "id": "4nQY3yZgAJQK",
        "outputId": "e60bf59b-3154-43ea-9b88-c4cd1e53b4d1"
      },
      "execution_count": null,
      "outputs": [
        {
          "output_type": "stream",
          "name": "stdout",
          "text": [
            "    0       1         2\n",
            "0  15    Male    Public\n",
            "1  17  Female  Priviate\n"
          ]
        }
      ]
    },
    {
      "cell_type": "code",
      "source": [
        "import pandas as pd\n",
        "tuple_data = ([15, 'Male', 'Public'], [17, 'Female', 'Priviate'])\n",
        "df = pd.DataFrame(tuple_data, index= ['Simon', 'Emma'],  # 그래서 대상이 되는 튜플 데이터 변수명을 쓰고, 그리고 그 변수명의 인덱스 네임을 할당하고, 그 다음에 칼럼 네임을 할당해줌.\n",
        "                  columns = ['Age', 'Gender', 'School'])\n",
        "print(df)\n",
        "print('\\n')\n",
        "print(type(df))\n",
        "print('\\n')\n",
        "print(tuple_data)\n",
        "print('\\n')\n",
        "\n",
        "df = pd.DataFrame(tuple_data)  #튜플 데이터를 데이터 프레임에 적용시키면 matrix 형태로 나온다. 그리고 모든 인덱스는 0부터 시작한다. 칼럼은 3개이다.\n",
        "print(df)"
      ],
      "metadata": {
        "id": "7XLycz65RlUh",
        "colab": {
          "base_uri": "https://localhost:8080/"
        },
        "outputId": "604932c0-99c7-4143-a40e-cae29b48e98d"
      },
      "execution_count": null,
      "outputs": [
        {
          "output_type": "stream",
          "name": "stdout",
          "text": [
            "       Age  Gender    School\n",
            "Simon   15    Male    Public\n",
            "Emma    17  Female  Priviate\n",
            "\n",
            "\n",
            "<class 'pandas.core.frame.DataFrame'>\n",
            "\n",
            "\n",
            "([15, 'Male', 'Public'], [17, 'Female', 'Priviate'])\n",
            "\n",
            "\n",
            "    0       1         2\n",
            "0  15    Male    Public\n",
            "1  17  Female  Priviate\n"
          ]
        }
      ]
    },
    {
      "cell_type": "code",
      "source": [
        "import pandas as pd\n",
        "tuple_data = ([15, 'Male', 'Public'], [17, 'Female', 'Priviate'])\n",
        "df = pd.DataFrame(tuple_data, index= ['Simon', 'Emma'],  # 그래서 대상이 되는 튜플 데이터 변수명을 쓰고, 그리고 그 변수명의 인덱스 네임을 할당하고, 그 다음에 칼럼 네임을 할당해줌.\n",
        "                  columns = ['Age', 'Gender', 'School'])\n",
        "print(df)\n",
        "print('\\n')\n",
        "print(type(df))\n",
        "print('\\n')\n",
        "print(tuple_data)\n",
        "print('\\n')\n",
        "\n",
        "df = pd.DataFrame(tuple_data)  #튜플 데이터를 데이터 프레임에 적용시키면 matrix 형태로 나온다. 그리고 모든 인덱스는 0부터 시작한다. 칼럼은 3개이다.\n",
        "print(df)"
      ],
      "metadata": {
        "id": "rpYukmAXqA0b"
      },
      "execution_count": null,
      "outputs": []
    },
    {
      "cell_type": "code",
      "source": [
        "import pandas as pd\n",
        "tuple_data = ([15, 'Male', 'Public'], [17, 'Female', 'Priviate'])\n",
        "df =pd.DataFrame(tuple_data, columns=['Age', 'Gender', 'School'], index=['Simon', 'Emma'])\n",
        "print(df)\n",
        "print('\\n')\n",
        "print(df.index)\n",
        "print('\\n')\n",
        "print(df.columns)"
      ],
      "metadata": {
        "colab": {
          "base_uri": "https://localhost:8080/"
        },
        "id": "yhjYj5rQA52q",
        "outputId": "1972097b-79c4-4679-a4d7-d1b810eaf8c0"
      },
      "execution_count": null,
      "outputs": [
        {
          "output_type": "stream",
          "name": "stdout",
          "text": [
            "       Age  Gender    School\n",
            "Simon   15    Male    Public\n",
            "Emma    17  Female  Priviate\n",
            "\n",
            "\n",
            "Index(['Simon', 'Emma'], dtype='object')\n",
            "\n",
            "\n",
            "Index(['Age', 'Gender', 'School'], dtype='object')\n"
          ]
        }
      ]
    },
    {
      "cell_type": "code",
      "source": [
        "#@markdown <font color = 'red'> **🐹 Student Activity 2 ⤵️**\n",
        "\n",
        "#@markdown <font color = 'blue'> **행 인덱스/ 열 이름 지정하여 데이터 프레임으로 만들기**\n",
        "\n",
        "#-*- coding: urf-8 -*-\n",
        "\n",
        "import pandas as pd\n",
        "\n",
        "tuple_data = ([15, 'Male', 'Public'], [17, 'Female', 'Priviate'])\n",
        "\n",
        "df = pd.DataFrame(tuple_data, index = ['Simon', 'Emma'],\n",
        "              columns = ['Age', 'Gender', 'School'])\n",
        "\n",
        "print(type(df))\n",
        "print('\\n')\n",
        "\n",
        "print(df)\n",
        "print('\\n')\n",
        "\n",
        "print(df.index)\n",
        "print('\\n')\n",
        "\n",
        "print(df.columns)\n",
        "print('\\n')"
      ],
      "metadata": {
        "id": "3mCeh2bG7wwk",
        "outputId": "bee47e78-00b5-4c1f-a36e-8fba19c755a0",
        "colab": {
          "base_uri": "https://localhost:8080/"
        }
      },
      "execution_count": null,
      "outputs": [
        {
          "output_type": "stream",
          "name": "stdout",
          "text": [
            "<class 'pandas.core.frame.DataFrame'>\n",
            "\n",
            "\n",
            "       Age  Gender    School\n",
            "Simon   15    Male    Public\n",
            "Emma    17  Female  Priviate\n",
            "\n",
            "\n",
            "Index(['Simon', 'Emma'], dtype='object')\n",
            "\n",
            "\n",
            "Index(['Age', 'Gender', 'School'], dtype='object')\n",
            "\n",
            "\n"
          ]
        }
      ]
    },
    {
      "cell_type": "markdown",
      "source": [
        "인티저가 로우로 가면 행이다. 행 인티저가 될 수도 있고, 인덱스 인티저가 될 수도 있고, 칼럼으로 가면 칼럼에 대한 인덱스 인티저가 될 수도 있다.\n",
        "\n",
        "행에 대해서는 인덱스 네임, 열에 대해서는 칼럼 레이블 이라고 해서"
      ],
      "metadata": {
        "id": "fAMvdeLEsgE9"
      }
    },
    {
      "cell_type": "markdown",
      "source": [
        "개인 정보 떼문에 원래 데이터를 갖고는 있지만 그것을 대체해주는 것을 학생1, 학생2 라고 한다. 좀 더 일반적인 단어로 대체해줌. 원래 데이터는 손상하지 않는다."
      ],
      "metadata": {
        "id": "qta7uAbrtHxD"
      }
    },
    {
      "cell_type": "code",
      "source": [
        "import pandas as pd\n",
        "tuple_data = ([15, 'Male', 'Public'], [17, 'Female', 'Priviate'])\n",
        "df = pd.DataFrame(tuple_data, index=['Simon', 'Emma'], columns=['Age', 'Gender','School'])\n",
        "print(df)\n",
        "print('\\n')\n",
        "df.index=['Student1', 'Student2']\n",
        "df.columns=['Number of years', 'M/F', 'Affiliation']\n",
        "print(df)"
      ],
      "metadata": {
        "colab": {
          "base_uri": "https://localhost:8080/"
        },
        "id": "Z3cC2oOvCVTH",
        "outputId": "d7998f1e-c556-46ac-c6e0-73f65a8901c8"
      },
      "execution_count": null,
      "outputs": [
        {
          "output_type": "stream",
          "name": "stdout",
          "text": [
            "       Age  Gender    School\n",
            "Simon   15    Male    Public\n",
            "Emma    17  Female  Priviate\n",
            "\n",
            "\n",
            "          Number of years     M/F Affiliation\n",
            "Student1               15    Male      Public\n",
            "Student2               17  Female    Priviate\n"
          ]
        }
      ]
    },
    {
      "cell_type": "markdown",
      "source": [
        "df.  은 하위분야로 적용하는 것들을 나타내는 것임.*****데이터 프레임에서 inplace = True 를 사용해서"
      ],
      "metadata": {
        "id": "h3W40qPPUt4d"
      }
    },
    {
      "cell_type": "code",
      "source": [
        "import pandas as pd\n",
        "\n",
        "tuple_data = ([15, 'Male', 'Public'], [17, 'Female', 'Priviate'])   #리스트형 데이터가 첫 번째 요소도 리스트 형 데이터, 두 번째 요소도 리스트 형 데이터인데, 2개의 리스트형 데이터로 이루어진 튜플데이터이다.\n",
        "\n",
        "df = pd.DataFrame(tuple_data, index = ['Simon', 'Emma'],            #데이터 프레임이라고 하는 변수명에 판다스의 데이터 프레임 클래스를 사용을 한다. 이때 3개의 인자를 사용함. 변수명, 인덱스, 칼럼스\n",
        "              columns = ['Age', 'Gender', 'School'])\n",
        "print(df)                                                           #결과를 봤더니 이 표에는 너무 개인정보가 들어가 있어. 그래서 이 사람들의 이름을 바꿔준다.\n",
        "print('\\n')\n",
        "#데이터 프레임 변수(df: 변수)에서\n",
        "#####!!!!!!df.  은 하위분야로 적용하는 것들을 나타내는 것임.*****데이터 프레임에서 inplace = True 를 사용해서\n",
        "\n",
        "df.index = ['Student1', 'Student2']\n",
        "df.columns = ['Number of years', 'M/F', 'Affiliation']\n",
        "print(df)"
      ],
      "metadata": {
        "colab": {
          "base_uri": "https://localhost:8080/"
        },
        "id": "uDFXD5GdtZNC",
        "outputId": "4df20216-ce34-4d8a-c7e0-4ff8a0d830eb"
      },
      "execution_count": null,
      "outputs": [
        {
          "output_type": "stream",
          "name": "stdout",
          "text": [
            "       Age  Gender    School\n",
            "Simon   15    Male    Public\n",
            "Emma    17  Female  Priviate\n",
            "\n",
            "\n",
            "          Number of years     M/F Affiliation\n",
            "Student1               15    Male      Public\n",
            "Student2               17  Female    Priviate\n"
          ]
        }
      ]
    },
    {
      "cell_type": "markdown",
      "source": [
        "Purpose :목적  /  Add some variaions!(약간의 변화를 추가해봐\n",
        "또는\n",
        "몇 가지 다양한 버전을 더해봐)"
      ],
      "metadata": {
        "id": "LSWdZNXREF1d"
      }
    },
    {
      "cell_type": "code",
      "source": [
        "import pandas as pd\n",
        "tuple_data = ([15, 'Male', 'Public'], [17, 'Female', 'Priviate'])\n",
        "df=pd.DataFrame(tuple_data, index=['Simon', 'Emma'], columns=['Age', 'Gender', 'Priviate'])\n",
        "print(df)\n",
        "df.index=['Student1', 'Student2']\n",
        "df.columns=['Number of Years', 'M/F', 'Affiliation']\n",
        "print(df)"
      ],
      "metadata": {
        "colab": {
          "base_uri": "https://localhost:8080/"
        },
        "id": "5xwwHWx7EXKH",
        "outputId": "ff42b2fe-1b8e-4e0d-8ed7-b880c5483f2f"
      },
      "execution_count": null,
      "outputs": [
        {
          "output_type": "stream",
          "name": "stdout",
          "text": [
            "       Age  Gender  Priviate\n",
            "Simon   15    Male    Public\n",
            "Emma    17  Female  Priviate\n",
            "          Number of Years     M/F Affiliation\n",
            "Student1               15    Male      Public\n",
            "Student2               17  Female    Priviate\n"
          ]
        }
      ]
    },
    {
      "cell_type": "code",
      "source": [
        "#@markdown <font color = 'red'> **🐹 Student Activity 3 ⤵️**\n",
        "\n",
        "#@markdown <font color = 'blue'>위 코드셀 행 인덱스 (row index)를 ['Student 1', 'Student 2']로 변경하고, 열 이름 (column name)을 ['Number of Years', 'M/F', 'Affiliation'] 으로 변경\n",
        "\n",
        "\n",
        "import pandas as pd\n",
        "\n",
        "tuple_data = ([15, 'Male', 'Public'], [17, 'Female', 'Priviate'])\n",
        "\n",
        "df = pd.DataFrame(tuple_data, index = ['Simon', 'Emma'],\n",
        "              columns = ['Age', 'Gender', 'School'])\n",
        "print(df)\n",
        "\n",
        "\n",
        "#@markdown Purpose: 🌼 Add some variaions!\n",
        "#@markdown - new index names 는 새로 지정, new column names는 새로 지정\n",
        "\n",
        "df.index = ['Student 1', 'Student 2']\n",
        "\n",
        "df.columns = ['Number of Years', 'M/F', 'Affiliation']\n",
        "\n",
        "#UserWarning: Pandas doesn't allow columns to be created via a new attribute name. If you miss 'inplace=True argument, you will end up with old column names.\n",
        "#df.rename(columns={'Age':'Number of Years', 'Gender':'M/F', 'School':'Affiliation'}, inplace = True)\n",
        "\n",
        "print(type(df))\n",
        "print('\\n')\n",
        "print(df)\n",
        "\n"
      ],
      "metadata": {
        "id": "Wf6omO_x-Uin",
        "outputId": "464e9a52-bd0c-41de-e743-e8404364512b",
        "colab": {
          "base_uri": "https://localhost:8080/"
        }
      },
      "execution_count": null,
      "outputs": [
        {
          "output_type": "stream",
          "name": "stdout",
          "text": [
            "       Age  Gender    School\n",
            "Simon   15    Male    Public\n",
            "Emma    17  Female  Priviate\n",
            "<class 'pandas.core.frame.DataFrame'>\n",
            "\n",
            "\n",
            "           Number of Years     M/F Affiliation\n",
            "Student 1               15    Male      Public\n",
            "Student 2               17  Female    Priviate\n"
          ]
        }
      ]
    },
    {
      "cell_type": "markdown",
      "source": [
        "inplace = True 는 논항인데, 논항 인자 이렇게 번역이 됨. 함수나 혹은 클래스 상에 들어가는 인자들은 이런 것들이 있다. 첫 번째는 변수명이 들어가고, 두 번째 인자에는 로우 네임스, 그 다음에 칼럼레이블 해서 인덱스라고 하는 것과 칼럼에 대한 것들을 두 번째, 세 번째 변수로 가지게 되는데,  이때 예를 들어서 inplace = True 라고 끝에 인자를 넣게 되면 이때는 내가 지금 갖고 있는 데이터 프레임을 수정을 하거나 변경을 하려고 하는데 modification(수정,변경)이 일어나게 해라. 라는 뜻이다."
      ],
      "metadata": {
        "id": "maEO9jtRTNd8"
      }
    },
    {
      "cell_type": "code",
      "source": [
        "pip install pandas"
      ],
      "metadata": {
        "colab": {
          "base_uri": "https://localhost:8080/"
        },
        "id": "EuMxQUVGWNIL",
        "outputId": "64f51527-6da4-4012-bac1-302e635a8b4e"
      },
      "execution_count": null,
      "outputs": [
        {
          "output_type": "stream",
          "name": "stdout",
          "text": [
            "Requirement already satisfied: pandas in /usr/local/lib/python3.11/dist-packages (2.2.2)\n",
            "Requirement already satisfied: numpy>=1.23.2 in /usr/local/lib/python3.11/dist-packages (from pandas) (2.0.2)\n",
            "Requirement already satisfied: python-dateutil>=2.8.2 in /usr/local/lib/python3.11/dist-packages (from pandas) (2.8.2)\n",
            "Requirement already satisfied: pytz>=2020.1 in /usr/local/lib/python3.11/dist-packages (from pandas) (2025.2)\n",
            "Requirement already satisfied: tzdata>=2022.7 in /usr/local/lib/python3.11/dist-packages (from pandas) (2025.2)\n",
            "Requirement already satisfied: six>=1.5 in /usr/local/lib/python3.11/dist-packages (from python-dateutil>=2.8.2->pandas) (1.17.0)\n"
          ]
        }
      ]
    },
    {
      "cell_type": "markdown",
      "source": [
        "rename:이름이 바뀌다, 개명하"
      ],
      "metadata": {
        "id": "DQ1gyIICG0Cd"
      }
    },
    {
      "cell_type": "code",
      "source": [
        "import pandas as pd\n",
        "tuple_data = ([15, 'Male', 'Public'], [17, 'Female', 'Priviate'])\n",
        "df = pd.DataFrame(tuple_data, index=['Simon', 'Emma'], columns=['Age', 'Gender', 'Priviate'])\n",
        "print(df)\n",
        "print('\\n')\n",
        "df.rename(index={'Simon':'Student1', 'Emma':'Student2'}, inplace = True)\n",
        "df.rename(columns={'Age':'Number of Years', 'Gender':'M/F', 'School':'Affiliation'}, inplace=True)\n",
        "print(df)"
      ],
      "metadata": {
        "colab": {
          "base_uri": "https://localhost:8080/"
        },
        "id": "-kr6zezVF5WO",
        "outputId": "cfea5f6c-5465-41e1-9fd5-c023a290958e"
      },
      "execution_count": null,
      "outputs": [
        {
          "output_type": "stream",
          "name": "stdout",
          "text": [
            "       Age  Gender  Priviate\n",
            "Simon   15    Male    Public\n",
            "Emma    17  Female  Priviate\n",
            "\n",
            "\n",
            "          Number of Years     M/F  Priviate\n",
            "Student1               15    Male    Public\n",
            "Student2               17  Female  Priviate\n"
          ]
        }
      ]
    },
    {
      "cell_type": "code",
      "source": [
        "import pandas as pd\n",
        "tuple_data = ([15, 'Male', 'Public'], [17, 'Female', 'Priviate'])\n",
        "df = pd.DataFrame(tuple_data, index=['Simon', 'Emma'], columns = ['Age', 'Gender', 'School']) #데이터 프레임 이라고 해서 내가 갖고 있는 데이터를 데이터 프레임 형식 즉, 격자무늬 matrix 형태로 변경하는 거다. 그래서 데이터 프레임 이라고 하는 클래스를 사용한다. 여기서 index라고 하는 건 인덱스 네임이다. 그래서 로우 네임즈 행에 대한거\n",
        "print(df)\n",
        "print('\\n')\n",
        "df.rename(index = {'Simon':'Student1', 'Emma':'Student2'}, inplace = False)   #inplace가 펄스면 변경이 없다.\n",
        "df.rename(columns = {'Age':'Number of Years', 'Gender':'M/F', 'School':'Affiliation'}, inplace = True)\n",
        "print(type(df))\n",
        "print('\\n')\n",
        "print(df)"
      ],
      "metadata": {
        "colab": {
          "base_uri": "https://localhost:8080/"
        },
        "id": "Jq0FFcHla_9p",
        "outputId": "3ad3223f-bf8a-479d-bfea-b19aeb108f2c"
      },
      "execution_count": null,
      "outputs": [
        {
          "output_type": "stream",
          "name": "stdout",
          "text": [
            "       Age  Gender    School\n",
            "Simon   15    Male    Public\n",
            "Emma    17  Female  Priviate\n",
            "\n",
            "\n",
            "<class 'pandas.core.frame.DataFrame'>\n",
            "\n",
            "\n",
            "       Number of Years     M/F Affiliation\n",
            "Simon               15    Male      Public\n",
            "Emma                17  Female    Priviate\n"
          ]
        }
      ]
    },
    {
      "cell_type": "markdown",
      "source": [
        "inplace = True 라고 하는 이 인자가 들어가게 되면 이제 데이터 프레임에서 변경하고자 하는 걸 변경할 수 있다. 그런데 만약에 True가 아니고 펄스면 변경이 되지 않는다."
      ],
      "metadata": {
        "id": "o7CW8j8RbcSm"
      }
    },
    {
      "cell_type": "markdown",
      "source": [
        "inplace = True !!!!!!!!!기억하기"
      ],
      "metadata": {
        "id": "2YRvYsBbM7az"
      }
    },
    {
      "cell_type": "code",
      "source": [
        "import pandas as pd\n",
        "tuple_data = ([15,'Male','Public'], [17,'Female','Priviate'])\n",
        "df=pd.DataFrame(tuple_data, index=['Simon', 'Emma'], columns=['Age', 'Gender', 'School'])\n",
        "print(df)\n",
        "print('\\n')\n",
        "df.rename(index={'Simon':'Student1', 'Emma':'Student2'}, inplace=True)\n",
        "df.rename(columns={'Age':'Number of Years', 'Gender':'M/F', 'School':'Affiliation'}, inplace=True)\n",
        "print(df)"
      ],
      "metadata": {
        "colab": {
          "base_uri": "https://localhost:8080/"
        },
        "id": "6N8wIab4LDYK",
        "outputId": "2678c88c-017f-40d3-e1f5-377f5d60a532"
      },
      "execution_count": null,
      "outputs": [
        {
          "output_type": "stream",
          "name": "stdout",
          "text": [
            "       Age  Gender    School\n",
            "Simon   15    Male    Public\n",
            "Emma    17  Female  Priviate\n",
            "\n",
            "\n",
            "          Number of Years     M/F Affiliation\n",
            "Student1               15    Male      Public\n",
            "Student2               17  Female    Priviate\n"
          ]
        }
      ]
    },
    {
      "cell_type": "markdown",
      "source": [
        "rename 은 데이터 프레임에서\n",
        "\n"
      ],
      "metadata": {
        "id": "EsU7gG-UQOnP"
      }
    },
    {
      "cell_type": "code",
      "source": [
        "import pandas as pd\n",
        "tuple_data = ([15, 'Male', 'Public'], [17, 'Female', 'Priviate'])\n",
        "df = pd.DataFrame(tuple_data, index=['Simon', 'Emma'], columns = ['Age', 'Gender', 'School']) #데이터 프레임 이라고 해서 내가 갖고 있는 데이터를 데이터 프레임 형식 즉, 격자무늬 matrix 형태로 변경하는 거다. 그래서 데이터 프레임 이라고 하는 클래스를 사용한다. 여기서 index라고 하는 건 인덱스 네임이다. 그래서 로우 네임즈 행에 대한거\n",
        "print(df)\n",
        "print('\\n')\n",
        "df.rename(index = {'Simon':'Student1', 'Emma':'Student2'}, inplace = True)   #중요!!! inplace가 트루 인지 펄스 인지 보기\n",
        "df.rename(columns = {'Age':'Number of Years', 'Gender':'M/F', 'School':'Affiliation'}, inplace = True)\n",
        "print(type(df))\n",
        "print('\\n')\n",
        "print(df)\n"
      ],
      "metadata": {
        "colab": {
          "base_uri": "https://localhost:8080/"
        },
        "id": "yE6EnvPjWXA-",
        "outputId": "f9c72502-f92c-4e39-c9c8-dc18465599ad"
      },
      "execution_count": null,
      "outputs": [
        {
          "output_type": "stream",
          "name": "stdout",
          "text": [
            "       Age  Gender    School\n",
            "Simon   15    Male    Public\n",
            "Emma    17  Female  Priviate\n",
            "\n",
            "\n",
            "<class 'pandas.core.frame.DataFrame'>\n",
            "\n",
            "\n",
            "          Number of Years     M/F Affiliation\n",
            "Student1               15    Male      Public\n",
            "Student2               17  Female    Priviate\n"
          ]
        }
      ]
    },
    {
      "cell_type": "markdown",
      "source": [
        "index에 할당할거는 Simon과 Emma 이다.\n",
        "\n",
        "rename: 이름이 바뀌다. 개명하다"
      ],
      "metadata": {
        "id": "n8NHmQOEXynw"
      }
    },
    {
      "cell_type": "markdown",
      "source": [
        "rename 이라고 하는건 데이터 프레임에서 rename 에다가 인덱스 로우네임에다가 학생1로 리네임을 해라. 그래서 이름을 바꾸고 즉, 명칭을 바꿔주는 것이다. 그 다음에 두 번째 칼럼에서는 칼럼레이블에서 에이쥐를 넘벌오브이얼스로 바꾸고,... 으로 바꿔라."
      ],
      "metadata": {
        "id": "ZBCZzEcPYqlC"
      }
    },
    {
      "cell_type": "code",
      "source": [
        "#@markdown <font color = 'red'> **🐹 Student Activity 3_1 ⤵️**\n",
        "\n",
        "#@markdown <font color = 'blue'> **Instead of giving new names for the rows and columns directly, try to use 'rename()' function!**\n",
        "\n",
        "#@markdown - When new names are given to index names and column names, rename() function can be used.\n",
        "\n",
        "import pandas as pd\n",
        "\n",
        "tuple_data = ([15, 'Male', 'Public'], [17, 'Female', 'Priviate'])\n",
        "\n",
        "df = pd.DataFrame(tuple_data, index = ['Simon', 'Emma'],\n",
        "              columns = ['Age', 'Gender', 'School'])\n",
        "\n",
        "print(df)\n",
        "print('\\n')\n",
        "\n",
        "df.rename(index = {'Simon':'Student1', 'Emma':'Student 2'}, inplace = True)\n",
        "df.rename(columns = {'Age':'Number of Years', 'Gender':'M/F', 'School':'Affiliation'}, inplace = True)\n",
        "\n",
        "#UserWarning: If you miss 'inplace=True argument, you will end up with old column names.\n",
        "\n",
        "print(type(df))\n",
        "print('\\n')\n",
        "print(df)"
      ],
      "metadata": {
        "id": "BCqSNiut8cvP",
        "outputId": "cc78eeb3-498d-4b51-9cf7-d36a11e19b54",
        "colab": {
          "base_uri": "https://localhost:8080/"
        }
      },
      "execution_count": null,
      "outputs": [
        {
          "output_type": "stream",
          "name": "stdout",
          "text": [
            "       Age  Gender    School\n",
            "Simon   15    Male    Public\n",
            "Emma    17  Female  Priviate\n",
            "\n",
            "\n",
            "<class 'pandas.core.frame.DataFrame'>\n",
            "\n",
            "\n",
            "           Number of Years     M/F Affiliation\n",
            "Student1                15    Male      Public\n",
            "Student 2               17  Female    Priviate\n"
          ]
        }
      ]
    },
    {
      "cell_type": "code",
      "source": [],
      "metadata": {
        "id": "6351Tzf4QJ8l"
      },
      "execution_count": null,
      "outputs": []
    },
    {
      "cell_type": "markdown",
      "source": [
        " In Pandas, inplace=True is an argument used in methods that modify a DataFrame or Series.\n",
        "(Pandas에서 inplace=True는 DataFrame이나 Series를 수정****하는 메서드에서 사용되는 인자(argument)입니다.)"
      ],
      "metadata": {
        "id": "IgmHlZjrP_ju"
      }
    },
    {
      "cell_type": "markdown",
      "source": [
        "inplace=True일 때, 해당 연산은 원래의 DataFrame을 직접 수정합니다.(When inplace=True, the operation modifies the original DataFrame directly.) /inplace=True->원본을 직접 수정"
      ],
      "metadata": {
        "id": "_6egU1maRAKq"
      }
    },
    {
      "cell_type": "markdown",
      "source": [
        "###**💊 In Pandas, inplace=True is an argument used in methods that modify a DataFrame or Series.**\n",
        "\n",
        "- When inplace=True, the operation modifies the original DataFrame directly.\n",
        "\n",
        "- When inplace=False (default), the operation returns a new DataFrame."
      ],
      "metadata": {
        "id": "hid3lFp8r5vI"
      }
    },
    {
      "cell_type": "markdown",
      "source": [
        " If you miss 'inplace=True argument of pd.rename() function for the immediate application of the operation, you will end up with old row/column names.(pd.rename() 함수에서 'inplace=True' 인자를 생략하면, 즉시 변경이 적용되지 않아서 결국에는 기존의 행/열 이름이 그대로 남게 됩니다.)\n",
        "\n"
      ],
      "metadata": {
        "id": "FDDYX2_6RptF"
      }
    },
    {
      "cell_type": "code",
      "source": [
        "#@markdown <font color = 'red'> **🐹 Student Activity 3_2 ⤵️**\n",
        "\n",
        "#@markdown <font color = 'blue'> **💊 If you miss 'inplace=True argument of pd.rename() function for the immediate application of the operation, you will end up with old row/column names.**\n",
        "\n",
        "import pandas as pd\n",
        "\n",
        "tuple_data = ([15, 'Male', 'Public'], [17, 'Female', 'Priviate'])\n",
        "\n",
        "df = pd.DataFrame(tuple_data, index = ['Simon', 'Emma'],\n",
        "              columns = ['Age', 'Gender', 'School'])\n",
        "\n",
        "df.rename(index = {'Simon':'Student1', 'Emma':'Student 2'})\n",
        "\n",
        "df.rename(columns = {'Age':'Number of Years', 'Gender':'M/F', 'School':'Affiliation'})\n",
        "\n",
        "\n",
        "print(type(df))\n",
        "print('\\n')\n",
        "print(df)"
      ],
      "metadata": {
        "id": "Pc_Q-FY2-Cdf",
        "outputId": "4cd367f2-764f-4d2c-f8d2-eb73957d0056",
        "colab": {
          "base_uri": "https://localhost:8080/"
        }
      },
      "execution_count": null,
      "outputs": [
        {
          "output_type": "stream",
          "name": "stdout",
          "text": [
            "<class 'pandas.core.frame.DataFrame'>\n",
            "\n",
            "\n",
            "       Age  Gender    School\n",
            "Simon   15    Male    Public\n",
            "Emma    17  Female  Priviate\n"
          ]
        }
      ]
    },
    {
      "cell_type": "code",
      "source": [
        "#💊 🐹 ⤵️ (cf., by default: inplce = False 인자(argument))\n",
        "\n",
        "import pandas as pd\n",
        "\n",
        "tuple_data = ([15, 'Male', 'Public'], [17, 'Female', 'Priviate'])\n",
        "\n",
        "df = pd.DataFrame(tuple_data, index = ['Simon', 'Emma'],\n",
        "              columns = ['Age', 'Gender', 'School'])\n",
        "\n",
        "df.rename(index = {'Simon':'Student1', 'Emma':'Student 2'}, inplace = False)\n",
        "\n",
        "df.rename(columns = {'Age':'Number of Years', 'Gender':'M/F', 'School':'Affiliation'}, inplace = False)\n",
        "\n",
        "\n",
        "print(type(df))\n",
        "print('\\n')\n",
        "print(df)"
      ],
      "metadata": {
        "colab": {
          "base_uri": "https://localhost:8080/"
        },
        "id": "pMgGd8_J88nn",
        "outputId": "ad0e03d3-15eb-41f1-cefa-f3446b65233e"
      },
      "execution_count": null,
      "outputs": [
        {
          "output_type": "stream",
          "name": "stdout",
          "text": [
            "<class 'pandas.core.frame.DataFrame'>\n",
            "\n",
            "\n",
            "       Age  Gender    School\n",
            "Simon   15    Male    Public\n",
            "Emma    17  Female  Priviate\n"
          ]
        }
      ]
    },
    {
      "cell_type": "markdown",
      "source": [
        "<font color = 'blue'>👀 🐾 **Dropping rows & colums**"
      ],
      "metadata": {
        "id": "J8FhLIJoGyOP"
      }
    },
    {
      "cell_type": "markdown",
      "source": [
        "axis=0은 \"행(row)\"을 삭제할 때 사용합니다 (참고: axis=1은 열(column)을 삭제할 때 사용합니다)."
      ],
      "metadata": {
        "id": "KhKfx_zySJ3V"
      }
    },
    {
      "cell_type": "code",
      "source": [
        "import pandas as pd\n",
        "exam_data = {'Math':[90,80,70], 'English':[98,89,95], 'Music':[85,95,100], 'Gym':[100,90,90]}\n",
        "df = pd.DataFrame(exam_data, index=['Simon', 'Emma', 'Mary'])\n",
        "print(df)\n",
        "print('\\n')\n",
        "df2=df[:]\n",
        "df2.drop('Emma', axis=0, inplace=False)\n",
        "print(df2)"
      ],
      "metadata": {
        "colab": {
          "base_uri": "https://localhost:8080/"
        },
        "id": "xI2p1NCKT5Wh",
        "outputId": "ab4bfd70-89f1-4145-e466-4d6dbde63d34"
      },
      "execution_count": null,
      "outputs": [
        {
          "output_type": "stream",
          "name": "stdout",
          "text": [
            "       Math  English  Music  Gym\n",
            "Simon    90       98     85  100\n",
            "Emma     80       89     95   90\n",
            "Mary     70       95    100   90\n",
            "\n",
            "\n",
            "       Math  English  Music  Gym\n",
            "Simon    90       98     85  100\n",
            "Emma     80       89     95   90\n",
            "Mary     70       95    100   90\n"
          ]
        }
      ]
    },
    {
      "cell_type": "code",
      "source": [
        "import pandas as pd\n",
        "exam_data = {'Math':[90,80,70], 'English':[98,89,95], 'Music':[85,95,100], 'Gym':[100,90,90]}\n",
        "df = pd.DataFrame(exam_data, index=['Simon', 'Emma', 'Mary'])\n",
        "print(df)\n",
        "print('\\n')\n",
        "df2=df[:]  #얘를 꼭 넣어야 됨.그래야 행이나 열을 삭제하고 나서 데이터 프레임을 볼 수 있음.\n",
        "df2.drop('Math', axis=1, inplace=True)\n",
        "print(df2)"
      ],
      "metadata": {
        "colab": {
          "base_uri": "https://localhost:8080/"
        },
        "id": "1Rd7VNgwUVUx",
        "outputId": "364bfbdd-bd38-4498-b844-de4e588bcf28"
      },
      "execution_count": null,
      "outputs": [
        {
          "output_type": "stream",
          "name": "stdout",
          "text": [
            "       Math  English  Music  Gym\n",
            "Simon    90       98     85  100\n",
            "Emma     80       89     95   90\n",
            "Mary     70       95    100   90\n",
            "\n",
            "\n",
            "       English  Music  Gym\n",
            "Simon       98     85  100\n",
            "Emma        89     95   90\n",
            "Mary        95    100   90\n"
          ]
        },
        {
          "output_type": "stream",
          "name": "stderr",
          "text": [
            "<ipython-input-22-577fb1134c48>:7: SettingWithCopyWarning: \n",
            "A value is trying to be set on a copy of a slice from a DataFrame\n",
            "\n",
            "See the caveats in the documentation: https://pandas.pydata.org/pandas-docs/stable/user_guide/indexing.html#returning-a-view-versus-a-copy\n",
            "  df2.drop('Math', axis=1, inplace=True)\n"
          ]
        }
      ]
    },
    {
      "cell_type": "code",
      "source": [
        "import pandas as pd\n",
        "exam_data = {'Math':[90,80,70], 'English':[98,89,95], 'Music':[85,95,100], 'Gym':[100,90,90]}\n",
        "df = pd.DataFrame(exam_data, index=['Simon', 'Emma', 'Mary'])\n",
        "print(df)\n",
        "print('\\n')\n",
        "df2 = df[:]\n",
        "print(df2)\n",
        "print('\\n')\n",
        "# axis=0 for dropping \"rows\" (cf., axis=1 for dopping columns) (axis=0은 \"행(row)\"을 삭제할 때 사용합니다 (참고: axis=1은 열(column)을 삭제할 때 사용합니다).)\n",
        "df2.drop('Emma', axis=0, inplace=True)\n",
        "print(df2)"
      ],
      "metadata": {
        "colab": {
          "base_uri": "https://localhost:8080/"
        },
        "id": "am9bJrIoSPNS",
        "outputId": "4413e2c9-014d-4f82-a3ee-9a342d2e190e"
      },
      "execution_count": null,
      "outputs": [
        {
          "output_type": "stream",
          "name": "stdout",
          "text": [
            "       Math  English  Music  Gym\n",
            "Simon    90       98     85  100\n",
            "Emma     80       89     95   90\n",
            "Mary     70       95    100   90\n",
            "\n",
            "\n",
            "       Math  English  Music  Gym\n",
            "Simon    90       98     85  100\n",
            "Emma     80       89     95   90\n",
            "Mary     70       95    100   90\n",
            "\n",
            "\n",
            "       Math  English  Music  Gym\n",
            "Simon    90       98     85  100\n",
            "Mary     70       95    100   90\n"
          ]
        },
        {
          "output_type": "stream",
          "name": "stderr",
          "text": [
            "<ipython-input-18-a7117c32e620>:10: SettingWithCopyWarning: \n",
            "A value is trying to be set on a copy of a slice from a DataFrame\n",
            "\n",
            "See the caveats in the documentation: https://pandas.pydata.org/pandas-docs/stable/user_guide/indexing.html#returning-a-view-versus-a-copy\n",
            "  df2.drop('Emma', axis=0, inplace=True)\n"
          ]
        }
      ]
    },
    {
      "cell_type": "code",
      "source": [
        "#@markdown <font color = 'red'> **🐹 Student Activity 4 ⤵️**\n",
        "\n",
        "#@markdown <font color = 'blue'> **Dropping rows 행 삭제**\n",
        "\n",
        "import pandas as pd\n",
        "\n",
        "exam_data = {'Math':[90, 80, 70], 'English':[98, 89, 95],\n",
        "             'Music':[85, 95, 100], 'Gym':[100,90,90]}\n",
        "\n",
        "df = pd.DataFrame(exam_data, index = ['Simon', 'Emma', 'Mary'])\n",
        "\n",
        "print(df)\n",
        "print('\\n')\n",
        "\n",
        "df2 = df[:]\n",
        "\n",
        "# axis=0 for dropping \"rows\" (cf., axis=1 for dopping columns)\n",
        "df2.drop('Emma', axis=0, inplace = True)\n",
        "\n",
        "print(df2)\n",
        "print('\\n')"
      ],
      "metadata": {
        "id": "0iqCoSQZEB4I",
        "outputId": "7ff4c631-f4b4-428e-a8d3-fe21216dbdbe",
        "colab": {
          "base_uri": "https://localhost:8080/"
        }
      },
      "execution_count": null,
      "outputs": [
        {
          "output_type": "stream",
          "name": "stdout",
          "text": [
            "       Math  English  Music  Gym\n",
            "Simon    90       98     85  100\n",
            "Emma     80       89     95   90\n",
            "Mary     70       95    100   90\n",
            "\n",
            "\n",
            "       Math  English  Music  Gym\n",
            "Simon    90       98     85  100\n",
            "Mary     70       95    100   90\n",
            "\n",
            "\n"
          ]
        },
        {
          "output_type": "stream",
          "name": "stderr",
          "text": [
            "<ipython-input-16-4721aa9579e3>:16: SettingWithCopyWarning: \n",
            "A value is trying to be set on a copy of a slice from a DataFrame\n",
            "\n",
            "See the caveats in the documentation: https://pandas.pydata.org/pandas-docs/stable/user_guide/indexing.html#returning-a-view-versus-a-copy\n",
            "  df2.drop('Emma', axis=0, inplace = True) # axis=0 for dropping \"rows\" (cf., axis=1 for dopping columns)\n"
          ]
        }
      ]
    },
    {
      "cell_type": "code",
      "source": [
        "import pandas as pd\n",
        "\n",
        "exam_data = {'Math':[90, 80, 70], 'English':[98, 89, 95],\n",
        "             'Music':[85, 95, 100], 'Gym':[100,90,90]}\n",
        "\n",
        "df=pd.DataFrame(exam_data, index=['Simon', 'Emma', 'Mary'])\n",
        "print(df)\n",
        "print('\\n')\n",
        "df2 = df[:]\n",
        "df2.drop('Music', axis=1, inplace=True)\n",
        "print(df2)"
      ],
      "metadata": {
        "colab": {
          "base_uri": "https://localhost:8080/"
        },
        "id": "NjSpwqQhVlI1",
        "outputId": "2f2bdfcd-fd66-4b80-959d-f0521bda41e5"
      },
      "execution_count": null,
      "outputs": [
        {
          "output_type": "stream",
          "name": "stdout",
          "text": [
            "       Math  English  Music  Gym\n",
            "Simon    90       98     85  100\n",
            "Emma     80       89     95   90\n",
            "Mary     70       95    100   90\n",
            "\n",
            "\n",
            "       Math  English  Gym\n",
            "Simon    90       98  100\n",
            "Emma     80       89   90\n",
            "Mary     70       95   90\n"
          ]
        },
        {
          "output_type": "stream",
          "name": "stderr",
          "text": [
            "<ipython-input-23-1027b9da3e3c>:10: SettingWithCopyWarning: \n",
            "A value is trying to be set on a copy of a slice from a DataFrame\n",
            "\n",
            "See the caveats in the documentation: https://pandas.pydata.org/pandas-docs/stable/user_guide/indexing.html#returning-a-view-versus-a-copy\n",
            "  df2.drop('Music', axis=1, inplace=True)\n"
          ]
        }
      ]
    },
    {
      "cell_type": "code",
      "source": [
        "#@markdown <font color = 'red'> **🐹 Student Activity 4 ⤵️**\n",
        "\n",
        "#@markdown <font color = 'blue'> **Dropping columns 열 삭제**\n",
        "import pandas as pd\n",
        "\n",
        "exam_data = {'Math':[90, 80, 70], 'English':[98, 89, 95],\n",
        "             'Music':[85, 95, 100], 'Gym':[100,90,90]}\n",
        "\n",
        "df = pd.DataFrame(exam_data, index = ['Simon', 'Emma', 'Mary'])\n",
        "\n",
        "print(df)\n",
        "print('\\n')\n",
        "\n",
        "df2 = df[:]\n",
        "\n",
        "# axis=1 for dropping columns\n",
        "df2.drop('Gym', axis=1, inplace=True)\n",
        "\n",
        "print(df2)"
      ],
      "metadata": {
        "id": "3gakU7shGM-e",
        "outputId": "ea48bdf2-0b13-4068-a922-7976d1ecedcb",
        "colab": {
          "base_uri": "https://localhost:8080/"
        }
      },
      "execution_count": null,
      "outputs": [
        {
          "output_type": "stream",
          "name": "stdout",
          "text": [
            "       Math  English  Music  Gym\n",
            "Simon    90       98     85  100\n",
            "Emma     80       89     95   90\n",
            "Mary     70       95    100   90\n",
            "\n",
            "\n",
            "       Math  English  Music\n",
            "Simon    90       98     85\n",
            "Emma     80       89     95\n",
            "Mary     70       95    100\n"
          ]
        },
        {
          "output_type": "stream",
          "name": "stderr",
          "text": [
            "<ipython-input-17-227bb8f723a7>:15: SettingWithCopyWarning: \n",
            "A value is trying to be set on a copy of a slice from a DataFrame\n",
            "\n",
            "See the caveats in the documentation: https://pandas.pydata.org/pandas-docs/stable/user_guide/indexing.html#returning-a-view-versus-a-copy\n",
            "  df2.drop('Gym', axis=1, inplace=True) # axis=1 for dropping columns\n"
          ]
        }
      ]
    },
    {
      "cell_type": "markdown",
      "source": [
        "인덱스 이름을 기준으로 \"선택\" 할 때는 loc[] / 정수형 위치 인덱스를 사용할 때는 iloc[]"
      ],
      "metadata": {
        "id": "6eUXfpaWX8LX"
      }
    },
    {
      "cell_type": "markdown",
      "source": [
        "#<font color = 'red'> **loc[ ], iloc[ ]**\n",
        ">\n",
        "* 인덱스 이름(index name) 기준으로 선택할 때는 loc[] 사용\n",
        "* 정수형 위치(integer position) 인덱스를 사용할 때는 iloc[] 사용\n",
        "\n",
        ">\n",
        "\n",
        "| 구분 | loc[ ] | iloc[ ] |\n",
        "|:|-|-|\n",
        "|탐색대상|인덱스 이름 index label/name| 정수형 위치 인덱스 (integer position)|\n",
        "|범위지정 예시|loc['a':'c'] ➡️ 'a', 'b', 'c'|iloc[3:7] ➡️  3,4,5,6|"
      ],
      "metadata": {
        "id": "DaZaTy2SH_tX"
      }
    },
    {
      "cell_type": "markdown",
      "source": [
        "iloc[ ]  에서 i 는 인티저의 약자이다. 숫자 형태로 나온다."
      ],
      "metadata": {
        "id": "AxMlrHnOb-xz"
      }
    },
    {
      "cell_type": "code",
      "source": [
        "pip install pandas"
      ],
      "metadata": {
        "colab": {
          "base_uri": "https://localhost:8080/"
        },
        "id": "jKg-cQndcWSc",
        "outputId": "0963a8e0-390e-4cd1-8a1e-613b89dd9059"
      },
      "execution_count": null,
      "outputs": [
        {
          "output_type": "stream",
          "name": "stdout",
          "text": [
            "Requirement already satisfied: pandas in /usr/local/lib/python3.11/dist-packages (2.2.2)\n",
            "Requirement already satisfied: numpy>=1.23.2 in /usr/local/lib/python3.11/dist-packages (from pandas) (2.0.2)\n",
            "Requirement already satisfied: python-dateutil>=2.8.2 in /usr/local/lib/python3.11/dist-packages (from pandas) (2.8.2)\n",
            "Requirement already satisfied: pytz>=2020.1 in /usr/local/lib/python3.11/dist-packages (from pandas) (2025.2)\n",
            "Requirement already satisfied: tzdata>=2022.7 in /usr/local/lib/python3.11/dist-packages (from pandas) (2025.2)\n",
            "Requirement already satisfied: six>=1.5 in /usr/local/lib/python3.11/dist-packages (from python-dateutil>=2.8.2->pandas) (1.17.0)\n"
          ]
        }
      ]
    },
    {
      "cell_type": "markdown",
      "source": [
        "스퀘어 브레킷: []\n",
        "컬리 브레킷: {}\n",
        "\n",
        "컬리 브레킷은 사전형 데이터여서 키와 벨류가 같이 나온다. 그래서 어떤 것에 대해서 오른쪽에 값이 나오는 건데,\n",
        "\n",
        "'Math':[90, 80, 70] 에서 수학이 이제 값이 나오는데 리스트형 데이터이다."
      ],
      "metadata": {
        "id": "XBc8s4picv-O"
      }
    },
    {
      "cell_type": "markdown",
      "source": [
        "매쓰,잉글리쉬,뮤직,짐 같은 경우가 각각이 칼럼을 형성한다. 열을 형성한다. 그 다음에 사이먼,에마,메리가 행을 형성을 해서"
      ],
      "metadata": {
        "id": "WR-ykvIigqF5"
      }
    },
    {
      "cell_type": "code",
      "source": [
        "import pandas as pd\n",
        "exam_data = {'Math':[90,80,70], 'English':[98,89,95], 'Music':[85,95,100], 'Gym':[100,90,90]}\n",
        "df=pd.DataFrame(exam_data, index=['Simon', 'Emma', 'Mary'])\n",
        "print(df)\n",
        "print('\\n')\n",
        "lable1=df.loc['Simon'] #인덱스 이름을 기준으로 선택할 때는 loc[] 사용\n",
        "print(lable1)"
      ],
      "metadata": {
        "colab": {
          "base_uri": "https://localhost:8080/"
        },
        "id": "AGrUbryZc34c",
        "outputId": "d004f4fb-8e48-47ac-a707-2771b66ece77"
      },
      "execution_count": null,
      "outputs": [
        {
          "output_type": "stream",
          "name": "stdout",
          "text": [
            "       Math  English  Music  Gym\n",
            "Simon    90       98     85  100\n",
            "Emma     80       89     95   90\n",
            "Mary     70       95    100   90\n",
            "\n",
            "\n",
            "Math        90\n",
            "English     98\n",
            "Music       85\n",
            "Gym        100\n",
            "Name: Simon, dtype: int64\n"
          ]
        }
      ]
    },
    {
      "cell_type": "code",
      "source": [
        "import pandas as pd\n",
        "exam_data = {'Math':[90,80,70], 'English':[98,89,95], 'Music':[85,95,100], 'Gym':[100,90,90]}\n",
        "df=pd.DataFrame(exam_data, index=['Simon', 'Emma', 'Mary'])\n",
        "print(df)\n",
        "print('\\n')\n",
        "lable2=df.loc['Emma']\n",
        "print(lable2)"
      ],
      "metadata": {
        "colab": {
          "base_uri": "https://localhost:8080/"
        },
        "id": "nu9UK9vhefdF",
        "outputId": "b5ea114c-568d-4097-94ca-3f613e5fbd02"
      },
      "execution_count": null,
      "outputs": [
        {
          "output_type": "stream",
          "name": "stdout",
          "text": [
            "       Math  English  Music  Gym\n",
            "Simon    90       98     85  100\n",
            "Emma     80       89     95   90\n",
            "Mary     70       95    100   90\n",
            "\n",
            "\n",
            "Math       80\n",
            "English    89\n",
            "Music      95\n",
            "Gym        90\n",
            "Name: Emma, dtype: int64\n"
          ]
        }
      ]
    },
    {
      "cell_type": "code",
      "source": [
        "import pandas as pd\n",
        "exam_data = {'Math':[90,80,70], 'English':[98,89,95], 'Music':[85,95,100], 'Gym':[100,90,90]}\n",
        "df = pd.DataFrame(exam_data, index = ['Simon', 'Emma', 'Mary'])  #인덱스도 리스트 형태로 들어가는 이유는 위에서 숫자가 90,80,70 이렇게 4개의 쌍들로 해서 일련의 리스트형 데이터로 들어갔으니까 인덱스도 리스트형으로 해서\n",
        "print(df)  #변수 df는 어떤 변수냐 하면 4과목에 대한 3명의 점수에 대해서 , 점수를 제공하고 있는 3명의 이름을 인덱스 네임으로 할당한 그 변수가 df이다.\n",
        "print('\\n')\n",
        "\n",
        "lable1= df.loc['Simon']  #사이먼에 대해서 (선택할 때 로케이션을 사용함, 인덱스 이름을 기준으로 선택해서 로케이션 사용)사이먼을 로케이션 해라. 즉, 사이먼의 위치를 찾아서 얘를 중심으로 뭔가를 해라\n",
        "print(lable1)\n",
        "print('\\n')\n",
        "\n"
      ],
      "metadata": {
        "colab": {
          "base_uri": "https://localhost:8080/"
        },
        "id": "MEZOAhy5cb2u",
        "outputId": "c867911c-25fa-4658-cab0-82ec7c81655b"
      },
      "execution_count": null,
      "outputs": [
        {
          "output_type": "stream",
          "name": "stdout",
          "text": [
            "       Math  English  Music  Gym\n",
            "Simon    90       98     85  100\n",
            "Emma     80       89     95   90\n",
            "Mary     70       95    100   90\n",
            "\n",
            "\n",
            "Math        90\n",
            "English     98\n",
            "Music       85\n",
            "Gym        100\n",
            "Name: Simon, dtype: int64\n"
          ]
        }
      ]
    },
    {
      "cell_type": "markdown",
      "source": [
        "Math        90\n",
        "English     98\n",
        "Music       85\n",
        "Gym        100\n",
        "Name: Simon, dtype: int64\n",
        "\n",
        "\n",
        "이렇게 해서 사이먼을 중심으로 해서 내가 각 과목의 점수를 행 데이터를 열 데이터로 transpose(뒤바꾸다) 해서 변형했다.\n",
        "행과 열 데이터가 바뀜******\n",
        "\n",
        "그러면 데이를 재배열 할 수도 있게 된다."
      ],
      "metadata": {
        "id": "xON0V4uehZBM"
      }
    },
    {
      "cell_type": "code",
      "source": [
        "어떤 데이터 프레임에서 내가 어떤 특정한 행에 대한 정보를 트랜스포즈해서 바꾼다."
      ],
      "metadata": {
        "id": "itmsvDuVhYTJ"
      },
      "execution_count": null,
      "outputs": []
    },
    {
      "cell_type": "code",
      "source": [
        "#@markdown <font color = 'red'> **🐹 Student Activity 5: Label-based indexing. 'locate' or 'location' for loc ⤵️**\n",
        "\n",
        "#@markdown <font color = 'blue'> **Choose a row 행 선택**\n",
        "\n",
        "#@markdown <font color = 'blue'> **loc[] & iloc[]**\n",
        "\n",
        "import pandas as pd\n",
        "\n",
        "exam_data = {'Math':[90, 80, 70], 'English':[98, 89, 95],\n",
        "             'Music':[85, 95, 100], 'Gym':[100,90,90]}\n",
        "\n",
        "df = pd.DataFrame(exam_data, index = ['Simon', 'Emma', 'Mary'])\n",
        "\n",
        "print(df)\n",
        "print('\\n')\n",
        "\n",
        "\n",
        "#Data display is trasversed when one element is in loc[].\n",
        "label1 = df.loc['Simon']\n",
        "print(label1)\n",
        "print('\\n')\n",
        "\n",
        "#Data display is trasversed when one element is in loc[].\n",
        "position1 = df.iloc[0]    #얘는 인티저이다.\n",
        "print(position1)\n"
      ],
      "metadata": {
        "id": "gyoTZY2KHtuZ",
        "outputId": "12597478-c93d-400d-acd8-115bd98ff8b6",
        "colab": {
          "base_uri": "https://localhost:8080/"
        }
      },
      "execution_count": null,
      "outputs": [
        {
          "output_type": "stream",
          "name": "stdout",
          "text": [
            "       Math  English  Music  Gym\n",
            "Simon    90       98     85  100\n",
            "Emma     80       89     95   90\n",
            "Mary     70       95    100   90\n",
            "\n",
            "\n",
            "Math        90\n",
            "English     98\n",
            "Music       85\n",
            "Gym        100\n",
            "Name: Simon, dtype: int64\n",
            "\n",
            "\n",
            "Math        90\n",
            "English     98\n",
            "Music       85\n",
            "Gym        100\n",
            "Name: Simon, dtype: int64\n"
          ]
        }
      ]
    },
    {
      "cell_type": "markdown",
      "source": [
        "인티저는 언제 사용하냐 -> 우리가 어떤 인덱스 즉, 색인을 정할 때는 인덱스 네임을 붙일 수도 있지만 자동으로 생성되는 건 0 1 2 3 .. 이다. 그래서 이 자동으로 생성되는 숫자를 위치를 내가 잡아줌으로써 데이터를 변형시켜줌."
      ],
      "metadata": {
        "id": "niVo3gW2jZGx"
      }
    },
    {
      "cell_type": "code",
      "source": [
        "import pandas as pd\n",
        "\n",
        "exam_data = {'Math':[90, 80, 70], 'English':[98, 89, 95],\n",
        "             'Music':[85, 95, 100], 'Gym':[100,90,90]}\n",
        "\n",
        "df = pd.DataFrame(exam_data, index = ['Simon', 'Emma', 'Mary'])\n",
        "\n",
        "print(df)\n",
        "print('\\n')\n",
        "\n",
        "position1 = df.iloc[0]\n",
        "print(position1)"
      ],
      "metadata": {
        "colab": {
          "base_uri": "https://localhost:8080/"
        },
        "id": "_Ox9fH8gjvwy",
        "outputId": "a4c56d37-bc98-4db8-b056-6b95204e2475"
      },
      "execution_count": null,
      "outputs": [
        {
          "output_type": "stream",
          "name": "stdout",
          "text": [
            "       Math  English  Music  Gym\n",
            "Simon    90       98     85  100\n",
            "Emma     80       89     95   90\n",
            "Mary     70       95    100   90\n",
            "\n",
            "\n",
            "Math        90\n",
            "English     98\n",
            "Music       85\n",
            "Gym        100\n",
            "Name: Simon, dtype: int64\n"
          ]
        }
      ]
    },
    {
      "cell_type": "code",
      "source": [
        "#복수형(복수형으로 할 때는 스퀘어 브래킷이 쌍으로 들어간다는 것이 중요하다!!!!!!!!)\n",
        "import pandas as pd\n",
        "\n",
        "exam_data = {'Math':[90, 80, 70, 85], 'English':[98, 89, 95, 79],\n",
        "             'Music':[85, 95, 100, 100], 'Gym':[100,90,90, 88]}\n",
        "\n",
        "df = pd.DataFrame(exam_data, index = ['Simon', 'Emma', 'Mary', 'Louis'])\n",
        "\n",
        "print(df)\n",
        "print('\\n')\n",
        "\n",
        "label2 = df.loc[['Simon', 'Mary']]    #내가 보고싶은 데이터만 볼 수 있다. 여기 df는 exam_data를 사용을 해서 matrix 형태로 변형시킨 데이터 이다. 그래서 이 df 에다가 뭘 적용을 하냐면 loc 로케이트라고 하는 위치를 지정하는 걸 해준다. 복수형의 자료를 다루려면 스퀘어 브래킷이 두 개가 있다.\n",
        "print(label2)\n",
        "print('\\n')\n",
        "\n",
        "position2 = df.iloc[[0,2]]\n",
        "print(position2)"
      ],
      "metadata": {
        "colab": {
          "base_uri": "https://localhost:8080/"
        },
        "id": "0kk9xAZck5CQ",
        "outputId": "b130eb20-01e8-44cd-8322-f6e03f57a187"
      },
      "execution_count": null,
      "outputs": [
        {
          "output_type": "stream",
          "name": "stdout",
          "text": [
            "       Math  English  Music  Gym\n",
            "Simon    90       98     85  100\n",
            "Emma     80       89     95   90\n",
            "Mary     70       95    100   90\n",
            "Louis    85       79    100   88\n",
            "\n",
            "\n",
            "       Math  English  Music  Gym\n",
            "Simon    90       98     85  100\n",
            "Mary     70       95    100   90\n",
            "\n",
            "\n",
            "       Math  English  Music  Gym\n",
            "Simon    90       98     85  100\n",
            "Mary     70       95    100   90\n"
          ]
        }
      ]
    },
    {
      "cell_type": "code",
      "source": [
        "#@markdown <font color = 'red'> **🐹 Student Activity 6 ⤵️**\n",
        "\n",
        "#@markdown <font color = 'blue'> **Choose rows 복수행 선택**\n",
        "\n",
        "#@markdown <font color = 'blue'> **loc[[]] & iloc[[]]**\n",
        "\n",
        "import pandas as pd\n",
        "\n",
        "exam_data = {'Math':[90, 80, 70, 85], 'English':[98, 89, 95, 79],\n",
        "             'Music':[85, 95, 100, 100], 'Gym':[100,90,90, 88]}\n",
        "\n",
        "df = pd.DataFrame(exam_data, index = ['Simon', 'Emma', 'Mary', 'Louis'])\n",
        "\n",
        "print(df)\n",
        "print('\\n')\n",
        "\n",
        "#Choose rows 복수행 선택\n",
        "label2 = df.loc[['Simon', 'Mary']]\n",
        "print(label2)\n",
        "print('\\n')\n",
        "\n",
        "#Choose a row, resulting in its corresponding columns trasversed.\n",
        "position1 = df.iloc[0]\n",
        "print(position1)\n",
        "print('\\n')\n",
        "\n",
        "#Choose rows 복수행 선택 (index number 0 & index number 2)\n",
        "position2 = df.iloc[[0,2]]\n",
        "print(position2)\n",
        "print('\\n')\n",
        "\n",
        "#Choose rows 복수행 선택 (index number 0, index number 2, & index number 2)\n",
        "position3 = df.iloc[[0,1,2]]\n",
        "print(position3)\n",
        "print('\\n')"
      ],
      "metadata": {
        "id": "wd4ZkSmkJlLk",
        "outputId": "ad04e667-3cdc-4d86-8c84-de2efc05a568",
        "colab": {
          "base_uri": "https://localhost:8080/"
        }
      },
      "execution_count": null,
      "outputs": [
        {
          "output_type": "stream",
          "name": "stdout",
          "text": [
            "       Math  English  Music  Gym\n",
            "Simon    90       98     85  100\n",
            "Emma     80       89     95   90\n",
            "Mary     70       95    100   90\n",
            "Louis    85       79    100   88\n",
            "\n",
            "\n",
            "       Math  English  Music  Gym\n",
            "Simon    90       98     85  100\n",
            "Mary     70       95    100   90\n",
            "\n",
            "\n",
            "Math        90\n",
            "English     98\n",
            "Music       85\n",
            "Gym        100\n",
            "Name: Simon, dtype: int64\n",
            "\n",
            "\n",
            "       Math  English  Music  Gym\n",
            "Simon    90       98     85  100\n",
            "Mary     70       95    100   90\n",
            "\n",
            "\n",
            "       Math  English  Music  Gym\n",
            "Simon    90       98     85  100\n",
            "Emma     80       89     95   90\n",
            "Mary     70       95    100   90\n",
            "\n",
            "\n"
          ]
        }
      ]
    },
    {
      "cell_type": "markdown",
      "source": [
        ": 은 뭐부터 뭐까지 라는 뜻이다."
      ],
      "metadata": {
        "id": "5Gnet6H5nj_I"
      }
    },
    {
      "cell_type": "markdown",
      "source": [
        "통계를 할 때 어떤 때 중요하냐면, 보통 이제 데이터가 미씽(missing:행방불명)된 셀들이 있다. 예를 들어, 어떤 지역에서 어떤 연령대의 사람들의 데이터를 조사했는데 그 연령대가 비어 있으면 그럴 때는 난 애플터블 해서 na를 쓰거나 표시를 해둔다. 데이터가 없다는 식으로. 이제 이런것들이 어떤 식으로 인티저로 볼 수 있고 조작하지 않은거다 하지만 통계가 돌아가기 위해선 각 셀들이 균형감있게 전부다 있어야지 예를 들어, 그룹 간 비교를 할 때 충청도 지역의 데이터가 없으면 다른 지역과 비교를 할 수가 없다. 그럴 때는 그 데이터가 완전히 사라져서 이상한 결과가 나올 수 있다. 그래서 그런 것들을 방지하고 원활하게 돌아갈 수 있도록 어떤 식으로든 코딩을 할 때 거기에 해줘야 되는데"
      ],
      "metadata": {
        "id": "oNCATu3Ey-le"
      }
    },
    {
      "cell_type": "code",
      "source": [
        "#@markdown <font color = 'red'> **🐹 Student Activity 7 ⤵️**\n",
        "\n",
        "#@markdown <font color = 'blue'> **Select rows using the colon symbol 콜른 사용하여 복수행 선택**\n",
        "\n",
        "#@markdown <font color = 'blue'> **loc[[]] & iloc[[]]**\n",
        "\n",
        "import pandas as pd\n",
        "\n",
        "exam_data = {'Math':[90, 80, 70, 85], 'English':[98, 89, 95, 79],\n",
        "             'Music':[85, 95, 100, 100], 'Gym':[100,90,90, 88]}\n",
        "\n",
        "df = pd.DataFrame(exam_data, index = ['Simon', 'Emma', 'Mary', 'Louis'])\n",
        "\n",
        "print(df)\n",
        "print('\\n')\n",
        "\n",
        "label3 = df.loc['Simon':'Emma']   #반면에, 문자열로 우리가 위치 지정하는 걸 쓴거잖아. 이때는 사이먼부터 에마까지 에파를 포함한다!!!! 헷갈리지 말기!!!!\n",
        "print(label3)\n",
        "print('\\n')\n",
        "\n",
        "#The last index number is excluded.\n",
        "location4 = df.iloc[0:2]\n",
        "print(location4)"
      ],
      "metadata": {
        "id": "wgsiKE2pK9To",
        "outputId": "54fbc09f-17f0-4389-d6e2-ca0c22d7e741",
        "colab": {
          "base_uri": "https://localhost:8080/"
        }
      },
      "execution_count": null,
      "outputs": [
        {
          "output_type": "stream",
          "name": "stdout",
          "text": [
            "       Math  English  Music  Gym\n",
            "Simon    90       98     85  100\n",
            "Emma     80       89     95   90\n",
            "Mary     70       95    100   90\n",
            "Louis    85       79    100   88\n",
            "\n",
            "\n",
            "       Math  English  Music  Gym\n",
            "Simon    90       98     85  100\n",
            "Emma     80       89     95   90\n",
            "\n",
            "\n",
            "       Math  English  Music  Gym\n",
            "Simon    90       98     85  100\n",
            "Emma     80       89     95   90\n"
          ]
        }
      ]
    },
    {
      "cell_type": "code",
      "source": [
        "#@markdown <font color = 'red'> **🐹 Student Activity 8 ⤵️**\n",
        "\n",
        "#@markdown <font color = 'blue'> **Select a column 열 선택**\n",
        "\n",
        "#@markdown <font color = 'blue'> **column name[ ]**\n",
        "\n",
        "import pandas as pd\n",
        "\n",
        "exam_data = {'Math':[90, 80, 70, 85], 'English':[98, 89, 95, 79],\n",
        "             'Music':[85, 95, 100, 100], 'Gym':[100,90,90, 88]}\n",
        "\n",
        "df = pd.DataFrame(exam_data, index = ['Simon', 'Emma', 'Mary', 'Louis'])\n",
        "\n",
        "print(df)\n",
        "print('\\n')\n",
        "\n",
        "math1 = df['Math']\n",
        "print(math1)\n",
        "print('\\n')\n",
        "print(type(math1))\n",
        "\n",
        "english1 = df['English']\n",
        "print(english1)\n",
        "print('\\n')\n",
        "print(type(english1))\n",
        "\n",
        "gym1 = df['Gym']\n",
        "print(gym1)\n",
        "print('\\n')\n",
        "print(type(gym1))"
      ],
      "metadata": {
        "id": "1ElBWe4XMLQN",
        "outputId": "536ab4ec-b60e-4097-969b-09aa4209f61b",
        "colab": {
          "base_uri": "https://localhost:8080/"
        }
      },
      "execution_count": null,
      "outputs": [
        {
          "output_type": "stream",
          "name": "stdout",
          "text": [
            "       Math  English  Music  Gym\n",
            "Simon    90       98     85  100\n",
            "Emma     80       89     95   90\n",
            "Mary     70       95    100   90\n",
            "Louis    85       79    100   88\n",
            "\n",
            "\n",
            "Simon    90\n",
            "Emma     80\n",
            "Mary     70\n",
            "Louis    85\n",
            "Name: Math, dtype: int64\n",
            "\n",
            "\n",
            "<class 'pandas.core.series.Series'>\n",
            "Simon    98\n",
            "Emma     89\n",
            "Mary     95\n",
            "Louis    79\n",
            "Name: English, dtype: int64\n",
            "\n",
            "\n",
            "<class 'pandas.core.series.Series'>\n",
            "Simon    100\n",
            "Emma      90\n",
            "Mary      90\n",
            "Louis     88\n",
            "Name: Gym, dtype: int64\n",
            "\n",
            "\n",
            "<class 'pandas.core.series.Series'>\n"
          ]
        }
      ]
    },
    {
      "cell_type": "markdown",
      "source": [
        "단일한 로케이트를 할 때는 스퀘어 브래킷 하나, 만약에 복수로 하면 스퀘어 브래킷 2개"
      ],
      "metadata": {
        "id": "sXD5Gumeonj4"
      }
    },
    {
      "cell_type": "code",
      "source": [
        "#@markdown <font color = 'red'> **🐹 Student Activity 8 ⤵️**\n",
        "\n",
        "#@markdown <font color = 'blue'> **Select columns 복수열 선택**\n",
        "\n",
        "#@markdown <font color = 'blue'> **column name[[]]**\n",
        "\n",
        "import pandas as pd\n",
        "\n",
        "exam_data = {'Math':[90, 80, 70, 85], 'English':[98, 89, 95, 79],\n",
        "             'Music':[85, 95, 100, 100], 'Gym':[100,90,90, 88]}\n",
        "\n",
        "df = pd.DataFrame(exam_data, index = ['Simon', 'Emma', 'Mary', 'Louis'])\n",
        "\n",
        "print(df)\n",
        "print('\\n')\n",
        "\n",
        "#💣Remember to use two sets of squared brackets!\n",
        "eng_gym = df[['English','Gym']]\n",
        "print(eng_gym)\n",
        "print('\\n')\n",
        "print(type(eng_gym))\n",
        "\n",
        "#💣Remember to use two sets of squared brackets!\n",
        "three_subj = df[['English','Music','Gym']]\n",
        "print(three_subj)\n",
        "print('\\n')\n",
        "print(type(three_subj))"
      ],
      "metadata": {
        "id": "i6JeRsBhN-H1",
        "outputId": "030c118a-ef4b-48e7-ac0a-83f5047f55b8",
        "colab": {
          "base_uri": "https://localhost:8080/"
        }
      },
      "execution_count": null,
      "outputs": [
        {
          "output_type": "stream",
          "name": "stdout",
          "text": [
            "       Math  English  Music  Gym\n",
            "Simon    90       98     85  100\n",
            "Emma     80       89     95   90\n",
            "Mary     70       95    100   90\n",
            "Louis    85       79    100   88\n",
            "\n",
            "\n",
            "       English  Gym\n",
            "Simon       98  100\n",
            "Emma        89   90\n",
            "Mary        95   90\n",
            "Louis       79   88\n",
            "\n",
            "\n",
            "<class 'pandas.core.frame.DataFrame'>\n",
            "       English  Music  Gym\n",
            "Simon       98     85  100\n",
            "Emma        89     95   90\n",
            "Mary        95    100   90\n",
            "Louis       79    100   88\n",
            "\n",
            "\n",
            "<class 'pandas.core.frame.DataFrame'>\n"
          ]
        }
      ]
    }
  ]
}