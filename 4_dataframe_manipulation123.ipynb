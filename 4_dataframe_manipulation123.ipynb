{
  "nbformat": 4,
  "nbformat_minor": 0,
  "metadata": {
    "colab": {
      "provenance": [],
      "include_colab_link": true
    },
    "kernelspec": {
      "name": "python3",
      "display_name": "Python 3"
    },
    "language_info": {
      "name": "python"
    }
  },
  "cells": [
    {
      "cell_type": "markdown",
      "metadata": {
        "id": "view-in-github",
        "colab_type": "text"
      },
      "source": [
        "<a href=\"https://colab.research.google.com/github/kmj122/stats_2025/blob/main/4_dataframe_manipulation123.ipynb\" target=\"_parent\"><img src=\"https://colab.research.google.com/assets/colab-badge.svg\" alt=\"Open In Colab\"/></a>"
      ]
    },
    {
      "cell_type": "markdown",
      "source": [
        "#**🔖 Index operators loc[ ] & iloc[ ]**\n",
        "\n",
        "**원소 선택**\n",
        "* DataFrameObject.loc[row행인덱스, column열이름]\n",
        "* DataFrameObject.iloc[row행번호, column열번호]\n",
        "\n",
        "**범위 슬라이싱 활용**\n",
        "\n",
        "* DataFrameObject.iloc[시작인덱스:끝인덱스:슬라이싱간격]\n",
        "* The first colon : indicates that we're selecting all rows.\n",
        "* The second colon : indicates the step size, which is"
      ],
      "metadata": {
        "id": "9vQtLm4Xko9x"
      }
    },
    {
      "cell_type": "code",
      "source": [
        "import pandas as pd\n",
        "\n",
        "exam_data = {'Math':[90, 80, 70, 85], 'English':[98, 89, 95, 79],\n",
        "             'Music':[85, 95, 100, 100], 'Gym':[100,90,90, 88]}\n",
        "\n",
        "df = pd.DataFrame(exam_data, index = ['Simon', 'Emma', 'Mary', 'Louis']) #matrix 형태로 변환시킴. 변환시키는 방법은 판다스에서 데이터 프레임 클래스를 사용한다.\n",
        "print(df)\n",
        "print('\\n')\n",
        "df1=df.iloc[::2]  #홀수로 이루어진 행의 결과만 나오게 됨.\n",
        "print(df1)\n",
        "print('\\n')\n",
        "df2=df.iloc[:3]\n",
        "print(df2)\n",
        "print('\\n')\n",
        "df3=df.iloc[::-1]\n",
        "print(df3)"
      ],
      "metadata": {
        "colab": {
          "base_uri": "https://localhost:8080/"
        },
        "id": "Dqw_iSSfCcyZ",
        "outputId": "6b77adbc-f329-4eb1-f6ab-1c532e8e3203"
      },
      "execution_count": null,
      "outputs": [
        {
          "output_type": "stream",
          "name": "stdout",
          "text": [
            "       Math  English  Music  Gym\n",
            "Simon    90       98     85  100\n",
            "Emma     80       89     95   90\n",
            "Mary     70       95    100   90\n",
            "Louis    85       79    100   88\n",
            "\n",
            "\n",
            "       Math  English  Music  Gym\n",
            "Simon    90       98     85  100\n",
            "Mary     70       95    100   90\n",
            "\n",
            "\n",
            "       Math  English  Music  Gym\n",
            "Simon    90       98     85  100\n",
            "Emma     80       89     95   90\n",
            "Mary     70       95    100   90\n",
            "\n",
            "\n",
            "       Math  English  Music  Gym\n",
            "Louis    85       79    100   88\n",
            "Mary     70       95    100   90\n",
            "Emma     80       89     95   90\n",
            "Simon    90       98     85  100\n"
          ]
        }
      ]
    },
    {
      "cell_type": "code",
      "source": [
        "import pandas as pd\n",
        "\n",
        "exam_data = {'Math':[90, 80, 70, 85], 'English':[98, 89, 95, 79],\n",
        "             'Music':[85, 95, 100, 100], 'Gym':[100,90,90, 88]}\n",
        "\n",
        "df = pd.DataFrame(exam_data, index = ['Simon', 'Emma', 'Mary', 'Louis']) #판다스에서 데이터프레임\n",
        "\n",
        "print(df)\n",
        "print('\\n')\n",
        "df1 = df.iloc [::2]\n",
        "print(df1)\n",
        "print('\\n')\n",
        "df2 = df.iloc[0:3]\n",
        "print(df2)\n",
        "print('\\n')\n",
        "df3 = df.iloc[::-1]\n",
        "print(df3)"
      ],
      "metadata": {
        "colab": {
          "base_uri": "https://localhost:8080/"
        },
        "id": "CMBo6NX0VcVQ",
        "outputId": "8f558ac9-c93a-44b9-aa7f-85c473896e65"
      },
      "execution_count": null,
      "outputs": [
        {
          "output_type": "stream",
          "name": "stdout",
          "text": [
            "       Math  English  Music  Gym\n",
            "Simon    90       98     85  100\n",
            "Emma     80       89     95   90\n",
            "Mary     70       95    100   90\n",
            "Louis    85       79    100   88\n",
            "\n",
            "\n",
            "       Math  English  Music  Gym\n",
            "Simon    90       98     85  100\n",
            "Mary     70       95    100   90\n",
            "\n",
            "\n",
            "       Math  English  Music  Gym\n",
            "Simon    90       98     85  100\n",
            "Emma     80       89     95   90\n",
            "Mary     70       95    100   90\n",
            "\n",
            "\n",
            "       Math  English  Music  Gym\n",
            "Louis    85       79    100   88\n",
            "Mary     70       95    100   90\n",
            "Emma     80       89     95   90\n",
            "Simon    90       98     85  100\n"
          ]
        }
      ]
    },
    {
      "cell_type": "markdown",
      "source": [
        "이그잼 데이터라고 해서 각각의 칼럼 데이터를 우리가 만들었다. 칼럼 데이터를 만듦. 그 다음에 그 칼럼에 각각의 사람이름을 붙여주기 위해서 인덱스 네임을 붙여줬다."
      ],
      "metadata": {
        "id": "vPogyr7bDx3r"
      }
    },
    {
      "cell_type": "code",
      "execution_count": null,
      "metadata": {
        "id": "V9jDU8wpif2r",
        "colab": {
          "base_uri": "https://localhost:8080/"
        },
        "outputId": "c26e5b42-3eb3-402e-873e-aa983678c009"
      },
      "outputs": [
        {
          "output_type": "stream",
          "name": "stdout",
          "text": [
            "       Math  English  Music  Gym\n",
            "Simon    90       98     85  100\n",
            "Emma     80       89     95   90\n",
            "Mary     70       95    100   90\n",
            "Louis    85       79    100   88\n",
            "\n",
            "\n",
            "       Math  English  Music  Gym\n",
            "Simon    90       98     85  100\n",
            "Mary     70       95    100   90\n",
            "\n",
            "\n",
            "       Math  English  Music  Gym\n",
            "Simon    90       98     85  100\n",
            "Emma     80       89     95   90\n",
            "Mary     70       95    100   90\n",
            "\n",
            "\n",
            "       Math  English  Music  Gym\n",
            "Louis    85       79    100   88\n",
            "Mary     70       95    100   90\n",
            "Emma     80       89     95   90\n",
            "Simon    90       98     85  100\n"
          ]
        }
      ],
      "source": [
        "#@markdown  **🐹 Student Activity 8 of the previous class material-Extended2 ⤵️**\n",
        "\n",
        "#@markdown  **Choose rows 행 선택**\n",
        "\n",
        "#@markdown  **Index operator[ ] with integer location of the rows**\n",
        "\n",
        "import pandas as pd\n",
        "\n",
        "exam_data = {'Math':[90, 80, 70, 85], 'English':[98, 89, 95, 79],\n",
        "             'Music':[85, 95, 100, 100], 'Gym':[100,90,90, 88]}\n",
        "\n",
        "df = pd.DataFrame(exam_data, index = ['Simon', 'Emma', 'Mary', 'Louis'])    #인덱스를 사용해서 네임을 붙여줌.\n",
        "print(df)\n",
        "print('\\n')\n",
        "\n",
        "df1 = df.iloc[::2]\n",
        "print(df1)\n",
        "print('\\n')\n",
        "\n",
        "df2 = df.iloc[0:3]\n",
        "print(df2)\n",
        "print('\\n')\n",
        "\n",
        "df3 = df.iloc[::-1]\n",
        "print(df3)"
      ]
    },
    {
      "cell_type": "markdown",
      "source": [
        "####<font color = 'blue'> 👀🐾 **데이터프레임 변환 Converting to basic data frame from dictionary data** 1️⃣ ⤵️"
      ],
      "metadata": {
        "id": "SIjwS-hcfe_d"
      }
    },
    {
      "cell_type": "markdown",
      "source": [
        "####<font color = 'blue'> 👀🐾 **행 인덱스 실행하기 set_index( )** 2️⃣  ⤵️\n",
        "  - 특정 열(column)을 데이터프레임의 행(row) 인덱스로 설정"
      ],
      "metadata": {
        "id": "4Je1IkN4ggZr"
      }
    },
    {
      "cell_type": "markdown",
      "source": [
        "인덱스를 쎗 한다. 미리 지정해 놓는다는 뜻. 전에는 네임 인덱스를 나중에 했는데 지금은 행 인덱스를 처음부터 실행하는 거다. 이그잼 데이터에 네임을 넣고 전부 다 딕셔너리 형태인데 , 인덱스에 들어갈 내용을 이그잼에 처음부터 써줌.\n",
        "이그잼 안에 그냥 다 써준다. 특정한 열을 데이터 프레임의 행(row) 인덱스로 설정한다."
      ],
      "metadata": {
        "id": "YmrXzgilEJoF"
      }
    },
    {
      "cell_type": "code",
      "source": [
        "import pandas as pd\n",
        "exam_data = {'Name':['Simon', 'Mathew', 'Andy', 'Louis'], 'Math':[90,80,70,85], 'English':[98,89,95,79],'Music':[85,95,100,100],'Physics':[100,90,90,88]}\n",
        "df = pd.DataFrame(exam_data)\n",
        "print(df)"
      ],
      "metadata": {
        "colab": {
          "base_uri": "https://localhost:8080/"
        },
        "id": "108gSph-ErWB",
        "outputId": "a243165c-64ef-4032-f304-bee4fd946d4c"
      },
      "execution_count": null,
      "outputs": [
        {
          "output_type": "stream",
          "name": "stdout",
          "text": [
            "     Name  Math  English  Music  Physics\n",
            "0   Simon    90       98     85      100\n",
            "1  Mathew    80       89     95       90\n",
            "2    Andy    70       95    100       90\n",
            "3   Louis    85       79    100       88\n"
          ]
        }
      ]
    },
    {
      "cell_type": "markdown",
      "source": [
        "인덱스를 다른 점수 데이터하고 같이 넣었을 경우에는 이 경우에는 인티저인덱스가 같이 프린트가 돼서 나오기 때문에 이때는 Name이라고 되어 있는 이 key 얘를 갖다가 내가 쎗 인덱스 함수를 사용하여 새로운 인덱스 얘를 지정하겠다. 즉, 인덱스 네임으로 내가 데이터 프레임화 해서\" 인덱스 네임으로 다시 새로 지정하겠다\" 라고 하는 set_index라고 하는 함수를 쓴다."
      ],
      "metadata": {
        "id": "1UQSpcRSF4kS"
      }
    },
    {
      "cell_type": "markdown",
      "source": [
        "첫 번째 key의 벨류가 스트링 이었을 뿐이다.  얘는 아직 인덱스 네임이 아니다. 'Name' : ['Simon', 'Mathew', 'Andy','Louis'] 컴퓨터가 보기에는 아직 인덱스 네임이 아니다.\n",
        "인덱스 네임 이라고 하는거는 각각의 벨류(값)들이 속한 인덱스 네임이다 .색인 이름인 거다. 그래서 얘를 갖다가 다시 색인 이름으로 지정하기 위해서는 set_index라고 하는\n",
        "함수를 사용을 해서 전체 데이터 딕셔너리 형태로 만든 데이터를 넣고 인플레이스에 트루를 넣어주면 이때는 베리어블 네임을 새로 생성하지 않고 셋 인덱스 함수를 그대로 적용시킨다.그래서 사이먼,매트류,앤디,루이스라고 하는 거를 \"인덱스화 시켜줌\""
      ],
      "metadata": {
        "id": "HAENLRE9IME3"
      }
    },
    {
      "cell_type": "code",
      "source": [
        "import pandas as pd\n",
        "exam_data = {'Name' : ['Simon', 'Mathew', 'Andy','Louis'], 'Math':[90,80,70,85], 'English':[98,89,95,79],'Music':[85,95,100,100],'Physics':[100,90,90,88]}   #딕셔너리 형태로 이런식으로 넣었을 경우 , 첫 번째 키의 벨류가 스트링\n",
        "df = pd.DataFrame(exam_data)\n",
        "df.set_index('Name', inplace=True)  #df = pd.DataFrame(exam_data) 이미 matrix 된 거에 set_index라고 하는 함수를 적용한다. 이때 첫 번째 인자는 Name 이다.\n",
        "print(df)"
      ],
      "metadata": {
        "colab": {
          "base_uri": "https://localhost:8080/"
        },
        "id": "6sPh_u4kGjVq",
        "outputId": "6ed4df1b-b387-45ad-eeb0-12e8c47fa19f"
      },
      "execution_count": null,
      "outputs": [
        {
          "output_type": "stream",
          "name": "stdout",
          "text": [
            "        Math  English  Music  Physics\n",
            "Name                                 \n",
            "Simon     90       98     85      100\n",
            "Mathew    80       89     95       90\n",
            "Andy      70       95    100       90\n",
            "Louis     85       79    100       88\n"
          ]
        }
      ]
    },
    {
      "cell_type": "code",
      "source": [
        "import pandas as pd\n",
        "exam_data = {'Name' : ['Simon', 'Mathew', 'Andy','Louis'], 'Math':[90,80,70,85], 'English':[98,89,95,79],'Music':[85,95,100,100],'Physics':[100,90,90,88]}   #딕셔너리 형태로 이런식으로 넣었을 경우 , 첫 번째 키의 벨류가 스트링\n",
        "df = pd.DataFrame(exam_data)\n",
        "print(df)\n",
        "print('\\n')\n",
        "df.set_index('Name', inplace=True)    #이름을 인덱스화 시킴\n",
        "print(df)"
      ],
      "metadata": {
        "colab": {
          "base_uri": "https://localhost:8080/"
        },
        "id": "DZ2C-AfEWrgX",
        "outputId": "cd5824fc-d31c-4160-a834-b7d26d2d58ca"
      },
      "execution_count": null,
      "outputs": [
        {
          "output_type": "stream",
          "name": "stdout",
          "text": [
            "     Name  Math  English  Music  Physics\n",
            "0   Simon    90       98     85      100\n",
            "1  Mathew    80       89     95       90\n",
            "2    Andy    70       95    100       90\n",
            "3   Louis    85       79    100       88\n",
            "\n",
            "\n",
            "        Math  English  Music  Physics\n",
            "Name                                 \n",
            "Simon     90       98     85      100\n",
            "Mathew    80       89     95       90\n",
            "Andy      70       95    100       90\n",
            "Louis     85       79    100       88\n"
          ]
        }
      ]
    },
    {
      "cell_type": "code",
      "source": [
        "import pandas as pd\n",
        "exam_data = {'Name':['ES', 'YG', 'MJ', 'HY'], 'Math':[90,89,79,60], }\n",
        "df=pd.DataFrame(exam_data)\n",
        "df.set_index('Name', inplace=True)\n",
        "print(df)"
      ],
      "metadata": {
        "id": "wVC0ucnBIt48"
      },
      "execution_count": null,
      "outputs": []
    },
    {
      "cell_type": "code",
      "source": [
        "import pandas as pd\n",
        "exam_data = {'Name': ['eunsung', 'hyejin', 'chayeong', 'hayeon'], 'Math':[90,87,67,70], 'Music':[92,67,39,82], 'English':[89,90,67,82]}\n",
        "df = pd.DataFrame(exam_data)\n",
        "print(df)\n",
        "print('\\n')\n",
        "df.set_index('Name', inplace=True)\n",
        "print(df)"
      ],
      "metadata": {
        "colab": {
          "base_uri": "https://localhost:8080/"
        },
        "id": "iGnebiGSYzc3",
        "outputId": "ae545712-b15d-4bb9-acdf-b531c582a89c"
      },
      "execution_count": null,
      "outputs": [
        {
          "output_type": "stream",
          "name": "stdout",
          "text": [
            "       Name  Math  Music  English\n",
            "0   eunsung    90     92       89\n",
            "1    hyejin    87     67       90\n",
            "2  chayeong    67     39       67\n",
            "3    hayeon    70     82       82\n",
            "\n",
            "\n",
            "          Math  Music  English\n",
            "Name                          \n",
            "eunsung     90     92       89\n",
            "hyejin      87     67       90\n",
            "chayeong    67     39       67\n",
            "hayeon      70     82       82\n"
          ]
        }
      ]
    },
    {
      "cell_type": "code",
      "source": [
        "#-*- coding: utf-8 -*-       #<인덱스를 처음부터 실행>\n",
        "\n",
        "import pandas as pd\n",
        "\n",
        "#DataFrame( ) 함수로 사전형 데이터를 2차원 데이터프레임으로 변환, 변수 df에 저장.\n",
        "#주의: 학생들 이름이 있는 Name column & 각 과목 성적 columns 섞여 있음.\n",
        "\n",
        "exam_data = {'Name' : ['Simon', 'Mathew', 'Andy','Louis'],         #딕셔너리  형태로 점수데이터 하고 같이 넣음\n",
        "             'Math':[90,80,70,85],\n",
        "             'English':[98,89,95,79],\n",
        "             'Music':[85,95,100,100],\n",
        "             'Physics':[100,90,90,88]}\n",
        "\n",
        "df = pd.DataFrame(exam_data)\n",
        "print(df)\n",
        "print('\\n')\n",
        "\n",
        "#'Name' column을 set_index() 함수를 사용하여 새로운 인덱스로 지정하고, df object에 변경 사항 반영; inplace=True means an immediate application without giving a new variable name.\n",
        "df.set_index('Name', inplace=True)\n",
        "print(df)\n",
        "\n"
      ],
      "metadata": {
        "colab": {
          "base_uri": "https://localhost:8080/"
        },
        "id": "Z-jsuFRxnCvP",
        "outputId": "5d614716-a49d-4ab7-e18a-53dd7f72d3a0"
      },
      "execution_count": null,
      "outputs": [
        {
          "output_type": "stream",
          "name": "stdout",
          "text": [
            "     Name  Math  English  Music  Physics\n",
            "0   Simon    90       98     85      100\n",
            "1  Mathew    80       89     95       90\n",
            "2    Andy    70       95    100       90\n",
            "3   Louis    85       79    100       88\n",
            "\n",
            "\n",
            "        Math  English  Music  Physics\n",
            "Name                                 \n",
            "Simon     90       98     85      100\n",
            "Mathew    80       89     95       90\n",
            "Andy      70       95    100       90\n",
            "Louis     85       79    100       88\n"
          ]
        }
      ]
    },
    {
      "cell_type": "markdown",
      "source": [
        "####<font color = 'red'> 👀🐾 **데이터프레임 변환 연습 계속 Converting to basic data frame from dictionary data** 1 ⤵️"
      ],
      "metadata": {
        "id": "RNQXdqeBhejh"
      }
    },
    {
      "cell_type": "code",
      "source": [
        "import pandas as pd\n",
        "dict_data = {'c0' : [1,2,3],\n",
        "             'c1' : [4,5,6],\n",
        "             'c2' : [7,8,9],\n",
        "             'c3' : [10,11,12],\n",
        "             'c4' : [13,14,15]}\n",
        "\n",
        "df=pd.DataFrame(dict_data)\n",
        "print(df)"
      ],
      "metadata": {
        "colab": {
          "base_uri": "https://localhost:8080/"
        },
        "id": "-W8F10NMaZNQ",
        "outputId": "2602f97b-686d-48de-81ae-d6d929c383d3"
      },
      "execution_count": null,
      "outputs": [
        {
          "output_type": "stream",
          "name": "stdout",
          "text": [
            "   c0  c1  c2  c3  c4\n",
            "0   1   4   7  10  13\n",
            "1   2   5   8  11  14\n",
            "2   3   6   9  12  15\n"
          ]
        }
      ]
    },
    {
      "cell_type": "code",
      "source": [
        "import pandas as pd\n",
        "\n",
        "dict_data = {'c0': [1,2,3], 'c1': [4,5,6], 'c2':[7,8,9], 'c3':[10,11,12], 'c4':[13,14,15]}     #칼럼(column:열)에 c0 칼럼에 지금 레이블(label:표시)을 주는 건데\n",
        "df = pd.DataFrame(dict_data)   #데이터 프레임화 한다. pd의 데이터프레임 클래스를 사용해서 딕셔너리 데이터를 사용한다. 이렇게 한다는 거 자체는 인덱스 네임이 아직 없다.\n",
        "print(df)\n",
        "print('\\n')\n",
        "\n",
        "\n"
      ],
      "metadata": {
        "colab": {
          "base_uri": "https://localhost:8080/"
        },
        "id": "7TFt6DJCwni0",
        "outputId": "692d9583-3476-4d0c-9c5e-4b069d2323e0"
      },
      "execution_count": null,
      "outputs": [
        {
          "output_type": "stream",
          "name": "stdout",
          "text": [
            "   c0  c1  c2  c3  c4\n",
            "0   1   4   7  10  13\n",
            "1   2   5   8  11  14\n",
            "2   3   6   9  12  15\n"
          ]
        }
      ]
    },
    {
      "cell_type": "markdown",
      "source": [
        "위 코드는 각 칼럼에 리스트에 3개의 엘리먼트가 들어가서 총 3행으로 됐다."
      ],
      "metadata": {
        "id": "84cuvNoEyxGg"
      }
    },
    {
      "cell_type": "markdown",
      "source": [
        "위 코드에서 행 인덱스인 0 1 2 를 갖다가 우리가 인데스를 r0 r1 r2 r3 ...로 하겠다."
      ],
      "metadata": {
        "id": "Wb1YkDzgzGH7"
      }
    },
    {
      "cell_type": "code",
      "source": [
        "import pandas as pd\n",
        "\n",
        "dict_data = {'c0': [1,2,3], 'c1': [4,5,6], 'c2':[7,8,9], 'c3':[10,11,12], 'c4':[13,14,15]}     #칼럼(column:열)에 c0 칼럼에 지금 레이블(label:표시)을 주는 건데\n",
        "df = pd.DataFrame(dict_data, index=['r0', 'r1', 'r2'])   #데이터 프레임화 한다. pd의 데이터프레임 클래스를 사용해서 딕셔너리 데이터를 사용한다. 이렇게 한다는 거 자체는 인덱스 네임이 아직 없다.\n",
        "print(df)\n"
      ],
      "metadata": {
        "colab": {
          "base_uri": "https://localhost:8080/"
        },
        "id": "11v0GogyzVlv",
        "outputId": "088a2a19-d922-49f2-c088-127fac9aca5d"
      },
      "execution_count": null,
      "outputs": [
        {
          "output_type": "stream",
          "name": "stdout",
          "text": [
            "    c0  c1  c2  c3  c4\n",
            "r0   1   4   7  10  13\n",
            "r1   2   5   8  11  14\n",
            "r2   3   6   9  12  15\n"
          ]
        }
      ]
    },
    {
      "cell_type": "code",
      "source": [
        "#-*- coding: utf-8 -*-   #데이터를 초기화\n",
        "\n",
        "import pandas as pd\n",
        "\n",
        "#DataFrame( ) 함수로 데이터프레임 변환, 변수 df에 저장\n",
        "\n",
        "dict_data = {'c0' : [1,2,3],\n",
        "             'c1' : [4,5,6],\n",
        "             'c2' : [7,8,9],\n",
        "             'c3' : [10,11,12],\n",
        "             'c4' : [13,14,15]}\n",
        "\n",
        "df = pd.DataFrame(dict_data)\n",
        "print(df)\n",
        "print('\\n')"
      ],
      "metadata": {
        "id": "iwKgI8a9jBhD",
        "outputId": "f23b5ce3-a24b-463a-af92-3e533334c13a",
        "colab": {
          "base_uri": "https://localhost:8080/"
        }
      },
      "execution_count": null,
      "outputs": [
        {
          "output_type": "stream",
          "name": "stdout",
          "text": [
            "   c0  c1  c2  c3  c4\n",
            "0   1   4   7  10  13\n",
            "1   2   5   8  11  14\n",
            "2   3   6   9  12  15\n",
            "\n",
            "\n"
          ]
        }
      ]
    },
    {
      "cell_type": "markdown",
      "source": [
        "####<font color = 'red'> 👀🐾 **행 인덱스 실행하기 set_index( ) 2-1** ⤵️"
      ],
      "metadata": {
        "id": "ksvobzzXifwH"
      }
    },
    {
      "cell_type": "markdown",
      "source": [
        "행 데이터를 조금 더 항목을 추가하고 싶다고 생각을 함. 그러면 그거는 어떻게 추가를 할지. 그 추가한 데에서는 원래 우리가 조사한 벨류들이 없다. 그러면 걔들은 '난 에플터블' 이라고 해서 적용이 불가한 데이터로 숫자 데이터로 나오지 않는다. 그러면 나중에는 분석이 돌아가지 않는 난관에 봉착한다. 왜냐하면 숫자가 아닌 데이터들이 섞여있어서/ 그러면 그 숫자가 아닌 데이터를 이제는 이 각각의 항목을 추가한것에 숫자가 아닌 데이터를 가장 디폴트 값인 0값으로 치환을 해준다. 그러면 나중에 분석들이 돌아가기도 한다."
      ],
      "metadata": {
        "id": "n0D3v8t3vRwQ"
      }
    },
    {
      "cell_type": "code",
      "source": [
        "#이제 할 거는 행이 2개가 더 필요하다. 뭐 사람이면 사람일수도 있고, 지역이면 지역일 수도 있다. 행을 2개를 더 넣겠다.\n",
        "\n",
        "import pandas as pd\n",
        "\n",
        "dict_data = {'c0': [1,2,3], 'c1': [4,5,6], 'c2':[7,8,9], 'c3':[10,11,12], 'c4':[13,14,15]}     #칼럼(column:열)에 c0 칼럼에 지금 레이블(label:표시)을 주는 건데\n",
        "df = pd.DataFrame(dict_data, index=['r0', 'r1', 'r2'])   #데이터 프레임화 한다. pd의 데이터프레임 클래스를 사용해서 딕셔너리 데이터를 사용한다. 이렇게 한다는 거 자체는 인덱스 네임이 아직 없다.\n",
        "print(df)"
      ],
      "metadata": {
        "id": "hrBf50iW1K4z",
        "colab": {
          "base_uri": "https://localhost:8080/"
        },
        "outputId": "9f4f0765-289b-406d-b0c5-337f4f7b664e"
      },
      "execution_count": null,
      "outputs": [
        {
          "output_type": "stream",
          "name": "stdout",
          "text": [
            "    c0  c1  c2  c3  c4\n",
            "r0   1   4   7  10  13\n",
            "r1   2   5   8  11  14\n",
            "r2   3   6   9  12  15\n"
          ]
        }
      ]
    },
    {
      "cell_type": "code",
      "source": [
        "# 행 2개 추가\n",
        "\n",
        "df = pd.DataFrame(dict_data, index=['r0', 'r1', 'r2'])\n",
        "print(df)\n",
        "print('\\n')\n",
        "new_index = ['r0', 'r1', 'r2', 'r3', 'r4']\n",
        "ndf = df.reindex(new_index)# 뉴 데이터 프레임 이라고 임의의 변수명을 넣음. ndf 에다가 원래 갖고 있던 r2 까지 있던 것이 df 였다. 그 df에다가 reindex 해서 '인덱스를 다시 붙이겠다' 란 뜻이다.\n",
        "print(ndf)"
      ],
      "metadata": {
        "colab": {
          "base_uri": "https://localhost:8080/"
        },
        "id": "zDFgJ57V1vjS",
        "outputId": "44cbba33-49a7-4ddc-ed66-3f4aab32ab68"
      },
      "execution_count": null,
      "outputs": [
        {
          "output_type": "stream",
          "name": "stdout",
          "text": [
            "    c0  c1  c2  c3  c4\n",
            "r0   1   4   7  10  13\n",
            "r1   2   5   8  11  14\n",
            "r2   3   6   9  12  15\n",
            "\n",
            "\n",
            "     c0   c1   c2    c3    c4\n",
            "r0  1.0  4.0  7.0  10.0  13.0\n",
            "r1  2.0  5.0  8.0  11.0  14.0\n",
            "r2  3.0  6.0  9.0  12.0  15.0\n",
            "r3  NaN  NaN  NaN   NaN   NaN\n",
            "r4  NaN  NaN  NaN   NaN   NaN\n"
          ]
        }
      ]
    },
    {
      "cell_type": "markdown",
      "source": [
        "NaN 은 적용할 수 없는 숫자가 아닌 데이터면 이렇게 나온다. 그래서 다 채워지긴 했는데 나중에 분석을 돌리면 아예 안돌아감. 그냥 전부 다 안돌아감.\n",
        "그래서 예를 들어, 이 테이블과 또 다른 원래 5개의 행으로 출발한 데이터가 있으면 그 행의 r3와 r4는 아예 비교분석이 안된다는 단점이 있다.\n",
        "\n",
        "!!! 그래서 얘를 갖다가 0 값으로 바꿔줘야 된다. 0 값으로 바꿔줘야 어쨌든 분석은 돌아간다.\n",
        "위에서 만든 표에는 r3와 r4에 대한 입력값이 사실은 없었잖아요. 하지만 예를 들어, 충청도 데이터에서는 r3, r4 데이터가 행방불명 되있는데 경기도 데이터, 강원도 데이터는 다 있단 말이야 그러면 이제 비교를 해야되는데 비교할 대상을 있어야 되서 r3 r4를 만들었는데 이제 자동으로 생성된 거는 NaN 이라고 해서 숫자화되지 않은 데이터가 바이디폴트값으로 기초값으로 들어가 있다. 따라서 얘들이 만약에 0 값이면 다른 숫자들이랑 비교는 할 수 있다. 그래서 \"얘(NanN)를 0으로 치환해주는 것이다.\"!!!!!\n"
      ],
      "metadata": {
        "id": "mSdGULjj6_Td"
      }
    },
    {
      "cell_type": "code",
      "source": [
        "df = pd.DataFrame(dict_data, index=['r0', 'r1', 'r2'])  #인티저 인덱스가 바뀜\n",
        "df\n",
        "new_index=['r0','r1','r2','r3','r4']\n",
        "ndf = df.reindex(new_index)\n",
        "print(ndf)"
      ],
      "metadata": {
        "colab": {
          "base_uri": "https://localhost:8080/"
        },
        "id": "423_ChtEbIqX",
        "outputId": "86793909-d11d-439e-a3bd-952cf964058f"
      },
      "execution_count": null,
      "outputs": [
        {
          "output_type": "stream",
          "name": "stdout",
          "text": [
            "     c0   c1   c2    c3    c4\n",
            "r0  1.0  4.0  7.0  10.0  13.0\n",
            "r1  2.0  5.0  8.0  11.0  14.0\n",
            "r2  3.0  6.0  9.0  12.0  15.0\n",
            "r3  NaN  NaN  NaN   NaN   NaN\n",
            "r4  NaN  NaN  NaN   NaN   NaN\n"
          ]
        }
      ]
    },
    {
      "cell_type": "code",
      "source": [
        "#Dictionary데이터를 프레임으로 변환하며, 행 인덱스를 'r0', 'r1', 'r2'로 재지정\n",
        "\n",
        "df = pd.DataFrame(dict_data, index=['r0', 'r1', 'r2'])\n",
        "print(df)\n",
        "print('\\n')"
      ],
      "metadata": {
        "id": "X2ZroghHjCTO",
        "outputId": "011bba76-4e43-4d0c-a7a6-ab890c5bbf83",
        "colab": {
          "base_uri": "https://localhost:8080/"
        }
      },
      "execution_count": null,
      "outputs": [
        {
          "output_type": "stream",
          "name": "stdout",
          "text": [
            "    c0  c1  c2  c3  c4\n",
            "r0   1   4   7  10  13\n",
            "r1   2   5   8  11  14\n",
            "r2   3   6   9  12  15\n",
            "\n",
            "\n"
          ]
        }
      ]
    },
    {
      "cell_type": "markdown",
      "source": [
        "####<font color = 'red'> 👀🐾 **#행(row) 인덱스 재배열 reindex( ) 2-2** ⤵️"
      ],
      "metadata": {
        "id": "mtUZ-8d_kF9Y"
      }
    },
    {
      "cell_type": "code",
      "source": [
        "new_index = ['r0', 'r1', 'r2', 'r3', 'r4']\n",
        "ndf = df.reindex(new_index)\n",
        "print(ndf)\n",
        "print('\\n')\n",
        "\n",
        "ndf2 = df.reindex(new_index, fill_value=0)     #fill: 채우다. 숫자가 아닌 데이터들이 fill_value=0 을 하면서 데이터가 숫자화 되었다.!!!!!\n",
        "print(ndf2)"
      ],
      "metadata": {
        "id": "iMDAUEkabFWf",
        "colab": {
          "base_uri": "https://localhost:8080/"
        },
        "outputId": "56cdb25f-df6a-4155-a771-5ee77dd8c4e9"
      },
      "execution_count": null,
      "outputs": [
        {
          "output_type": "stream",
          "name": "stdout",
          "text": [
            "     c0   c1   c2    c3    c4\n",
            "r0  1.0  4.0  7.0  10.0  13.0\n",
            "r1  2.0  5.0  8.0  11.0  14.0\n",
            "r2  3.0  6.0  9.0  12.0  15.0\n",
            "r3  NaN  NaN  NaN   NaN   NaN\n",
            "r4  NaN  NaN  NaN   NaN   NaN\n",
            "\n",
            "\n",
            "    c0  c1  c2  c3  c4\n",
            "r0   1   4   7  10  13\n",
            "r1   2   5   8  11  14\n",
            "r2   3   6   9  12  15\n",
            "r3   0   0   0   0   0\n",
            "r4   0   0   0   0   0\n"
          ]
        }
      ]
    },
    {
      "cell_type": "code",
      "source": [
        "#행 인덱스를 [r0, r1, r2, r3, r4]로 재지정\n",
        "new_index = ['r0','r1','r2','r3','r4']\n",
        "ndf = df.reindex(new_index)\n",
        "print(ndf)\n",
        "print('\\n')\n",
        "\n",
        "ndf2 = df.reindex(new_index, fill_value=0)\n",
        "print(ndf2)"
      ],
      "metadata": {
        "id": "zWfcDKHmj1s3",
        "outputId": "0facef52-8d15-4979-e7b2-42e5120cebc8",
        "colab": {
          "base_uri": "https://localhost:8080/"
        }
      },
      "execution_count": null,
      "outputs": [
        {
          "output_type": "stream",
          "name": "stdout",
          "text": [
            "     c0   c1   c2    c3    c4\n",
            "r0  1.0  4.0  7.0  10.0  13.0\n",
            "r1  2.0  5.0  8.0  11.0  14.0\n",
            "r2  3.0  6.0  9.0  12.0  15.0\n",
            "r3  NaN  NaN  NaN   NaN   NaN\n",
            "r4  NaN  NaN  NaN   NaN   NaN\n",
            "\n",
            "\n",
            "    c0  c1  c2  c3  c4\n",
            "r0   1   4   7  10  13\n",
            "r1   2   5   8  11  14\n",
            "r2   3   6   9  12  15\n",
            "r3   0   0   0   0   0\n",
            "r4   0   0   0   0   0\n"
          ]
        }
      ]
    },
    {
      "cell_type": "markdown",
      "source": [
        "####<font color = 'red'> 👀🐾 **#reindex ( )로 발생한 NaN 값을 fill_value = 0 을 사용하여 NaN을 숫자 0으로 채우기 3** ⤵️"
      ],
      "metadata": {
        "id": "qC5KtgyDimVr"
      }
    },
    {
      "cell_type": "code",
      "source": [
        "new_index = ['r0','r1','r2','r3','r4']\n",
        "ndf2 = df.reindex(new_index, fill_value=0)\n",
        "print(ndf2)\n",
        "print('\\n')"
      ],
      "metadata": {
        "id": "p9ZCzNexko90",
        "outputId": "6df28ef8-dbf4-4aa4-c968-d5f792e9d5a6",
        "colab": {
          "base_uri": "https://localhost:8080/"
        }
      },
      "execution_count": null,
      "outputs": [
        {
          "output_type": "stream",
          "name": "stdout",
          "text": [
            "    c0  c1  c2  c3  c4\n",
            "r0   1   4   7  10  13\n",
            "r1   2   5   8  11  14\n",
            "r2   3   6   9  12  15\n",
            "r3   0   0   0   0   0\n",
            "r4   0   0   0   0   0\n",
            "\n",
            "\n"
          ]
        }
      ]
    },
    {
      "cell_type": "markdown",
      "source": [
        "####<font color = 'red'> 👀🐾 **행(row) 인덱스 초기화 reset_index( ) 4** ⤵️"
      ],
      "metadata": {
        "id": "CxRo73HeivdL"
      }
    },
    {
      "cell_type": "code",
      "source": [
        "ndf2=df.reset_index()\n",
        "print(ndf2)"
      ],
      "metadata": {
        "id": "vNzfrK9vk5_c",
        "outputId": "c64fbc4c-4c2d-4c5b-83c7-be617c3597e7",
        "colab": {
          "base_uri": "https://localhost:8080/"
        }
      },
      "execution_count": null,
      "outputs": [
        {
          "output_type": "stream",
          "name": "stdout",
          "text": [
            "  index  c0  c1  c2  c3  c4\n",
            "0    r0   1   4   7  10  13\n",
            "1    r1   2   5   8  11  14\n",
            "2    r2   3   6   9  12  15\n"
          ]
        }
      ]
    },
    {
      "cell_type": "markdown",
      "source": [
        "####<font color = 'red'> 👀🐾 **행(row) 인덱스를 기준으로 데이터 정렬 sort_index( ) 5** ⤵️"
      ],
      "metadata": {
        "id": "8bbQ_hJqiqId"
      }
    },
    {
      "cell_type": "code",
      "source": [
        "ndf3 = df.sort_index()\n",
        "print(ndf3)"
      ],
      "metadata": {
        "id": "hQS330XHlDos",
        "outputId": "e37c09f2-054a-4d97-d625-69068bdc1cca",
        "colab": {
          "base_uri": "https://localhost:8080/"
        }
      },
      "execution_count": null,
      "outputs": [
        {
          "output_type": "stream",
          "name": "stdout",
          "text": [
            "    c0  c1  c2  c3  c4\n",
            "r0   1   4   7  10  13\n",
            "r1   2   5   8  11  14\n",
            "r2   3   6   9  12  15\n"
          ]
        }
      ]
    },
    {
      "cell_type": "markdown",
      "source": [
        "####<font color = 'red'> 👀🐾 **행(row) 인덱스를 기준으로 데이터를 내림차순으로 정렬하려면 sort_index(ascending=False) & 오름차순으로 정렬하려면 sort_index(ascending=True) 5** ⤵️"
      ],
      "metadata": {
        "id": "e5r3mMBfmF3Z"
      }
    },
    {
      "cell_type": "code",
      "source": [
        "ndf4=df.sort_index(ascending=False)\n",
        "print(ndf4)"
      ],
      "metadata": {
        "id": "v1is4A6rll6U",
        "outputId": "583532a3-228a-4407-c8ec-0ddf60d8db1d",
        "colab": {
          "base_uri": "https://localhost:8080/"
        }
      },
      "execution_count": null,
      "outputs": [
        {
          "output_type": "stream",
          "name": "stdout",
          "text": [
            "    c0  c1  c2  c3  c4\n",
            "r2   3   6   9  12  15\n",
            "r1   2   5   8  11  14\n",
            "r0   1   4   7  10  13\n"
          ]
        }
      ]
    },
    {
      "cell_type": "markdown",
      "source": [
        "<font color = 'red'> **👀🐾 특정 열의 데이터 값을 기준으로 데이터프레임 내림차순/오름차순으로 정렬하기 행(row) 인덱스를 기준으로 데이터를 내림차순으로 정렬하려면 sort_vales(by='cX', ascending=False) & 오름차순으로 정렬하려면 sort_vales(by='cX', ascending=True) 6** ⤵️"
      ],
      "metadata": {
        "id": "ifFCBAm_fyHF"
      }
    },
    {
      "cell_type": "code",
      "source": [
        "ndf5=df.sort_values(by='c1', ascending=False)\n",
        "print(ndf5)\n",
        "print('\\n')\n",
        "\n",
        "ndf6=df.sort_values(by='c1', ascending=True)\n",
        "print(ndf6)"
      ],
      "metadata": {
        "id": "KgJinqAYgQVf",
        "outputId": "865fcfe1-30e6-456c-b8a0-ebaef6fc6f2d",
        "colab": {
          "base_uri": "https://localhost:8080/"
        }
      },
      "execution_count": null,
      "outputs": [
        {
          "output_type": "stream",
          "name": "stdout",
          "text": [
            "    c0  c1  c2  c3  c4\n",
            "r2   3   6   9  12  15\n",
            "r1   2   5   8  11  14\n",
            "r0   1   4   7  10  13\n",
            "\n",
            "\n",
            "    c0  c1  c2  c3  c4\n",
            "r0   1   4   7  10  13\n",
            "r1   2   5   8  11  14\n",
            "r2   3   6   9  12  15\n"
          ]
        }
      ]
    }
  ]
}