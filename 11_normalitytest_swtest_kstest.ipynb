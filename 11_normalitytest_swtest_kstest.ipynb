{
  "nbformat": 4,
  "nbformat_minor": 0,
  "metadata": {
    "colab": {
      "provenance": [],
      "include_colab_link": true
    },
    "kernelspec": {
      "name": "python3",
      "display_name": "Python 3"
    },
    "language_info": {
      "name": "python"
    }
  },
  "cells": [
    {
      "cell_type": "markdown",
      "metadata": {
        "id": "view-in-github",
        "colab_type": "text"
      },
      "source": [
        "<a href=\"https://colab.research.google.com/github/kmj122/stats_2025/blob/main/11_normalitytest_swtest_kstest.ipynb\" target=\"_parent\"><img src=\"https://colab.research.google.com/assets/colab-badge.svg\" alt=\"Open In Colab\"/></a>"
      ]
    },
    {
      "cell_type": "code",
      "source": [
        "!pip install --upgrade nbformat nbconvert"
      ],
      "metadata": {
        "id": "7P8V4mXNa6ur",
        "outputId": "120cb31e-6073-4b8c-de45-704dc22dfe01",
        "colab": {
          "base_uri": "https://localhost:8080/"
        },
        "collapsed": true
      },
      "execution_count": null,
      "outputs": [
        {
          "output_type": "stream",
          "name": "stdout",
          "text": [
            "Requirement already satisfied: nbformat in /usr/local/lib/python3.11/dist-packages (5.10.4)\n",
            "Requirement already satisfied: nbconvert in /usr/local/lib/python3.11/dist-packages (7.16.6)\n",
            "Requirement already satisfied: fastjsonschema>=2.15 in /usr/local/lib/python3.11/dist-packages (from nbformat) (2.21.1)\n",
            "Requirement already satisfied: jsonschema>=2.6 in /usr/local/lib/python3.11/dist-packages (from nbformat) (4.23.0)\n",
            "Requirement already satisfied: jupyter-core!=5.0.*,>=4.12 in /usr/local/lib/python3.11/dist-packages (from nbformat) (5.7.2)\n",
            "Requirement already satisfied: traitlets>=5.1 in /usr/local/lib/python3.11/dist-packages (from nbformat) (5.7.1)\n",
            "Requirement already satisfied: beautifulsoup4 in /usr/local/lib/python3.11/dist-packages (from nbconvert) (4.13.4)\n",
            "Requirement already satisfied: bleach!=5.0.0 in /usr/local/lib/python3.11/dist-packages (from bleach[css]!=5.0.0->nbconvert) (6.2.0)\n",
            "Requirement already satisfied: defusedxml in /usr/local/lib/python3.11/dist-packages (from nbconvert) (0.7.1)\n",
            "Requirement already satisfied: jinja2>=3.0 in /usr/local/lib/python3.11/dist-packages (from nbconvert) (3.1.6)\n",
            "Requirement already satisfied: jupyterlab-pygments in /usr/local/lib/python3.11/dist-packages (from nbconvert) (0.3.0)\n",
            "Requirement already satisfied: markupsafe>=2.0 in /usr/local/lib/python3.11/dist-packages (from nbconvert) (3.0.2)\n",
            "Requirement already satisfied: mistune<4,>=2.0.3 in /usr/local/lib/python3.11/dist-packages (from nbconvert) (3.1.3)\n",
            "Requirement already satisfied: nbclient>=0.5.0 in /usr/local/lib/python3.11/dist-packages (from nbconvert) (0.10.2)\n",
            "Requirement already satisfied: packaging in /usr/local/lib/python3.11/dist-packages (from nbconvert) (24.2)\n",
            "Requirement already satisfied: pandocfilters>=1.4.1 in /usr/local/lib/python3.11/dist-packages (from nbconvert) (1.5.1)\n",
            "Requirement already satisfied: pygments>=2.4.1 in /usr/local/lib/python3.11/dist-packages (from nbconvert) (2.19.1)\n",
            "Requirement already satisfied: webencodings in /usr/local/lib/python3.11/dist-packages (from bleach!=5.0.0->bleach[css]!=5.0.0->nbconvert) (0.5.1)\n",
            "Requirement already satisfied: tinycss2<1.5,>=1.1.0 in /usr/local/lib/python3.11/dist-packages (from bleach[css]!=5.0.0->nbconvert) (1.4.0)\n",
            "Requirement already satisfied: attrs>=22.2.0 in /usr/local/lib/python3.11/dist-packages (from jsonschema>=2.6->nbformat) (25.3.0)\n",
            "Requirement already satisfied: jsonschema-specifications>=2023.03.6 in /usr/local/lib/python3.11/dist-packages (from jsonschema>=2.6->nbformat) (2025.4.1)\n",
            "Requirement already satisfied: referencing>=0.28.4 in /usr/local/lib/python3.11/dist-packages (from jsonschema>=2.6->nbformat) (0.36.2)\n",
            "Requirement already satisfied: rpds-py>=0.7.1 in /usr/local/lib/python3.11/dist-packages (from jsonschema>=2.6->nbformat) (0.25.1)\n",
            "Requirement already satisfied: platformdirs>=2.5 in /usr/local/lib/python3.11/dist-packages (from jupyter-core!=5.0.*,>=4.12->nbformat) (4.3.8)\n",
            "Requirement already satisfied: jupyter-client>=6.1.12 in /usr/local/lib/python3.11/dist-packages (from nbclient>=0.5.0->nbconvert) (6.1.12)\n",
            "Requirement already satisfied: soupsieve>1.2 in /usr/local/lib/python3.11/dist-packages (from beautifulsoup4->nbconvert) (2.7)\n",
            "Requirement already satisfied: typing-extensions>=4.0.0 in /usr/local/lib/python3.11/dist-packages (from beautifulsoup4->nbconvert) (4.13.2)\n",
            "Requirement already satisfied: pyzmq>=13 in /usr/local/lib/python3.11/dist-packages (from jupyter-client>=6.1.12->nbclient>=0.5.0->nbconvert) (24.0.1)\n",
            "Requirement already satisfied: python-dateutil>=2.1 in /usr/local/lib/python3.11/dist-packages (from jupyter-client>=6.1.12->nbclient>=0.5.0->nbconvert) (2.9.0.post0)\n",
            "Requirement already satisfied: tornado>=4.1 in /usr/local/lib/python3.11/dist-packages (from jupyter-client>=6.1.12->nbclient>=0.5.0->nbconvert) (6.4.2)\n",
            "Requirement already satisfied: six>=1.5 in /usr/local/lib/python3.11/dist-packages (from python-dateutil>=2.1->jupyter-client>=6.1.12->nbclient>=0.5.0->nbconvert) (1.17.0)\n"
          ]
        }
      ]
    },
    {
      "cell_type": "markdown",
      "source": [
        "## 💦🔥 **Normality test**\n",
        "\n",
        "1. **Small sample size (N<50)**, which is comparable to **Shapiro-Wilk** test on SPSS\n",
        "\n",
        "2. **Big sample size (N>50)**, which is comparable to **Kolmogorov-Smirnov** test on SPSS\n",
        "\n"
      ],
      "metadata": {
        "id": "NJ08d_uKSFuM"
      }
    },
    {
      "cell_type": "markdown",
      "source": [
        "# <font color = 'green'> **1️⃣  Small Sample Size (N < 50)**\n",
        "    - Be aware that the following script generates different results for everyone running it!"
      ],
      "metadata": {
        "id": "ORCNnHH_10vs"
      }
    },
    {
      "cell_type": "markdown",
      "source": [
        "## CTT (Critical Test Threshold)\n",
        "\n",
        "- The p-value represents the probability of observing the test statistic under the assumption that the null hypothesis is true. However, it doesn't provide information about the size of the effect or the practical significance of the result.\n",
        "\n",
        "- On the other hand, the critical test threshold (CTT) is the predetermined significance level (often denoted as alpha) at which you're willing to reject the null hypothesis. It is typically set to 0.05."
      ],
      "metadata": {
        "id": "NBV0cLff730W"
      }
    },
    {
      "cell_type": "markdown",
      "source": [
        "# <font color = 'green'> **1️⃣-1️⃣  Small Sample Size with Gaussian distribution (N < 50)**"
      ],
      "metadata": {
        "id": "l3WhCZYfbx8E"
      }
    },
    {
      "cell_type": "code",
      "execution_count": null,
      "metadata": {
        "id": "3454tysCMAaw",
        "colab": {
          "base_uri": "https://localhost:8080/"
        },
        "outputId": "b040ae2e-fd3c-4a8b-fc05-88e6b1fc6170"
      },
      "outputs": [
        {
          "output_type": "stream",
          "name": "stdout",
          "text": [
            "[3.00399639 1.01523727 4.36295428 1.72741286 1.96001359 2.71480807\n",
            " 3.32675624 3.06281583 3.43168517 3.88678835 2.15324413 1.79760984\n",
            " 1.14660908 2.99062904 4.99860665 1.60314387 3.41951989 2.93048785\n",
            " 2.0096462  3.74050626 2.73499093 3.38496289 3.53917409 2.99602682\n",
            " 4.05660338 4.5142911  2.87881846 3.4607532  3.74755909 1.2430335\n",
            " 3.40317221 5.36048839 2.58359436 2.14941022 3.01660574 3.48651057\n",
            " 5.18168695 4.32720452 4.64287591 2.21883394]\n",
            "\n",
            "\n",
            "Full set of data points for Gaussian data:\n",
            "      Values\n",
            "0   3.003996\n",
            "1   1.015237\n",
            "2   4.362954\n",
            "3   1.727413\n",
            "4   1.960014\n",
            "5   2.714808\n",
            "6   3.326756\n",
            "7   3.062816\n",
            "8   3.431685\n",
            "9   3.886788\n",
            "10  2.153244\n",
            "11  1.797610\n",
            "12  1.146609\n",
            "13  2.990629\n",
            "14  4.998607\n",
            "15  1.603144\n",
            "16  3.419520\n",
            "17  2.930488\n",
            "18  2.009646\n",
            "19  3.740506\n",
            "20  2.734991\n",
            "21  3.384963\n",
            "22  3.539174\n",
            "23  2.996027\n",
            "24  4.056603\n",
            "25  4.514291\n",
            "26  2.878818\n",
            "27  3.460753\n",
            "28  3.747559\n",
            "29  1.243034\n",
            "30  3.403172\n",
            "31  5.360488\n",
            "32  2.583594\n",
            "33  2.149410\n",
            "34  3.016606\n",
            "35  3.486511\n",
            "36  5.181687\n",
            "37  4.327205\n",
            "38  4.642876\n",
            "39  2.218834\n",
            "\n",
            "\n",
            "Shapiro-Wilk Test Statistic: 0.981\n",
            "p-value: 0.7263517586415279\n",
            "Sample looks Gaussian (fail to reject H0)\n"
          ]
        }
      ],
      "source": [
        "import numpy as np # numeric calculation\n",
        "import pandas as pd # data analysis\n",
        "import seaborn as sns    # 공용데이터가 샘플로 들어가 있음.\n",
        "from scipy.stats import shapiro # stats\n",
        "\n",
        "# Generate a random dataset (replace this with your own data)\n",
        "# 🔔 The following code line generates random numbers from a normal (Gaussian) distribution using NumPy's random.normal function.\n",
        "# 🔔 loc=3, scale=1, size=40 (creating an array of 50 numbers drawn from a normal distribution with a mean (loc) of 3 and a standard deviation (scale) of 1.\n",
        "data_gaussian = np.random.normal(loc=3, scale=1, size=40)\n",
        "print(data_gaussian)\n",
        "print('\\n')\n",
        "\n",
        "# Convert the data to a pandas DataFrame\n",
        "df1 = pd.DataFrame(data_gaussian, columns=['Values'])\n",
        "print('Full set of data points for Gaussian data:')\n",
        "print(df1)\n",
        "print('\\n')\n",
        "\n",
        "# Save the DataFrame to a CSV file\n",
        "df1.to_csv('generated_data1.csv', index=True) # index=True for inncluding index\n",
        "\n",
        "# Perform Shapiro-Wilk test for normality\n",
        "# 🔔 Tuple unpacking: shapiro() function returns a tuple containing two values: the test statistic and the p-value.\n",
        "# By separating statistic and p_value with a comma, Python interprets the returned tuple and assigns each value to its corresponding variable.\n",
        "statistic, p_value = shapiro(data_gaussian)\n",
        "\n",
        "#Apply the round function for the test statistic (Optional)\n",
        "statistic = round(statistic, 3)\n",
        "\n",
        "# Print the test statistic and p-value\n",
        "print(\"Shapiro-Wilk Test Statistic:\", statistic)\n",
        "print(\"p-value:\", p_value)\n",
        "\n",
        "# Define the CTT (critical test threshold, aka., alpha)\n",
        "alpha = 0.05\n",
        "\n",
        "# Interpret the result(결과를 해석하라rint(\"Shapiro-Wilk Test Statistic:\", statistic)\n",
        "print(\"p-value:\", p_value)\n",
        "\n",
        "# Define the CTT (critical test threshold, aka., alpha)\n",
        "alpha = 0.05\n",
        "\n",
        "# Interpret the result(결과를 해석하라)\n",
        "if p_value > alpha:\n",
        "    print(\"Sample looks Gaussian (fail to reject H0)\")  #표본이 정규분포를 따른다고 볼 수 있습니다 (귀무가설을 기각할 수 없음)\n",
        "else:\n",
        "    print(\"Sample does not look Gaussian (reject H0)\")    #표본이 정규분포를 따르지 않는 것으로 보입니다 (귀무가설을 기각함)"
      ]
    },
    {
      "cell_type": "markdown",
      "source": [
        "# <font color = 'green'> **1️⃣-2️⃣  Small Sample Size with non-Gaussian distribution (N < 50)**"
      ],
      "metadata": {
        "id": "UkFMUyaacPeM"
      }
    },
    {
      "cell_type": "markdown",
      "source": [
        "가우시안을 만족하지 않음."
      ],
      "metadata": {
        "id": "bqdlxrbwQYPr"
      }
    },
    {
      "cell_type": "code",
      "source": [
        "import numpy as np\n",
        "import pandas as pd\n",
        "from scipy.stats import shapiro\n",
        "\n",
        "\n",
        "# Generate data from an exponential distribution\n",
        "data_non_gaussian = np.random.exponential(scale=1, size=40) #generates 50 data points from an exponential distribution with a mean of 3.\n",
        "\n",
        "\n",
        "# Perform Shapiro-Wilk test for normality\n",
        "statistic, p_value = shapiro(data_non_gaussian)\n",
        "print(data_non_gaussian)\n",
        "print('\\n')\n",
        "\n",
        "\n",
        "# Convert the data to a pandas DataFrame\n",
        "df2 = pd.DataFrame(data_non_gaussian, columns=['Values'])\n",
        "# Display the full set of data points\n",
        "print(\"Full set of data points for Non-Gaussian data:\")\n",
        "print(df2)\n",
        "print('\\n')\n",
        "\n",
        "# Save the DataFrame to a CSV file\n",
        "df2.to_csv('non_gaussian_data.csv', index=True)\n",
        "\n",
        "# Perform Shapiro-Wilk test for normality\n",
        "statistic, p_value = shapiro(data_non_gaussian)\n",
        "\n",
        "# Print the test statistic and p-value\n",
        "print(\"Shapiro-Wilk Test Statistic:\", statistic)\n",
        "print(\"p-value:\", p_value)\n",
        "\n",
        "# Define the CTT (critical test threshold, aka., alpha)\n",
        "alpha = 0.05\n",
        "\n",
        "# Interpret the result\n",
        "if p_value > alpha:\n",
        "    print(\"Sample looks Gaussian (fail to reject H0)\")\n",
        "else:\n",
        "    print(\"Sample does not look Gaussian (reject H0)\")"
      ],
      "metadata": {
        "id": "z512G3m37zmx",
        "outputId": "30b0c5df-0c61-4107-db45-edb877ba7af4",
        "colab": {
          "base_uri": "https://localhost:8080/"
        }
      },
      "execution_count": null,
      "outputs": [
        {
          "output_type": "stream",
          "name": "stdout",
          "text": [
            "[1.01462719 0.80824403 0.79236507 0.06854488 0.74598761 0.3405508\n",
            " 0.14455138 1.18392199 0.84308696 0.82005774 1.31963168 1.07476965\n",
            " 1.26168416 0.9071701  0.35575658 0.02816001 1.86777697 0.40723053\n",
            " 0.13759505 0.28669021 0.21793213 3.3096098  0.07813233 1.20989971\n",
            " 0.82010008 1.22090647 1.40994144 0.87276439 1.07179098 1.97233417\n",
            " 0.25669033 0.96351445 0.52730538 0.53039795 0.30956011 1.82525885\n",
            " 0.68558226 4.11284049 0.38884967 0.40768652]\n",
            "\n",
            "\n",
            "Full set of data points for Non-Gaussian data:\n",
            "      Values\n",
            "0   1.014627\n",
            "1   0.808244\n",
            "2   0.792365\n",
            "3   0.068545\n",
            "4   0.745988\n",
            "5   0.340551\n",
            "6   0.144551\n",
            "7   1.183922\n",
            "8   0.843087\n",
            "9   0.820058\n",
            "10  1.319632\n",
            "11  1.074770\n",
            "12  1.261684\n",
            "13  0.907170\n",
            "14  0.355757\n",
            "15  0.028160\n",
            "16  1.867777\n",
            "17  0.407231\n",
            "18  0.137595\n",
            "19  0.286690\n",
            "20  0.217932\n",
            "21  3.309610\n",
            "22  0.078132\n",
            "23  1.209900\n",
            "24  0.820100\n",
            "25  1.220906\n",
            "26  1.409941\n",
            "27  0.872764\n",
            "28  1.071791\n",
            "29  1.972334\n",
            "30  0.256690\n",
            "31  0.963514\n",
            "32  0.527305\n",
            "33  0.530398\n",
            "34  0.309560\n",
            "35  1.825259\n",
            "36  0.685582\n",
            "37  4.112840\n",
            "38  0.388850\n",
            "39  0.407687\n",
            "\n",
            "\n",
            "Shapiro-Wilk Test Statistic: 0.799122196961107\n",
            "p-value: 6.4949947851358e-06\n",
            "Sample does not look Gaussian (reject H0)\n"
          ]
        }
      ]
    },
    {
      "cell_type": "markdown",
      "source": [
        "**e-0X in standard decimal notation is to move the decimal point X places to the left:**\n",
        "\n",
        "- **e.g., 6.4949947851358e-06 ➡️ 0.00000649**"
      ],
      "metadata": {
        "id": "sQ4W24gidVTZ"
      }
    },
    {
      "cell_type": "markdown",
      "source": [
        "# <font color = 'green'> **2️⃣ Big Sample Size (N > 50)**\n",
        "    Be aware that the following script generates different results for everyone running it!"
      ],
      "metadata": {
        "id": "K3wroDBt2Bhz"
      }
    },
    {
      "cell_type": "markdown",
      "source": [
        "# <font color = 'orange'> **2️⃣-1️⃣  Big Sample Size with Gaussian distribution (N > 50)**"
      ],
      "metadata": {
        "id": "vh2b-3sd0er1"
      }
    },
    {
      "cell_type": "code",
      "source": [
        "import numpy as np # numeric calculation\n",
        "import pandas as pd # data analysis      ,데이터 프레임 형식의\n",
        "import seaborn as sns        #데이터 갖고 옴\n",
        "from scipy.stats import kstest, norm # stats\n",
        "\n",
        "data_big_gaussian = np.random.normal(loc=1, scale=1, size=100)   #노멀 디스트리뷰션을 자동으로 생성하는 데이터를 가지고옴.\n",
        "print(data_big_gaussian)\n",
        "print('\\n')\n",
        "\n",
        "# Convert the data to a pandas DataFrame\n",
        "df3 = pd.DataFrame(data_big_gaussian, columns=['Values'])\n",
        "print(df3)\n",
        "print('\\n')\n",
        "\n",
        "# Save the DataFrame to a CSV file\n",
        "df3.to_csv('GeneratedGaussianBigSampleData.csv', index=True)\n",
        "\n",
        "# 💊 Perform Kolmogorov-Smirnov test for normality ⤵️   # 이제 kstest를 할것임\n",
        "statistic, p_value = kstest(df3['Values'], 'norm', args=(df3['Values'].mean(), df3['Values'].std()))         # kstest\n",
        "print(\"Kolmogorov-Smirnov Test Statistic:\", statistic)\n",
        "print(\"p-value:\", p_value)"
      ],
      "metadata": {
        "colab": {
          "base_uri": "https://localhost:8080/"
        },
        "id": "lq7uRsH3QRfK",
        "outputId": "273a8882-9cc1-45c8-c1cc-f64544981309"
      },
      "execution_count": null,
      "outputs": [
        {
          "output_type": "stream",
          "name": "stdout",
          "text": [
            "[ 0.05282061  2.43768152  2.33572214  1.01899432 -0.34720173  1.52186434\n",
            "  1.47101842  1.55480027  1.04243444  1.38471284  0.90413286  1.07710269\n",
            "  1.44300888  0.33395542  2.21536356  1.66281502  2.09732086 -0.43565673\n",
            "  0.22234036  2.98613549  1.16559274  1.90550739 -0.59684932  2.64218025\n",
            "  0.26093653  1.42083653  2.90996835  1.13846515  2.16347038  0.802002\n",
            "  1.79865834 -0.05120972  0.03757708 -0.43072452  1.44110726  1.30769855\n",
            " -0.01870132  0.33772694 -0.50297687  2.96264798  0.13669841  2.14481952\n",
            " -0.10496011 -0.42842829  0.86559924 -0.17318843  0.67036822  3.32566899\n",
            "  1.9645502   0.01330507  0.72018595  0.34404809  0.31669361  0.25560564\n",
            "  1.26939773 -0.475706    1.70345109  2.18195584  0.22155351  0.89173958\n",
            "  0.39389756  2.12560488  1.5690555   1.75837963 -0.81195665  1.9296168\n",
            " -0.40461001  0.85264906  0.84249955  1.3029479   0.42979544 -1.39706047\n",
            "  0.0828788   0.12129803  1.5668786  -0.29573992  0.28819376  0.7609806\n",
            "  1.32301258  1.0069578   0.8928191   0.86294071  0.69396483  0.54888358\n",
            " -0.49650854  1.47903     1.68687756  1.13672123  1.48781865  1.80874811\n",
            "  1.40900638  0.45965009  2.23485847  3.30060435  1.09357446  0.95505978\n",
            "  0.92663605  2.38170207  0.97500182  1.25734366]\n",
            "\n",
            "\n",
            "      Values\n",
            "0   0.052821\n",
            "1   2.437682\n",
            "2   2.335722\n",
            "3   1.018994\n",
            "4  -0.347202\n",
            "..       ...\n",
            "95  0.955060\n",
            "96  0.926636\n",
            "97  2.381702\n",
            "98  0.975002\n",
            "99  1.257344\n",
            "\n",
            "[100 rows x 1 columns]\n",
            "\n",
            "\n",
            "Kolmogorov-Smirnov Test Statistic: 0.05820050203065347\n",
            "p-value: 0.8674048414552777\n"
          ]
        }
      ]
    },
    {
      "cell_type": "code",
      "source": [
        "import numpy as np # numeric calculation\n",
        "import pandas as pd # data analysis      ,데이터 프레임 형식의\n",
        "import seaborn as sns        #데이터 갖고 옴\n",
        "from scipy.stats import kstest, norm # stats\n",
        "\n",
        "\n",
        "# Generate a random dataset (replace this with your own data)\n",
        "# loc=1, scale=0.5, size=100 (creating an array of 100 numbers drawn from a normal distribution with a mean (loc) of 1 and a standard deviation (scale) of 1.\n",
        "data_big_gaussian = np.random.normal(loc=1, scale=1, size=100)\n",
        "print(data_big_gaussian)\n",
        "print('\\n')\n",
        "\n",
        "# Convert the data to a pandas DataFrame\n",
        "df3 = pd.DataFrame(data_big_gaussian, columns=['Values'])\n",
        "print(df3)\n",
        "print('\\n')\n",
        "\n",
        "# Save the DataFrame to a CSV file\n",
        "df3.to_csv('GeneratedGaussianBigSampleData.csv', index=True)\n",
        "\n",
        "# 💊 Perform Kolmogorov-Smirnov test for normality ⤵️\n",
        "statistic, p_value = kstest(df3['Values'], 'norm', args=(df3['Values'].mean(), df3['Values'].std()))\n",
        "\n",
        "# Print the test statistic and p-value\n",
        "print(\"Kolmogorov-Smirnov Test Statistic:\", statistic)\n",
        "print(\"p-value:\", p_value)\n",
        "\n",
        "# Define the CTT (critical test threshold, aka., alpha)     #여기부터는 해석을 코드로 작성해놓음.\n",
        "alpha = 0.05\n",
        "\n",
        "# Interpret the result\n",
        "if p_value > alpha:             #0.05보다 크다 (p > 0.05)\n",
        "    print(\"Sample looks Gaussian (fail to reject H0)\")  #\n",
        "else:\n",
        "    print(\"Sample does not look Gaussian (reject H0)\")"
      ],
      "metadata": {
        "colab": {
          "base_uri": "https://localhost:8080/"
        },
        "id": "kB6j1egtTRx0",
        "outputId": "0decb2a5-5b90-414c-aad8-af78d7f1b507"
      },
      "execution_count": null,
      "outputs": [
        {
          "output_type": "stream",
          "name": "stdout",
          "text": [
            "[ 0.62060113 -0.16899785  0.60915606  0.62549302  1.06981911  1.80787511\n",
            "  0.47156662  2.78606705  0.70150665  0.19194772  0.90656677  2.30316099\n",
            "  0.47346225  1.50055081 -0.49610864  1.50640445  2.63900842 -0.52168881\n",
            "  1.97377913  0.70491811  1.48033678 -1.05512292 -0.07017704 -0.23876893\n",
            " -0.19373504  1.13917534  1.013772    3.95680266  1.16981921 -1.02568029\n",
            "  0.87852268  0.56651883  1.38750989  1.401217    0.5158844   0.30195761\n",
            "  0.27114167  2.66738744  2.25715619 -0.48525575 -0.41094389  1.38566642\n",
            "  1.33266358  2.28094316  0.55509414  2.02296076  0.01015504  2.08245625\n",
            "  0.37572821  0.15793684 -0.12676633  1.23461383  2.11843113  1.92034921\n",
            "  2.62030398  0.48933168  2.46042421  0.77211538 -0.72560754  0.26415455\n",
            "  1.66000968  1.42858261  0.2923106  -1.02212684  0.46303092  0.76568628\n",
            "  0.23128883  1.15985237  1.50172857  0.29238767  1.33947105 -0.0857807\n",
            "  1.58165548 -0.03034088  0.74598668  2.13218432  1.96521214  0.07446809\n",
            " -0.1356182   1.72188122  1.85216088 -0.08235118  0.91007671  2.45764404\n",
            "  1.03603221  1.43500634 -0.01464606  0.05574391  1.53105442  1.28294481\n",
            "  1.89317087  2.51282044  0.62991377  0.80992682  1.67340246  0.30669292\n",
            "  1.35618461  1.3188664   1.2001377   2.62027116]\n",
            "\n",
            "\n",
            "      Values\n",
            "0   0.620601\n",
            "1  -0.168998\n",
            "2   0.609156\n",
            "3   0.625493\n",
            "4   1.069819\n",
            "..       ...\n",
            "95  0.306693\n",
            "96  1.356185\n",
            "97  1.318866\n",
            "98  1.200138\n",
            "99  2.620271\n",
            "\n",
            "[100 rows x 1 columns]\n",
            "\n",
            "\n",
            "Kolmogorov-Smirnov Test Statistic: 0.056549740195022735\n",
            "p-value: 0.8882943481310215\n",
            "Sample looks Gaussian (fail to reject H0)\n"
          ]
        }
      ]
    },
    {
      "cell_type": "markdown",
      "source": [
        "대체과제"
      ],
      "metadata": {
        "id": "iwMCewc7TRcR"
      }
    },
    {
      "cell_type": "markdown",
      "source": [
        "💊 **statistic, p_value = kstest(df3['Values'], 'norm', args=(df3['Values'].mean(), df3['Values'].std()))**\n",
        "\n",
        "<font color = 'red'> **Arguments:**\n",
        "\n",
        "- <font color = 'red'> **df3['Values']**</font>: This is the data we want to test for normality. It is passed as the first argument to kstest().\n",
        "- <font color = 'red'> **'norm'**</font>: This specifies that we want to test the data against a normal distribution.\n",
        "- <font color = 'red'> **args=(df3['Values'].mean(), df3['Values'].std())**</font>: This argument allows us to pass additional parameters to the distribution function being tested against.\n",
        "    - Here, we're passing the mean (df3['Values'].mean()) and standard deviation (df3['Values'].std()) of the data as parameters to the normal distribution. This ensures that the K-S test is performed with the mean and standard deviation of our data as parameters for the normal distribution.\n",
        "\n",
        "**Output:**\n",
        "\n",
        "<font color = 'green'> The **kstest()** function returns two values: the _K-S test statistic (statistic)_ and the _p-value (p_value)_. These values are assigned to the variables statistic and p_value, respectively."
      ],
      "metadata": {
        "id": "iCZ-VFcBwkPR"
      }
    },
    {
      "cell_type": "markdown",
      "source": [
        "#df3['Values']:이것은 우리가 정규성을 검정하고자 하는 데이터입니다. 이 데이터는 kstest() 함수의 첫 번째 인자로 전달됩니다."
      ],
      "metadata": {
        "id": "TAOkmM5Vd1Gq"
      }
    },
    {
      "cell_type": "markdown",
      "source": [
        "# norm :이는 우리가 해당 데이터를 정규분포에 대해 검정하고자 함을 나타냅니다."
      ],
      "metadata": {
        "id": "1wfNJlsNduVM"
      }
    },
    {
      "cell_type": "markdown",
      "source": [
        "# args=(df3['Values'].mean(), df3['Values'].std()):이 인자는 우리가 검정 대상이 되는 분포 함수에 추가적인 매개변수를 전달할 수 있도록 해줍니다."
      ],
      "metadata": {
        "id": "Lk3T0OtTeJ9N"
      }
    },
    {
      "cell_type": "markdown",
      "source": [
        "#여기에서는 데이터의 평균(df3['Values'].mean())과 표준편차(df3['Values'].std())를 정규분포의 매개변수로 전달하고 있습니다. 이는 K-S 검정이 우리 데이터의 평균과 표준편차를 기준으로 한 정규분포를 사용하여 수행되도록 보장합니다."
      ],
      "metadata": {
        "id": "ygP5ArYLeZkW"
      }
    },
    {
      "cell_type": "markdown",
      "source": [
        "매개변수란 함수나 모델이 동작할 때 필요한 값들을 의미합니다.\n",
        "이 값들은 함수나 분포의 형태나 결과를 결정짓는 중요한 요소입니다.\n",
        "\n"
      ],
      "metadata": {
        "id": "S3zyiHTbezbK"
      }
    },
    {
      "cell_type": "markdown",
      "source": [
        "# <font color = 'orange'> **2️⃣-2️⃣ Big Sample Size with Non-Gaussian distribution (N > 50)**"
      ],
      "metadata": {
        "id": "aXb0N6620qEc"
      }
    },
    {
      "cell_type": "code",
      "source": [
        "import numpy as np # numeric calculation\n",
        "import pandas as pd # data analysis\n",
        "import seaborn as sns\n",
        "from scipy.stats import kstest, norm # stats\n",
        "\n",
        "data_big_non_gaussian = np.random.exponential(scale=1, size=100)   #exponential:기하급수\n",
        "print(data_big_non_gaussian)\n",
        "print('\\n')\n",
        "\n",
        "df4 = pd.DataFrame(data_big_non_gaussian, columns=['Values'])\n",
        "print(df4)\n",
        "print('\\n')\n",
        "\n",
        "df4.to_csv('GeneratedNonGaussianBigSampleData.csv', index=True)\n",
        "\n",
        "statistic, p_value = kstest(df4['Values'], 'norm', args=(df4['Values'].mean(), df3['Values'].std()))\n",
        "\n",
        "print(\"Kolmogorov-Smirnov Test Statistic:\", statistic)   #kstest의 통계값\n",
        "print(\"p-value:\", p_value)\n",
        "\n",
        "alpha = 0.05\n",
        "\n",
        "#이게 없으면 값이 나올 때 마다 해석을 확인하고 다시 기술해줘야함.\n",
        "if p_value > alpha:\n",
        "    print(\"Sample looks Gaussian (fail to reject H0)\")\n",
        "else:\n",
        "    print(\"Sample does not look Gaussian (reject H0)\")   #내가 갖고 있는 데이터는 종 모양의 형태가 아니다. 즉, Gaussian 디스트리뷰션이 아니다.\n"
      ],
      "metadata": {
        "colab": {
          "base_uri": "https://localhost:8080/"
        },
        "id": "I0yFY_zqT_Fh",
        "outputId": "4fdf622c-48eb-4ec3-d613-5bc39b535380"
      },
      "execution_count": null,
      "outputs": [
        {
          "output_type": "stream",
          "name": "stdout",
          "text": [
            "[0.72761765 0.62470283 3.28679568 1.97896773 0.24904671 3.01951238\n",
            " 0.57599359 0.3453647  0.10464402 0.0811451  1.35373667 0.42456911\n",
            " 3.80566384 1.81675576 2.02202343 0.77063359 0.08052943 0.56557254\n",
            " 0.00984437 0.27613752 0.08094612 0.857595   0.02004479 0.04131451\n",
            " 0.30071646 1.28778066 0.7412945  0.34098254 0.05654042 1.77071947\n",
            " 3.60535317 2.2278212  0.24558301 0.59198164 0.40815002 1.1830441\n",
            " 0.63737607 1.45404953 0.48433513 3.10399463 2.72363664 0.71462883\n",
            " 0.95526048 0.50271111 2.7114021  1.1374063  0.10678393 0.84807156\n",
            " 0.01676801 1.13258637 0.60327633 0.27538387 0.51614126 0.17538\n",
            " 0.60706031 1.74876038 1.44927252 0.17531751 0.38438563 0.11212437\n",
            " 0.2267718  0.80424252 0.23167526 0.50057793 1.39271963 2.86959917\n",
            " 0.22360323 0.4488972  0.19055052 1.19132848 0.37680179 0.76842822\n",
            " 0.98448875 0.01012874 2.15770238 2.30238043 0.13392253 0.39000476\n",
            " 0.09111724 0.76550214 0.38588556 0.12019792 0.20986952 0.06579215\n",
            " 1.64831748 0.93289214 0.31702095 0.96876837 0.30666765 0.45303981\n",
            " 0.62796153 2.12600329 1.08330335 0.43364946 0.35096638 0.28246823\n",
            " 0.15891367 0.10278754 0.49641442 1.9579485 ]\n",
            "\n",
            "\n",
            "      Values\n",
            "0   0.727618\n",
            "1   0.624703\n",
            "2   3.286796\n",
            "3   1.978968\n",
            "4   0.249047\n",
            "..       ...\n",
            "95  0.282468\n",
            "96  0.158914\n",
            "97  0.102788\n",
            "98  0.496414\n",
            "99  1.957948\n",
            "\n",
            "[100 rows x 1 columns]\n",
            "\n",
            "\n",
            "Kolmogorov-Smirnov Test Statistic: 0.1889306387252414\n",
            "p-value: 0.00134068100717248\n",
            "Sample does not look Gaussian (reject H0)\n"
          ]
        }
      ]
    },
    {
      "cell_type": "code",
      "source": [
        "import numpy as np # numeric calculation\n",
        "import pandas as pd # data analysis\n",
        "import seaborn as sns\n",
        "from scipy.stats import kstest, norm # stats\n",
        "\n",
        "\n",
        "# Generate data from an exponential distribution\n",
        "data_big_non_gaussian = np.random.exponential(scale=1, size=100) #generates 100 data points from an exponential distribution with a mean of 1. exponential:한쪽으로 치우쳐져있는 그래프\n",
        "print(data_big_non_gaussian)\n",
        "print('\\n')\n",
        "\n",
        "# Convert the data to a pandas DataFrame\n",
        "df4 = pd.DataFrame(data_big_non_gaussian, columns=['Values'])\n",
        "print(df4)\n",
        "print('\\n')\n",
        "\n",
        "# Save the DataFrame to a CSV file\n",
        "df4.to_csv('GeneratedNonGaussianBigSampleData.csv', index=True)\n",
        "\n",
        "# 💊 Perform Kolmogorov-Smirnov test for normality ⤵️\n",
        "statistic, p_value = kstest(df4['Values'], 'norm', args=(df4['Values'].mean(), df3['Values'].std()))\n",
        "\n",
        "# Print the test statistic and p-value\n",
        "print(\"Kolmogorov-Smirnov Test Statistic:\", statistic)\n",
        "print(\"p-value:\", p_value)\n",
        "\n",
        "# Define the CTT (critical test threshold, aka., alpha)\n",
        "alpha = 0.05\n",
        "\n",
        "# Interpret the result\n",
        "if p_value > alpha:\n",
        "    print(\"Sample looks Gaussian (fail to reject H0)\")\n",
        "else:\n",
        "    print(\"Sample does not look Gaussian (reject H0)\")\n"
      ],
      "metadata": {
        "id": "5l_cALqUyqoX",
        "outputId": "199fda6f-51a8-48aa-abaf-7031aa2257c3",
        "colab": {
          "base_uri": "https://localhost:8080/"
        }
      },
      "execution_count": null,
      "outputs": [
        {
          "output_type": "stream",
          "name": "stdout",
          "text": [
            "[0.85953275 1.01265947 1.27819929 2.36048599 0.55474291 0.58862248\n",
            " 1.2035242  1.23646662 1.2637868  0.9552593  0.87304622 0.87323307\n",
            " 0.91403432 0.17631937 1.85365478 0.0974163  1.26178134 0.47355396\n",
            " 1.46390248 0.02737667 0.44580343 1.16307943 0.17876292 0.39913219\n",
            " 0.53631876 0.44589715 1.11210726 0.52229496 0.13169152 2.21830047\n",
            " 0.30119863 0.16527746 0.6957948  1.42273938 1.78057497 1.4166112\n",
            " 0.44112599 1.26683988 1.77012879 1.60679542 0.99736683 0.40482794\n",
            " 0.0610484  0.09097642 0.9250749  1.79271769 1.22370259 0.9562223\n",
            " 0.72436297 1.79845033 0.03378886 0.40803643 2.07073474 0.28631142\n",
            " 0.14335735 4.42523508 0.99193757 1.58213974 0.5475387  0.24845443\n",
            " 0.42477741 0.46164258 0.83832854 3.32393758 3.08198383 1.32908708\n",
            " 0.71710016 0.17870445 0.22264152 0.46350908 0.61006152 0.43974669\n",
            " 1.1234754  3.16172626 1.19798485 2.59549313 0.12788208 0.09592737\n",
            " 0.81378667 3.49780414 0.87843344 0.42885049 1.03429924 3.06261289\n",
            " 0.73465315 0.49877748 1.23187166 0.28289134 0.41340328 0.10539381\n",
            " 0.08800961 1.67531302 1.35016298 0.530945   0.86844511 0.64171745\n",
            " 0.68737621 1.7860265  0.3972884  0.29304598]\n",
            "\n",
            "\n",
            "      Values\n",
            "0   0.859533\n",
            "1   1.012659\n",
            "2   1.278199\n",
            "3   2.360486\n",
            "4   0.554743\n",
            "..       ...\n",
            "95  0.641717\n",
            "96  0.687376\n",
            "97  1.786027\n",
            "98  0.397288\n",
            "99  0.293046\n",
            "\n",
            "[100 rows x 1 columns]\n",
            "\n",
            "\n",
            "Kolmogorov-Smirnov Test Statistic: 0.1643923307063957\n",
            "p-value: 0.007883665392180725\n",
            "Sample does not look Gaussian (reject H0)\n"
          ]
        }
      ]
    },
    {
      "cell_type": "markdown",
      "source": [
        "## 💿 💿 3️⃣-1️⃣ When you use your csv. file (e.g., downloading from url or on your machine...)\n",
        "    Be aware that the following script generates the same result for everyone running it!"
      ],
      "metadata": {
        "id": "reXYftIwIjC0"
      }
    },
    {
      "cell_type": "code",
      "source": [
        "import urllib.request\n",
        "\n",
        "#🍎 URL of the CSV file\n",
        "url = 'https://raw.githubusercontent.com/ms624atyale/Data_NLP2024/main/GeneratedGaussianBigSampleData.csv'\n",
        "response = urllib.request.urlopen(url)\n",
        "content = response.read().decode('utf-8')\n",
        "print(content)\n",
        "\n",
        "# Read the CSV data from the URL into a pandas DataFrame\n",
        "df = pd.read_csv(url)\n",
        "\n",
        "# Specify the column name\n",
        "df_final = pd.DataFrame(df, columns=['Values'])            # 판다스에서 데이터 프레임화 시키는 법\n",
        "print(df_final)\n",
        "print('\\n')\n",
        "\n",
        "# Save the DataFrame to a CSV file with index numbers\n",
        "df_final.to_csv('GeneratedGaussianBigSampleData.csv', index=True)   #csv로 저장\n",
        "\n",
        "\n",
        "#🍎 URL of the CSV file\n",
        "url2 = 'https://raw.githubusercontent.com/ms624atyale/Data_NLP2024/main/GeneratedNonGaussianBigSampleData.csv'\n",
        "response2 = urllib.request.urlopen(url2)\n",
        "content2 = response2.read().decode('utf-8')\n",
        "print(content2)\n",
        "\n",
        "# Read the CSV data from the URL into a pandas DataFrame\n",
        "df2 = pd.read_csv(url2)\n",
        "\n",
        "# Specify the column name\n",
        "df2_final = pd.DataFrame(df2, columns=['Values'])\n",
        "print(df2_final)\n",
        "print('\\n')\n",
        "\n",
        "# Save the DataFrame to a CSV file with index numbers\n",
        "df2_final.to_csv('GeneratedNonGaussianBigSampleData.csv', index=True)"
      ],
      "metadata": {
        "id": "wPHxUzL21lQr",
        "outputId": "ec2ca6cd-0d5a-440e-fe2d-7fd6680dbec7",
        "colab": {
          "base_uri": "https://localhost:8080/"
        }
      },
      "execution_count": null,
      "outputs": [
        {
          "output_type": "stream",
          "name": "stdout",
          "text": [
            ",Values\n",
            "0,-0.3893019853247639\n",
            "1,1.826294124221361\n",
            "2,0.9764983106706722\n",
            "3,1.3207400509639244\n",
            "4,0.5466762954832244\n",
            "5,0.9644575186326361\n",
            "6,-0.4483219999240613\n",
            "7,1.2083703133773933\n",
            "8,0.8894323669115846\n",
            "9,0.12890820679317283\n",
            "10,-0.31767822174222604\n",
            "11,2.466791842791489\n",
            "12,0.9074786383682953\n",
            "13,-0.33001750421992715\n",
            "14,1.3409707813695975\n",
            "15,0.16481990599443264\n",
            "16,1.89496537948119\n",
            "17,0.30128476174907104\n",
            "18,0.7965825566157225\n",
            "19,2.976880987395285\n",
            "20,1.97433778701594\n",
            "21,1.0283020634732585\n",
            "22,3.2435112532667567\n",
            "23,-0.02326262393623768\n",
            "24,0.10989361989798607\n",
            "25,1.6515065297471363\n",
            "26,-1.2270846879300308\n",
            "27,0.7910330927681215\n",
            "28,0.4106595770571808\n",
            "29,0.7081703591397273\n",
            "30,0.34142116291210567\n",
            "31,0.8892932440724862\n",
            "32,-2.106996287691787\n",
            "33,0.7022301439146518\n",
            "34,2.7504425806440054\n",
            "35,0.49541967367931317\n",
            "36,1.6806387302727406\n",
            "37,2.7763176277505908\n",
            "38,0.4235075577002062\n",
            "39,0.911691243239547\n",
            "40,0.09359665891737723\n",
            "41,-0.7814132460038632\n",
            "42,-0.3920799757656994\n",
            "43,2.019729113770459\n",
            "44,-0.09363975639257194\n",
            "45,0.6259193075478388\n",
            "46,1.0543580290786605\n",
            "47,0.8980353789249669\n",
            "48,2.6593030222452683\n",
            "49,3.2060285076561432\n",
            "50,0.5602273077543851\n",
            "51,0.777107690181003\n",
            "52,0.6810008313417728\n",
            "53,1.8923012834270105\n",
            "54,1.2260485692565022\n",
            "55,1.0749295550653142\n",
            "56,0.1297638363637975\n",
            "57,1.965611644981486\n",
            "58,2.773478532558477\n",
            "59,1.4487001703228195\n",
            "60,-0.9534714349849955\n",
            "61,0.31472825379247926\n",
            "62,1.9831530171519725\n",
            "63,1.1218235341321765\n",
            "64,1.7470646233141303\n",
            "65,1.7639791710440318\n",
            "66,-0.08975606545530557\n",
            "67,0.6894053612464286\n",
            "68,2.83971606718943\n",
            "69,1.1559051517116279\n",
            "70,1.1709152775857692\n",
            "71,-0.039840767941963895\n",
            "72,1.1099456418598872\n",
            "73,0.12177196230361176\n",
            "74,-0.16225591897082126\n",
            "75,2.2670203114303913\n",
            "76,0.3210706574324478\n",
            "77,1.0775097608731712\n",
            "78,1.2712196931794448\n",
            "79,0.10948094263647201\n",
            "80,1.3571246563953898\n",
            "81,-0.9768912768640365\n",
            "82,1.5861202393784035\n",
            "83,1.4284937665421398\n",
            "84,0.7443387391335902\n",
            "85,-0.27792720934706017\n",
            "86,-0.3771769543554895\n",
            "87,1.3463300899351065\n",
            "88,1.3079622138262077\n",
            "89,-0.5982654740145164\n",
            "90,-0.4515902284947362\n",
            "91,2.0490257233571967\n",
            "92,2.0678683562595537\n",
            "93,2.5819473553142593\n",
            "94,-0.001554169380313164\n",
            "95,1.3200730469653013\n",
            "96,-0.9003854698142157\n",
            "97,1.7358612239374531\n",
            "98,1.9802176477128541\n",
            "99,-0.48910662140812633\n",
            "\n",
            "      Values\n",
            "0  -0.389302\n",
            "1   1.826294\n",
            "2   0.976498\n",
            "3   1.320740\n",
            "4   0.546676\n",
            "..       ...\n",
            "95  1.320073\n",
            "96 -0.900385\n",
            "97  1.735861\n",
            "98  1.980218\n",
            "99 -0.489107\n",
            "\n",
            "[100 rows x 1 columns]\n",
            "\n",
            "\n",
            ",Values\n",
            "0,0.8046249101789011\n",
            "1,0.7682633952778323\n",
            "2,2.29079474852387\n",
            "3,2.43049129356199\n",
            "4,0.22989047327431966\n",
            "5,1.2695775219688306\n",
            "6,1.5502049192934948\n",
            "7,0.6787202219323324\n",
            "8,0.22117171942820463\n",
            "9,2.9517509864784737\n",
            "10,0.12052944227476772\n",
            "11,1.064955819442374\n",
            "12,0.30848186348640205\n",
            "13,0.06518881425631175\n",
            "14,0.18957383843154857\n",
            "15,1.9881311940832913\n",
            "16,0.027475817727749964\n",
            "17,0.668198401809793\n",
            "18,1.643372192477434\n",
            "19,0.6661320348586599\n",
            "20,0.4858621499396462\n",
            "21,1.497146846535357\n",
            "22,0.3397411725832874\n",
            "23,1.3136729958663007\n",
            "24,0.015315767203609141\n",
            "25,1.050296600560083\n",
            "26,0.07351300447309597\n",
            "27,0.18903031133842235\n",
            "28,1.8528409942704889\n",
            "29,0.8045627817552868\n",
            "30,1.1385038247356605\n",
            "31,0.7504151240901326\n",
            "32,2.843288301004686\n",
            "33,0.43152688554688545\n",
            "34,2.1104081028531496\n",
            "35,1.296439563374763\n",
            "36,0.20905245998725341\n",
            "37,0.14050027016518182\n",
            "38,0.09064639394496869\n",
            "39,3.2505938541435437\n",
            "40,1.0146369290543638\n",
            "41,0.37740653545723485\n",
            "42,0.6658700571994811\n",
            "43,0.17384330553636212\n",
            "44,0.08471930073362877\n",
            "45,0.6996237390820352\n",
            "46,0.5031787303407206\n",
            "47,0.056950899968815596\n",
            "48,0.746172369893011\n",
            "49,2.270674455937503\n",
            "50,1.5220228395388342\n",
            "51,0.7409241785656789\n",
            "52,1.392641044033556\n",
            "53,0.6133897428364232\n",
            "54,1.8222528841159946\n",
            "55,0.7028728207234378\n",
            "56,0.583173043687956\n",
            "57,0.741183279437999\n",
            "58,0.874039957266335\n",
            "59,0.6086829433739334\n",
            "60,2.2561442457145766\n",
            "61,0.3486121366360994\n",
            "62,0.16278232521963543\n",
            "63,1.5622889131749889\n",
            "64,1.6813498213224776\n",
            "65,0.43074391889200886\n",
            "66,1.2299039598189296\n",
            "67,0.918776495245721\n",
            "68,1.9135035998546084\n",
            "69,0.3038096382794121\n",
            "70,0.6077458951181605\n",
            "71,0.16669640845069214\n",
            "72,0.04360223185182008\n",
            "73,0.9152974382586234\n",
            "74,0.8849766575036361\n",
            "75,0.41009681507559825\n",
            "76,0.0726671925679987\n",
            "77,0.6161972422991362\n",
            "78,0.36970606739497053\n",
            "79,0.6045644094909686\n",
            "80,0.18877393449612728\n",
            "81,1.8921145295290784\n",
            "82,0.9676021807850521\n",
            "83,0.17156003991507154\n",
            "84,0.055925456769043834\n",
            "85,1.402531334660634\n",
            "86,0.7657016904045993\n",
            "87,0.6059239447500606\n",
            "88,1.186902878676455\n",
            "89,0.7019008280669858\n",
            "90,0.6331591785822229\n",
            "91,0.4775404350251007\n",
            "92,2.48455469337317\n",
            "93,1.9651302735080403\n",
            "94,1.540384674007286\n",
            "95,2.597039146069859\n",
            "96,1.0474283384986214\n",
            "97,0.6350619890107608\n",
            "98,2.0106801389565137\n",
            "99,0.7457131414776356\n",
            "\n",
            "      Values\n",
            "0   0.804625\n",
            "1   0.768263\n",
            "2   2.290795\n",
            "3   2.430491\n",
            "4   0.229890\n",
            "..       ...\n",
            "95  2.597039\n",
            "96  1.047428\n",
            "97  0.635062\n",
            "98  2.010680\n",
            "99  0.745713\n",
            "\n",
            "[100 rows x 1 columns]\n",
            "\n",
            "\n"
          ]
        }
      ]
    },
    {
      "cell_type": "markdown",
      "source": [
        "#📊 **Gaussian Distribution Graph** using an uploaded file"
      ],
      "metadata": {
        "id": "1P-LDKW6YTpX"
      }
    },
    {
      "cell_type": "code",
      "source": [
        "import numpy as np\n",
        "import pandas as pd\n",
        "import matplotlib.pyplot as plt    # 그래프를 만들 때 사용\n",
        "from scipy.stats import kstest, norm\n",
        "\n",
        "# Load the data from the CSV file\n",
        "data5_gaussian = pd.read_csv('/content/GeneratedGaussianBigSampleData.csv')\n",
        "df5 = data5_gaussian['Values']  # Extract the column containing the data\n",
        "\n",
        "# Perform Kolmogorov-Smirnov test for normality\n",
        "statistic, p_value = kstest(df5, 'norm')\n",
        "\n",
        "# 💊 The following codeline for Kolmogorov-Smirnov test for normality does not work... ⤵️\n",
        "#statistic, p_value = kstest(df5['Values'], 'norm', args=(df5['Values'].mean(), df5['Values'].std()))\n",
        "\n",
        "# Print the test statistic and p-value\n",
        "print(\"Kolmogorov-Smirnov Test Statistic:\", statistic)\n",
        "print(\"p-value:\", p_value)\n",
        "\n",
        "# Define the CTT (critical test threshold, aka., alpha)\n",
        "alpha = 0.05\n",
        "\n",
        "# Interpret the result\n",
        "if p_value > alpha:       #95% 안에 들어감. 귀무가설 채택\n",
        "    print(\"Sample looks Gaussian (fail to reject H0)\")\n",
        "else:\n",
        "    print(\"Sample does not look Gaussian (reject H0)\")\n",
        "\n",
        "# Plot histogram of the data\n",
        "plt.figure(figsize=(10, 6))\n",
        "sns.histplot(df5, kde=True, color='yellow', stat='density')  #density :밀도(빈도수가 높으면 밀도가 높아짐.)\n",
        "\n",
        "# Plot normal distribution curve\n",
        "mu, sigma = np.mean(df5), np.std(df5)        # mean 과 standard error of mean 을 나타냄.\n",
        "x = np.linspace(mu - 3*sigma, mu + 3*sigma, 100)\n",
        "plt.plot(x, norm.pdf(x, mu, sigma), 'r-', label='Normal Distribution')\n",
        "\n",
        "plt.xlabel('Data')\n",
        "plt.ylabel('Density')\n",
        "plt.title('Histogram of Data with Normal Distribution')\n",
        "plt.legend()\n",
        "plt.show() # 그래프 확인"
      ],
      "metadata": {
        "colab": {
          "base_uri": "https://localhost:8080/",
          "height": 619
        },
        "id": "Z9qyDf725sgH",
        "outputId": "c0039613-9fae-4a6a-9a82-306bc234cf33"
      },
      "execution_count": null,
      "outputs": [
        {
          "output_type": "stream",
          "name": "stdout",
          "text": [
            "Kolmogorov-Smirnov Test Statistic: 0.4002458040581742\n",
            "p-value: 5.6993121793535146e-15\n",
            "Sample does not look Gaussian (reject H0)\n"
          ]
        },
        {
          "output_type": "display_data",
          "data": {
            "text/plain": [
              "<Figure size 1000x600 with 1 Axes>"
            ],
            "image/png": "[encoded data removed]"
          },
          "metadata": {}
        }
      ]
    },
    {
      "cell_type": "markdown",
      "source": [
        "## 💿 💿 3️⃣-2️⃣ When you use your csv. file...\n",
        "    Be aware that the following script generates the same result for everyone running it!"
      ],
      "metadata": {
        "id": "Vi2ohS-YZTMm"
      }
    },
    {
      "cell_type": "markdown",
      "source": [
        "#📊 **Non-Gaussian Distribution Graph** using an uploaded file"
      ],
      "metadata": {
        "id": "1imQ_aEFY2Pe"
      }
    },
    {
      "cell_type": "code",
      "source": [
        "import numpy as np\n",
        "import pandas as pd\n",
        "from scipy.stats import shapiro\n",
        "\n",
        "import matplotlib.pyplot as plt\n",
        "from scipy.stats import kstest, norm, expon\n",
        "import seaborn as sns\n",
        "\n",
        "data6_non_gaussian"
      ],
      "metadata": {
        "id": "7STcVJbRYdEC"
      },
      "execution_count": null,
      "outputs": []
    },
    {
      "cell_type": "code",
      "source": [
        "import numpy as np\n",
        "import pandas as pd\n",
        "from scipy.stats import shapiro\n",
        "\n",
        "import matplotlib.pyplot as plt\n",
        "from scipy.stats import kstest, norm, expon\n",
        "import seaborn as sns\n",
        "\n",
        "# Load the data from the CSV file\n",
        "data6_non_gaussian = pd.read_csv('/content/GeneratedNonGaussianBigSampleData.csv')           #경로명만 다르면 됨\n",
        "df6 = data6_non_gaussian['Values']  # Extract the column containing the data\n",
        "\n",
        "# Convert the data to a pandas DataFrame\n",
        "df6 = pd.DataFrame(df6, columns=['Values'])\n",
        "\n",
        "# 💊 Perform Kolmogorov-Smirnov test for normality ⤵️\n",
        "statistic, p_value = kstest(df6['Values'], 'norm', args=(df6['Values'].mean(), df6['Values'].std()))\n",
        "\n",
        "# Print the test statistic and p-value\n",
        "print(\"Kolmogorov-Smirnov Test Statistic:\", statistic)\n",
        "print(\"p-value:\", p_value)\n",
        "\n",
        "# Define the CTT (critical test threshold, aka., alpha)\n",
        "alpha = 0.05\n",
        "\n",
        "# Interpret the result\n",
        "if p_value > alpha:\n",
        "    print(\"Sample looks Gaussian (fail to reject H0)\")\n",
        "else:\n",
        "    print(\"Sample does not look Gaussian (reject H0)\")\n",
        "\n",
        "# Display the full set of data points\n",
        "print(\"Full set of data points:\")\n",
        "print(df6)\n",
        "\n",
        "# Plot histogram of the data\n",
        "plt.figure(figsize=(10, 6))\n",
        "sns.histplot(df6, kde=True, color='skyblue', stat='density')\n",
        "\n",
        "# Plot exponential distribution curve (💊 Caution: Code lines for plotting Normal distribution curve is different!)\n",
        "scale = 1  # Exponential distribution scale parameter (mean) gives a standard exponential distribution with a mean of 1.\n",
        "# scale = 1 (Lambda = 1) is a common default because it simplifies the mathematics and is often used when the specific rate is not critical to the problem at hand.\n",
        "x = np.linspace(0, df6['Values'].max(), 100)\n",
        "plt.plot(x, expon.pdf(x, scale=scale), 'r-', label='Exponential Distribution')\n",
        "\n",
        "plt.xlabel('Data')\n",
        "plt.ylabel('Density')\n",
        "plt.title('Histogram of Data without Normal Distribution')     #expo\n",
        "plt.legend()\n",
        "plt.show()"
      ],
      "metadata": {
        "id": "0dnk1Z_lT2zZ",
        "outputId": "c8a17990-1cee-42c7-8760-9fc56c3dbe9d",
        "colab": {
          "base_uri": "https://localhost:8080/",
          "height": 894
        }
      },
      "execution_count": null,
      "outputs": [
        {
          "output_type": "stream",
          "name": "stdout",
          "text": [
            "Kolmogorov-Smirnov Test Statistic: 0.15828709378215222\n",
            "p-value: 0.011783742262732044\n",
            "Sample does not look Gaussian (reject H0)\n",
            "Full set of data points:\n",
            "      Values\n",
            "0   0.804625\n",
            "1   0.768263\n",
            "2   2.290795\n",
            "3   2.430491\n",
            "4   0.229890\n",
            "..       ...\n",
            "95  2.597039\n",
            "96  1.047428\n",
            "97  0.635062\n",
            "98  2.010680\n",
            "99  0.745713\n",
            "\n",
            "[100 rows x 1 columns]\n"
          ]
        },
        {
          "output_type": "display_data",
          "data": {
            "text/plain": [
              "<Figure size 1000x600 with 1 Axes>"
            ],
            "image/png": "[encoded data removed]"
          },
          "metadata": {}
        }
      ]
    },
    {
      "cell_type": "markdown",
      "source": [
        "데이터가 한 쪽으로 치우쳐져 있음."
      ],
      "metadata": {
        "id": "frOqgjc-YsG5"
      }
    },
    {
      "cell_type": "markdown",
      "source": [
        "## ➡️ T-test (with either SW test or KS test, p>0.05)\n",
        "## ➡️➡️ Wilcoxon Rank Sum text (with either SW test or KS test, p<0.05)"
      ],
      "metadata": {
        "id": "P3pOREs73Bnf"
      }
    }
  ]
}