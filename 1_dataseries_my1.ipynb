{
  "nbformat": 4,
  "nbformat_minor": 0,
  "metadata": {
    "colab": {
      "provenance": [],
      "include_colab_link": true
    },
    "kernelspec": {
      "name": "python3",
      "display_name": "Python 3"
    },
    "language_info": {
      "name": "python"
    }
  },
  "cells": [
    {
      "cell_type": "markdown",
      "metadata": {
        "id": "view-in-github",
        "colab_type": "text"
      },
      "source": [
        "<a href=\"https://colab.research.google.com/github/kmj122/stats_2025/blob/main/1_dataseries_my1.ipynb\" target=\"_parent\"><img src=\"https://colab.research.google.com/assets/colab-badge.svg\" alt=\"Open In Colab\"/></a>"
      ]
    },
    {
      "cell_type": "markdown",
      "source": [
        "#### **Before we get into conducting statistics, we will learn basic data analysis using Pandas library.**"
      ],
      "metadata": {
        "id": "FNCjhaewUzn2"
      }
    },
    {
      "cell_type": "markdown",
      "source": [
        "👀 🐾 <font color = 'red'> **Index, Series, Element(원소)**\n",
        "\n",
        "🍀 Using indexes effectively makes it easy to search, sort, select, and combine data.\n",
        "  \n",
        "    인덱스를 잘 활용하면 데이터값의 탐색, 정렬, 선택, 결합 등 데이터 조작을 쉽게 할 수 있다.\n",
        "\n",
        "\n",
        "|Index Name/label 인덱스이름(optional)| i0 | i1 | i2 | i3 | ... | in |\n",
        "|:|-|-|-|-|-|-|\n",
        "|Index Value 데이터값(원소) | V0 | V1 | V2 | V3 | ... | Vn |\n",
        "|Integer position 정수형위치인덱스(default)|0|1|2|3|...|n|\n",
        "\n",
        "<font color = 'blue'>👀 🐾 Exercise**\n",
        "\n",
        "|Index Name/label | a | b | c | d | e | f |\n",
        "|:|-|-|-|-|-|-|\n",
        "|Index Value | 10 | 20 | 30 | 40 | 50 | 60 |\n",
        "|Integer position|0|1|2|3|4|5|\n",
        "\n",
        "\n",
        "\n",
        "Series['c'] ➡️  30\n",
        "\n",
        "Series[\"c\"] ➡️  30\n",
        "\n",
        "Series[2] ➡️  30\n",
        "\n",
        "Series[['d'],['e']] ➡️  40, 50\n",
        "\n",
        "Series[[3,4]] ➡️  40, 50\n",
        "* 여러개의 인덱스를 리스트 형태로 입력할 때에는 대괄호 ([]) 안에 넣기\n",
        "\n",
        "Series['d':'e'] ➡️  40, 50\n",
        "\n",
        "Series[3:5] ➡️  40, 50"
      ],
      "metadata": {
        "id": "HhxjKRzMymn3"
      }
    },
    {
      "cell_type": "code",
      "source": [
        "!pip install pandas"
      ],
      "metadata": {
        "colab": {
          "base_uri": "https://localhost:8080/"
        },
        "id": "48Ql4e7kAIHO",
        "outputId": "df11f26e-923d-4741-ec38-ed3618c6c816"
      },
      "execution_count": null,
      "outputs": [
        {
          "output_type": "stream",
          "name": "stdout",
          "text": [
            "Requirement already satisfied: pandas in /usr/local/lib/python3.11/dist-packages (2.2.2)\n",
            "Requirement already satisfied: numpy>=1.23.2 in /usr/local/lib/python3.11/dist-packages (from pandas) (2.0.2)\n",
            "Requirement already satisfied: python-dateutil>=2.8.2 in /usr/local/lib/python3.11/dist-packages (from pandas) (2.8.2)\n",
            "Requirement already satisfied: pytz>=2020.1 in /usr/local/lib/python3.11/dist-packages (from pandas) (2025.2)\n",
            "Requirement already satisfied: tzdata>=2022.7 in /usr/local/lib/python3.11/dist-packages (from pandas) (2025.2)\n",
            "Requirement already satisfied: six>=1.5 in /usr/local/lib/python3.11/dist-packages (from python-dateutil>=2.8.2->pandas) (1.17.0)\n"
          ]
        }
      ]
    },
    {
      "cell_type": "markdown",
      "source": [
        "변수명은 아무거나 만들어도 되는데, 대신에 숫자로는 시작하면 안된다.\n",
        "[ ] 는 리스트형 데이터 즉, 목록형 데이터를 넣는 장치인데, 목록형 데이터에는 콤마로 해서 여러 element(원소,요소)를 넣을 수 있다.\n",
        "\n",
        "sr = pd.Series(list_data) #내가 시리즈 테이터를 만들어서 걔를 판다스라고 하는 이 라이브러리 안에서 이제 그 라이브러리의 시리즈라고 하는 클래스를 사용을 할 거다. 그러면 한 줄 짜리 데이터가 형성이 될 것임. 걔를 변수(sr)로 받은 것임."
      ],
      "metadata": {
        "id": "-FgZaeCaBoGe"
      }
    },
    {
      "cell_type": "code",
      "source": [
        "import pandas as pd\n",
        "list_data = ['2025-01-01', 3.14, 'ABC', 100, True]\n",
        "sr = pd.Series(list_data)  #sr에 할당할 거는 pd. pd.다음에는 이제 하위구조를 쓰겠다는 것이다. 판다스 라이브러리 안에 있는 시리즈 클래스를 사용을 한다. 이 시리즈 클래스를 사용을 해서 내가 여기에 할당한 리스트 데이터를 이 시리즈의 클래스로 사용을 해서 데이터를 정렬하겠다.\n",
        "print(sr)"
      ],
      "metadata": {
        "id": "fUPMD84aATKo",
        "colab": {
          "base_uri": "https://localhost:8080/"
        },
        "outputId": "5092d1b7-5b45-4662-f238-f4f87a61888f"
      },
      "execution_count": null,
      "outputs": [
        {
          "output_type": "stream",
          "name": "stdout",
          "text": [
            "0    2025-01-01\n",
            "1          3.14\n",
            "2           ABC\n",
            "3           100\n",
            "4          True\n",
            "dtype: object\n"
          ]
        }
      ]
    },
    {
      "cell_type": "code",
      "source": [
        "#@markdown <font color = 'red'> **🐹 Student Activity 1 [list data] ⤵️**\n",
        "!pip install pandas\n",
        "import pandas as pd\n",
        "list_data = ['2025-01-01', 3.14, 'ABC', 100, True]\n",
        "sr = pd.Series(list_data)\n",
        "print(sr)"
      ],
      "metadata": {
        "colab": {
          "base_uri": "https://localhost:8080/"
        },
        "id": "KSy0Rz6byu99",
        "outputId": "29b7bfa2-2ff6-40d0-e700-3a15c2fe4b86"
      },
      "execution_count": null,
      "outputs": [
        {
          "output_type": "stream",
          "name": "stdout",
          "text": [
            "Requirement already satisfied: pandas in /usr/local/lib/python3.11/dist-packages (2.2.2)\n",
            "Requirement already satisfied: numpy>=1.23.2 in /usr/local/lib/python3.11/dist-packages (from pandas) (2.0.2)\n",
            "Requirement already satisfied: python-dateutil>=2.8.2 in /usr/local/lib/python3.11/dist-packages (from pandas) (2.8.2)\n",
            "Requirement already satisfied: pytz>=2020.1 in /usr/local/lib/python3.11/dist-packages (from pandas) (2025.1)\n",
            "Requirement already satisfied: tzdata>=2022.7 in /usr/local/lib/python3.11/dist-packages (from pandas) (2025.1)\n",
            "Requirement already satisfied: six>=1.5 in /usr/local/lib/python3.11/dist-packages (from python-dateutil>=2.8.2->pandas) (1.17.0)\n",
            "0    2025-01-01\n",
            "1          3.14\n",
            "2           ABC\n",
            "3           100\n",
            "4          True\n",
            "dtype: object\n"
          ]
        }
      ]
    },
    {
      "cell_type": "markdown",
      "source": [
        "#### **dtype: object**\n",
        "\n",
        "- Pandas에서 dtype: object는 주로 문자열(텍스트) 데이터를 저장할 때 사용\n",
        "- 다양한 데이터 유형(문자, 숫자, 불리언 등)이 혼합된 경우에도 자동 적용\n",
        "- ➡️ 문자열(텍스트) 또는 다양한 데이터 타입을 포함할 수 있는 일반 객체 타입\n",
        "- 예제에서 리스트에 문자열, 숫자, 실수, 불리언 값이 섞여 있어서 object로 지정"
      ],
      "metadata": {
        "id": "JgT9y_0ziFcT"
      }
    },
    {
      "cell_type": "code",
      "source": [
        "import pandas as pd\n",
        "dict_data = {'a':1, 'b':2, 'c':3}\n",
        "sr=pd.Series(dict_data)\n",
        "print(sr)\n",
        "print('\\n')\n",
        "print(type(sr))"
      ],
      "metadata": {
        "colab": {
          "base_uri": "https://localhost:8080/"
        },
        "id": "M4GcmrG7JNpl",
        "outputId": "8225ae2f-64f5-4feb-f194-2ac701d68726"
      },
      "execution_count": null,
      "outputs": [
        {
          "output_type": "stream",
          "name": "stdout",
          "text": [
            "a    1\n",
            "b    2\n",
            "c    3\n",
            "dtype: int64\n",
            "\n",
            "\n",
            "<class 'pandas.core.series.Series'>\n"
          ]
        }
      ]
    },
    {
      "cell_type": "code",
      "source": [
        "import pandas as pd\n",
        "dict_data = {'a':1, 'b':2, 'c':3}\n",
        "sr=pd.Series(dict_data) #sr이라고 하는 변수명에 나는 판다스 라이브러리에 시리즈 클래스를 사용을 해서\n",
        "print(sr)   #시리즈 클래스를 적용시킨 딕셔너리\n",
        "print('\\n')  #라인을 삽입해라\n",
        "print(type(sr)) #시리즈 클래스를 적용시킨 딕셔너리 데이터의 타입이 뭔지 알고 싶으면"
      ],
      "metadata": {
        "colab": {
          "base_uri": "https://localhost:8080/"
        },
        "id": "FF2YSDK3gm6U",
        "outputId": "2853d750-e9b7-4390-e025-c5ba69863a75"
      },
      "execution_count": null,
      "outputs": [
        {
          "output_type": "stream",
          "name": "stdout",
          "text": [
            "a    1\n",
            "b    2\n",
            "c    3\n",
            "dtype: int64\n",
            "\n",
            "\n",
            "<class 'pandas.core.series.Series'>\n"
          ]
        }
      ]
    },
    {
      "cell_type": "code",
      "execution_count": null,
      "metadata": {
        "colab": {
          "base_uri": "https://localhost:8080/"
        },
        "id": "KdX5zx0yv-eO",
        "outputId": "cff16090-e44e-4462-fd36-f389775a4829"
      },
      "outputs": [
        {
          "output_type": "stream",
          "name": "stdout",
          "text": [
            "a    1\n",
            "b    2\n",
            "c    3\n",
            "dtype: int64\n",
            "\n",
            "\n",
            "<class 'pandas.core.series.Series'>\n"
          ]
        }
      ],
      "source": [
        "#@markdown <font color = 'red'> **🐹 Student Activity 2 {dictionary data} ⤵️**\n",
        "\n",
        "import pandas as pd\n",
        "dict_data = {'a':1, 'b':2, 'c':3}\n",
        "\n",
        "sr = pd.Series(dict_data)\n",
        "\n",
        "print(sr) #시리즈 클래스. 시리즈는 데이터가 순차적으로 나열된 1차원 배열\n",
        "print('\\n')\n",
        "print(type(sr)) #dtype: int64 (정수형)"
      ]
    },
    {
      "cell_type": "markdown",
      "source": [
        "🍀 pd.Series() is a class in Pandas, not just a function. It creates a one-dimensional labeled array capable of holding any data type (integers, floats, strings, Python objects, etc.).\n",
        "\n",
        "-> pd.Series()는 판다스(Pandas)에서 단순한 함수가 아닌 '클래스'입니다.\n",
        "이 클래스는 '라벨이 붙은 1차원 배열'을 만들어 주며, 정수(int), 실수(float), 문자열(str), 파이썬 객체 등 어떤 데이터 타입이든 저장할 수 있습니다.\n"
      ],
      "metadata": {
        "id": "AXUQkxwdKhC4"
      }
    },
    {
      "cell_type": "markdown",
      "source": [
        "Series() is a constructor for creating a Series object (i.e., a one-dimensional labeled array).\n",
        "\n",
        "-> Series()는 Series 객체(즉, 1차원 라벨이 붙은 배열)를 생성하기 위한 생성자(constructor)입니다."
      ],
      "metadata": {
        "id": "SgTWzNp0K6Gc"
      }
    },
    {
      "cell_type": "markdown",
      "source": [
        "pandas.Series() with two arguments separated by a comma\n",
        "\n",
        "-> 쉼표로 구분된 두 개의 인자를 사용한 pandas.Series() /여기서 말하는 two arguments(두 개의 인자)는 예를 들어:pandas.Series(data, index)\n",
        "이런 식으로 data와 index 를 뜻합니다."
      ],
      "metadata": {
        "id": "hxmQg9DTLOZK"
      }
    },
    {
      "cell_type": "markdown",
      "source": [
        "variable: 변수/ argument:"
      ],
      "metadata": {
        "id": "mxMoUKyJLicb"
      }
    },
    {
      "cell_type": "markdown",
      "source": [
        "🍀 pd.Series() is a class in Pandas, not just a function. It creates a one-dimensional labeled array capable of holding any data type (integers, floats, strings, Python objects, etc.).\n",
        "\n",
        "    Series() is a constructor for creating a Series object (i.e., a one-dimensional labeled array).\n",
        "\n",
        "\n",
        "##<font color = 'red'> **pandas.Series() with two arguments separated by a comma**\n",
        "  * argument1 -> variable name\n",
        "  * argument 2 -> index name\n",
        "\n",
        "   👀 🐾 **list data or tuple data with [Index values separated by a comma]**"
      ],
      "metadata": {
        "id": "7ancN9rwxZgh"
      }
    },
    {
      "cell_type": "code",
      "source": [
        "import pandas as pd\n",
        "tuple_data = ('Emma', '2000.12.25', 'Female', True)\n",
        "sr = pd.Series(tuple_data, index=['Name', 'DOB', 'Gender', 'Student'])\n",
        "print(sr)\n",
        "print('\\n')\n",
        "print(sr[3]) #중요!!!! True 가 나온다."
      ],
      "metadata": {
        "colab": {
          "base_uri": "https://localhost:8080/"
        },
        "id": "daDwb68_ZRYZ",
        "outputId": "30f46531-7e95-470f-ba04-a4ccef9de0e1"
      },
      "execution_count": null,
      "outputs": [
        {
          "output_type": "stream",
          "name": "stdout",
          "text": [
            "Name             Emma\n",
            "DOB        2000.12.25\n",
            "Gender         Female\n",
            "Student          True\n",
            "dtype: object\n",
            "\n",
            "\n",
            "True\n"
          ]
        },
        {
          "output_type": "stream",
          "name": "stderr",
          "text": [
            "<ipython-input-6-48a723b582d3>:6: FutureWarning: Series.__getitem__ treating keys as positions is deprecated. In a future version, integer keys will always be treated as labels (consistent with DataFrame behavior). To access a value by position, use `ser.iloc[pos]`\n",
            "  print(sr[3])\n"
          ]
        }
      ]
    },
    {
      "cell_type": "code",
      "source": [
        "import pandas as pd\n",
        "tuple_data = ('Emma', '2000.12.25', 'Female', True)\n",
        "sr= pd.Series(tuple_data, index = ['Name', 'DOB', 'Gender', 'Student'])\n",
        "print(sr)\n",
        "print('\\n')\n",
        "print(sr[1:3])   #sr데이터의 첫 번째 엘리먼트가 뭔지 궁금할 때"
      ],
      "metadata": {
        "colab": {
          "base_uri": "https://localhost:8080/"
        },
        "id": "XRrveBxGcB7w",
        "outputId": "f60a7ef7-11cb-418d-a7dd-2c97916efac7"
      },
      "execution_count": null,
      "outputs": [
        {
          "output_type": "stream",
          "name": "stdout",
          "text": [
            "Name             Emma\n",
            "DOB        2000.12.25\n",
            "Gender         Female\n",
            "Student          True\n",
            "dtype: object\n",
            "\n",
            "\n",
            "DOB       2000.12.25\n",
            "Gender        Female\n",
            "dtype: object\n"
          ]
        }
      ]
    },
    {
      "cell_type": "code",
      "source": [
        "트가 뭔지 궁금할 때import pandas as pd\n",
        "tuple_data = ('Emma', '2000.12.25', 'Female', True)\n",
        "sr= pd.Series(tuple_data, index = ['Name', 'DOB', 'Gender', 'Student'])\n",
        "print(sr)\n",
        "print('\\n')\n",
        "print(sr[1])   #sr데이터의 첫 번째 엘리먼트가 뭔지 궁금할 때\n",
        "print('\\n')\n",
        "print(type(sr))"
      ],
      "metadata": {
        "colab": {
          "base_uri": "https://localhost:8080/"
        },
        "id": "N8ucRCIiaoXe",
        "outputId": "0e0d96d6-af5b-4a14-cf85-d17784f9f45a"
      },
      "execution_count": null,
      "outputs": [
        {
          "output_type": "stream",
          "name": "stdout",
          "text": [
            "Name             Emma\n",
            "DOB        2000.12.25\n",
            "Gender         Female\n",
            "Student          True\n",
            "dtype: object\n",
            "\n",
            "\n",
            "2000.12.25\n",
            "\n",
            "\n",
            "<class 'pandas.core.series.Series'>\n"
          ]
        },
        {
          "output_type": "stream",
          "name": "stderr",
          "text": [
            "<ipython-input-10-bea737244f31>:6: FutureWarning: Series.__getitem__ treating keys as positions is deprecated. In a future version, integer keys will always be treated as labels (consistent with DataFrame behavior). To access a value by position, use `ser.iloc[pos]`\n",
            "  print(sr[1])   #sr데이터의 첫 번째 엘리먼트가 뭔지 궁금할 때\n"
          ]
        }
      ]
    },
    {
      "cell_type": "code",
      "source": [
        "import pandas as pd\n",
        "tuple_data = ('Emma', '2000.12.25', 'Female', True)\n",
        "sr = pd.Series(tuple_data, index=['Name', 'DOB', 'Gender', 'Student'])\n",
        "print(sr)\n",
        "print('\\n')\n",
        "print(sr['Student'])"
      ],
      "metadata": {
        "colab": {
          "base_uri": "https://localhost:8080/"
        },
        "id": "LEmfPM5vjpfa",
        "outputId": "bd10b832-5c77-482c-ef24-b03129cfa9a2"
      },
      "execution_count": null,
      "outputs": [
        {
          "output_type": "stream",
          "name": "stdout",
          "text": [
            "Name             Emma\n",
            "DOB        2000.12.25\n",
            "Gender         Female\n",
            "Student          True\n",
            "dtype: object\n",
            "\n",
            "\n",
            "True\n"
          ]
        }
      ]
    },
    {
      "cell_type": "code",
      "source": [
        "import pandas as pd\n",
        "tuple_data = ('Emma', '2000.12.25', 'Female', True)\n",
        "sr = pd.Series(tuple_data, index=['Name', 'DOB', 'Gender', 'Student'])\n",
        "print(sr)\n",
        "print('\\n')\n",
        "print(sr['DOB'])"
      ],
      "metadata": {
        "colab": {
          "base_uri": "https://localhost:8080/"
        },
        "id": "EnPF7VIDcX5I",
        "outputId": "0c443c27-d167-462e-99ff-820722b054db"
      },
      "execution_count": null,
      "outputs": [
        {
          "output_type": "stream",
          "name": "stdout",
          "text": [
            "Name             Emma\n",
            "DOB        2000.12.25\n",
            "Gender         Female\n",
            "Student          True\n",
            "dtype: object\n",
            "\n",
            "\n",
            "2000.12.25\n"
          ]
        }
      ]
    },
    {
      "cell_type": "code",
      "source": [
        "#@markdown <font color = 'red'> **🐹 Student Activity 3 (tuple data) ⤵️**\n",
        "import pandas as pd\n",
        "tuple_data = ('Emma', '2000.12.25', 'Female', True)\n",
        "sr = pd.Series(tuple_data, index=['Name', 'DOB', 'Gender', 'Student'])\n",
        "print(sr)\n",
        "print('\\n')\n",
        "print(sr[0])\n",
        "print('\\n')\n",
        "print(sr['Name'])"
      ],
      "metadata": {
        "colab": {
          "base_uri": "https://localhost:8080/"
        },
        "id": "lLLBsDAo2ka7",
        "outputId": "b3f2ff47-00e7-48a5-df25-c96cf2674382"
      },
      "execution_count": null,
      "outputs": [
        {
          "output_type": "stream",
          "name": "stdout",
          "text": [
            "Name             Emma\n",
            "DOB        2000.12.25\n",
            "Gender         Female\n",
            "Student          True\n",
            "dtype: object\n",
            "\n",
            "\n",
            "Emma\n",
            "\n",
            "\n",
            "Emma\n"
          ]
        },
        {
          "output_type": "stream",
          "name": "stderr",
          "text": [
            "<ipython-input-14-d79a0f6b323c>:7: FutureWarning: Series.__getitem__ treating keys as positions is deprecated. In a future version, integer keys will always be treated as labels (consistent with DataFrame behavior). To access a value by position, use `ser.iloc[pos]`\n",
            "  print(sr[0])\n"
          ]
        }
      ]
    },
    {
      "cell_type": "markdown",
      "source": [
        "👀 🐾 **Print part of list data**\n",
        "* print([]) 대괄호 사용\n",
        "* use additional [ ] for an embedded list"
      ],
      "metadata": {
        "id": "VPENJrgJyeE5"
      }
    },
    {
      "cell_type": "markdown",
      "source": [
        "리스트 안에 또 다른 리스트를 넣을 때는, 대괄호를 추가로 사용해야 합니다.\"-> (use additional [ ] for an embedded list)"
      ],
      "metadata": {
        "id": "efKzSd32kFJn"
      }
    },
    {
      "cell_type": "code",
      "source": [
        "import pandas as pd\n",
        "tuple_data = ('Emma', '2000.12.25', 'Female', True)\n",
        "sr = pd.Series(tuple_data, index=['Name', 'DOB', 'Gender', 'Student'])\n",
        "print(sr[1,2]) # 두개 넣을 때는 이렇게 쓰면 안된다!!!!!!!"
      ],
      "metadata": {
        "colab": {
          "base_uri": "https://localhost:8080/",
          "height": 329
        },
        "id": "g48rsea_kaOO",
        "outputId": "10458897-62cb-4884-b78f-03efe911f9f3"
      },
      "execution_count": null,
      "outputs": [
        {
          "output_type": "error",
          "ename": "KeyError",
          "evalue": "'key of type tuple not found and not a MultiIndex'",
          "traceback": [
            "\u001b[0;31m---------------------------------------------------------------------------\u001b[0m",
            "\u001b[0;31mKeyError\u001b[0m                                  Traceback (most recent call last)",
            "\u001b[0;32m<ipython-input-14-1d94953e2270>\u001b[0m in \u001b[0;36m<cell line: 0>\u001b[0;34m()\u001b[0m\n\u001b[1;32m      2\u001b[0m \u001b[0mtuple_data\u001b[0m \u001b[0;34m=\u001b[0m \u001b[0;34m(\u001b[0m\u001b[0;34m'Emma'\u001b[0m\u001b[0;34m,\u001b[0m \u001b[0;34m'2000.12.25'\u001b[0m\u001b[0;34m,\u001b[0m \u001b[0;34m'Female'\u001b[0m\u001b[0;34m,\u001b[0m \u001b[0;32mTrue\u001b[0m\u001b[0;34m)\u001b[0m\u001b[0;34m\u001b[0m\u001b[0;34m\u001b[0m\u001b[0m\n\u001b[1;32m      3\u001b[0m \u001b[0msr\u001b[0m \u001b[0;34m=\u001b[0m \u001b[0mpd\u001b[0m\u001b[0;34m.\u001b[0m\u001b[0mSeries\u001b[0m\u001b[0;34m(\u001b[0m\u001b[0mtuple_data\u001b[0m\u001b[0;34m,\u001b[0m \u001b[0mindex\u001b[0m\u001b[0;34m=\u001b[0m\u001b[0;34m[\u001b[0m\u001b[0;34m'Name'\u001b[0m\u001b[0;34m,\u001b[0m \u001b[0;34m'DOB'\u001b[0m\u001b[0;34m,\u001b[0m \u001b[0;34m'Gender'\u001b[0m\u001b[0;34m,\u001b[0m \u001b[0;34m'Student'\u001b[0m\u001b[0;34m]\u001b[0m\u001b[0;34m)\u001b[0m\u001b[0;34m\u001b[0m\u001b[0;34m\u001b[0m\u001b[0m\n\u001b[0;32m----> 4\u001b[0;31m \u001b[0mprint\u001b[0m\u001b[0;34m(\u001b[0m\u001b[0msr\u001b[0m\u001b[0;34m[\u001b[0m\u001b[0;36m1\u001b[0m\u001b[0;34m,\u001b[0m\u001b[0;36m2\u001b[0m\u001b[0;34m]\u001b[0m\u001b[0;34m)\u001b[0m\u001b[0;34m\u001b[0m\u001b[0;34m\u001b[0m\u001b[0m\n\u001b[0m",
            "\u001b[0;32m/usr/local/lib/python3.11/dist-packages/pandas/core/series.py\u001b[0m in \u001b[0;36m__getitem__\u001b[0;34m(self, key)\u001b[0m\n\u001b[1;32m   1151\u001b[0m             \u001b[0;32mreturn\u001b[0m \u001b[0mself\u001b[0m\u001b[0;34m.\u001b[0m\u001b[0m_get_rows_with_mask\u001b[0m\u001b[0;34m(\u001b[0m\u001b[0mkey\u001b[0m\u001b[0;34m)\u001b[0m\u001b[0;34m\u001b[0m\u001b[0;34m\u001b[0m\u001b[0m\n\u001b[1;32m   1152\u001b[0m \u001b[0;34m\u001b[0m\u001b[0m\n\u001b[0;32m-> 1153\u001b[0;31m         \u001b[0;32mreturn\u001b[0m \u001b[0mself\u001b[0m\u001b[0;34m.\u001b[0m\u001b[0m_get_with\u001b[0m\u001b[0;34m(\u001b[0m\u001b[0mkey\u001b[0m\u001b[0;34m)\u001b[0m\u001b[0;34m\u001b[0m\u001b[0;34m\u001b[0m\u001b[0m\n\u001b[0m\u001b[1;32m   1154\u001b[0m \u001b[0;34m\u001b[0m\u001b[0m\n\u001b[1;32m   1155\u001b[0m     \u001b[0;32mdef\u001b[0m \u001b[0m_get_with\u001b[0m\u001b[0;34m(\u001b[0m\u001b[0mself\u001b[0m\u001b[0;34m,\u001b[0m \u001b[0mkey\u001b[0m\u001b[0;34m)\u001b[0m\u001b[0;34m:\u001b[0m\u001b[0;34m\u001b[0m\u001b[0;34m\u001b[0m\u001b[0m\n",
            "\u001b[0;32m/usr/local/lib/python3.11/dist-packages/pandas/core/series.py\u001b[0m in \u001b[0;36m_get_with\u001b[0;34m(self, key)\u001b[0m\n\u001b[1;32m   1161\u001b[0m             )\n\u001b[1;32m   1162\u001b[0m         \u001b[0;32melif\u001b[0m \u001b[0misinstance\u001b[0m\u001b[0;34m(\u001b[0m\u001b[0mkey\u001b[0m\u001b[0;34m,\u001b[0m \u001b[0mtuple\u001b[0m\u001b[0;34m)\u001b[0m\u001b[0;34m:\u001b[0m\u001b[0;34m\u001b[0m\u001b[0;34m\u001b[0m\u001b[0m\n\u001b[0;32m-> 1163\u001b[0;31m             \u001b[0;32mreturn\u001b[0m \u001b[0mself\u001b[0m\u001b[0;34m.\u001b[0m\u001b[0m_get_values_tuple\u001b[0m\u001b[0;34m(\u001b[0m\u001b[0mkey\u001b[0m\u001b[0;34m)\u001b[0m\u001b[0;34m\u001b[0m\u001b[0;34m\u001b[0m\u001b[0m\n\u001b[0m\u001b[1;32m   1164\u001b[0m \u001b[0;34m\u001b[0m\u001b[0m\n\u001b[1;32m   1165\u001b[0m         \u001b[0;32melif\u001b[0m \u001b[0;32mnot\u001b[0m \u001b[0mis_list_like\u001b[0m\u001b[0;34m(\u001b[0m\u001b[0mkey\u001b[0m\u001b[0;34m)\u001b[0m\u001b[0;34m:\u001b[0m\u001b[0;34m\u001b[0m\u001b[0;34m\u001b[0m\u001b[0m\n",
            "\u001b[0;32m/usr/local/lib/python3.11/dist-packages/pandas/core/series.py\u001b[0m in \u001b[0;36m_get_values_tuple\u001b[0;34m(self, key)\u001b[0m\n\u001b[1;32m   1205\u001b[0m \u001b[0;34m\u001b[0m\u001b[0m\n\u001b[1;32m   1206\u001b[0m         \u001b[0;32mif\u001b[0m \u001b[0;32mnot\u001b[0m \u001b[0misinstance\u001b[0m\u001b[0;34m(\u001b[0m\u001b[0mself\u001b[0m\u001b[0;34m.\u001b[0m\u001b[0mindex\u001b[0m\u001b[0;34m,\u001b[0m \u001b[0mMultiIndex\u001b[0m\u001b[0;34m)\u001b[0m\u001b[0;34m:\u001b[0m\u001b[0;34m\u001b[0m\u001b[0;34m\u001b[0m\u001b[0m\n\u001b[0;32m-> 1207\u001b[0;31m             \u001b[0;32mraise\u001b[0m \u001b[0mKeyError\u001b[0m\u001b[0;34m(\u001b[0m\u001b[0;34m\"key of type tuple not found and not a MultiIndex\"\u001b[0m\u001b[0;34m)\u001b[0m\u001b[0;34m\u001b[0m\u001b[0;34m\u001b[0m\u001b[0m\n\u001b[0m\u001b[1;32m   1208\u001b[0m \u001b[0;34m\u001b[0m\u001b[0m\n\u001b[1;32m   1209\u001b[0m         \u001b[0;31m# If key is contained, would have returned by now\u001b[0m\u001b[0;34m\u001b[0m\u001b[0;34m\u001b[0m\u001b[0m\n",
            "\u001b[0;31mKeyError\u001b[0m: 'key of type tuple not found and not a MultiIndex'"
          ]
        }
      ]
    },
    {
      "cell_type": "markdown",
      "source": [
        "#250331_103355 녹음"
      ],
      "metadata": {
        "id": "gx0Tyq06mttn"
      }
    },
    {
      "cell_type": "code",
      "source": [
        "import pandas as pd\n",
        "tuple_data = ('Emma', '2000.12.25', 'Female', True)\n",
        "sr = pd.Series(tuple_data, index=['Name', 'DOB', 'Gender', 'Student'])\n",
        "print(sr[[0,3]])   # 두 개를 각각 지정하는 것을 보여주기 위해서는 콤마 사용하고 대괄호[]를 한번 더 넣어야 됨."
      ],
      "metadata": {
        "colab": {
          "base_uri": "https://localhost:8080/"
        },
        "id": "T5PP7R6ilmGR",
        "outputId": "d5aadef6-7ab5-4db7-8b24-1489e0223e67"
      },
      "execution_count": null,
      "outputs": [
        {
          "output_type": "stream",
          "name": "stdout",
          "text": [
            "Name       Emma\n",
            "Student    True\n",
            "dtype: object\n"
          ]
        },
        {
          "output_type": "stream",
          "name": "stderr",
          "text": [
            "<ipython-input-16-3fcf4c9cc58d>:4: FutureWarning: Series.__getitem__ treating keys as positions is deprecated. In a future version, integer keys will always be treated as labels (consistent with DataFrame behavior). To access a value by position, use `ser.iloc[pos]`\n",
            "  print(sr[[0,3]])   # 두 개를 각각 지정하는 것을 보여주기 위해서는 콤마 사용하고 대괄호[]를 한번 더 넣어야 됨.\n"
          ]
        }
      ]
    },
    {
      "cell_type": "code",
      "source": [
        "import pandas as pd\n",
        "tuple_data = ('Emma', '2000.12.25', 'Female', True)\n",
        "sr = pd.Series(tuple_data, index=['Name', 'DOB', 'Gender', 'Student'])\n",
        "print(sr[['Name', 'Gender']])   # 두 개를 각각 지정하는 것을 보여주기 위해서는 콤마 사용하고 대괄호[]를 한번 더 넣어야 됨."
      ],
      "metadata": {
        "colab": {
          "base_uri": "https://localhost:8080/"
        },
        "id": "iyLmeQfepvpW",
        "outputId": "923aa77f-28b6-498f-d48e-4d5955503a08"
      },
      "execution_count": null,
      "outputs": [
        {
          "output_type": "stream",
          "name": "stdout",
          "text": [
            "Name        Emma\n",
            "Gender    Female\n",
            "dtype: object\n"
          ]
        }
      ]
    },
    {
      "cell_type": "code",
      "source": [
        "#@markdown <font color = 'red'> **🐹 Student Activity 4 ⤵️**\n",
        "\n",
        "#@markdown <font color = 'red'> **Print part of [list data]**\n",
        "\n",
        "import pandas as pd\n",
        "tuple_data = ('Emma', '2000.12.25', 'Female', True)\n",
        "\n",
        " #정수형 위치 인덱스 대신 인덱스 이름을 따로 지정\n",
        "sr = pd.Series(tuple_data, index=['Name', 'DOB', 'Gender', 'Student'])\n",
        "\n",
        "print(sr[[1,2]])\n",
        "print('\\n')\n",
        "print(sr[['DOB','Gender']])"
      ],
      "metadata": {
        "colab": {
          "base_uri": "https://localhost:8080/"
        },
        "id": "_s-Hbotn6Fhr",
        "outputId": "e5f873cc-ee74-4e45-aeea-af4054b51e60"
      },
      "execution_count": null,
      "outputs": [
        {
          "output_type": "stream",
          "name": "stdout",
          "text": [
            "DOB       2000.12.25\n",
            "Gender        Female\n",
            "dtype: object\n",
            "\n",
            "\n",
            "DOB       2000.12.25\n",
            "Gender        Female\n",
            "dtype: object\n"
          ]
        },
        {
          "output_type": "stream",
          "name": "stderr",
          "text": [
            "<ipython-input-15-aa80936a9123>:11: FutureWarning: Series.__getitem__ treating keys as positions is deprecated. In a future version, integer keys will always be treated as labels (consistent with DataFrame behavior). To access a value by position, use `ser.iloc[pos]`\n",
            "  print(sr[[1,2]])\n"
          ]
        }
      ]
    },
    {
      "cell_type": "markdown",
      "source": [
        "#⚽ ⚽ ⚽ Do it yourself!\n",
        "\n",
        "Q: Write a script to print first element and third element with the same tuple_data above."
      ],
      "metadata": {
        "id": "FmNbIiZUmWfW"
      }
    },
    {
      "cell_type": "code",
      "source": [
        "#@markdown <font color = 'red'> **🐹 Answer ⤴️**\n",
        "\n",
        "import pandas as pd\n",
        "tuple_data = ('Emma', '2000.12.25', 'Female', True)\n",
        "\n",
        " #정수형 위치 인덱스 대신 인덱스 이름을 따로 지정\n",
        "sr = pd.Series(tuple_data, index=['Name', 'DOB', 'Gender', 'Student'])\n",
        "\n",
        "print(sr[[0,2]]) #첫 번째 요소는 Emma 이다.\n",
        "print('\\n')\n",
        "print(sr[['Name','Gender']])"
      ],
      "metadata": {
        "colab": {
          "base_uri": "https://localhost:8080/"
        },
        "id": "RVVn59jgm48Z",
        "outputId": "13c3673a-83aa-4613-e246-7359bba367f0"
      },
      "execution_count": null,
      "outputs": [
        {
          "output_type": "stream",
          "name": "stdout",
          "text": [
            "Name        Emma\n",
            "Gender    Female\n",
            "dtype: object\n",
            "\n",
            "\n",
            "Name        Emma\n",
            "Gender    Female\n",
            "dtype: object\n"
          ]
        },
        {
          "output_type": "stream",
          "name": "stderr",
          "text": [
            "<ipython-input-18-159ee421fd73>:9: FutureWarning: Series.__getitem__ treating keys as positions is deprecated. In a future version, integer keys will always be treated as labels (consistent with DataFrame behavior). To access a value by position, use `ser.iloc[pos]`\n",
            "  print(sr[[0,2]])\n"
          ]
        }
      ]
    }
  ]
}